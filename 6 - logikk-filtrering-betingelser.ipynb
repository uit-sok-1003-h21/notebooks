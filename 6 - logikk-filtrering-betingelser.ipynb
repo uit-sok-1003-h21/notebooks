{
 "cells": [
  {
   "cell_type": "markdown",
   "id": "a94965cd",
   "metadata": {},
   "source": [
    "##### [< Forrige](6%20-%20oppslag%20og%20pandas.ipynb)     |     [Neste >](7%20-%20løkker.ipynb)"
   ]
  },
  {
   "cell_type": "markdown",
   "id": "f5309ed7",
   "metadata": {},
   "source": [
    "# 6 - Logikk, filtrering og betingelser"
   ]
  },
  {
   "cell_type": "markdown",
   "id": "88fcaa4a",
   "metadata": {},
   "source": [
    "# Logikk"
   ]
  },
  {
   "cell_type": "markdown",
   "id": "a3e5a3d5",
   "metadata": {},
   "source": [
    "Noe av det vi gjør oftest når vi programmerer er å teste om en betingelse er sann eller usann. Når testen er utført, kan programmet velge riktig vei å gå i fortsettelsen. Slik testing kalles \"logikk\". Vi har allerede i innledningen vært inne på variabeltypen som avgjør om en test er sann eller usann, typen `bool`. \n",
    "\n"
   ]
  },
  {
   "cell_type": "markdown",
   "id": "4beff551",
   "metadata": {},
   "source": [
    "##### [< Forrige](6%20-%20oppslag%20og%20pandas.ipynb)     |     [Neste >](7%20-%20løkker.ipynb)"
   ]
  }
 ],
 "metadata": {
  "kernelspec": {
   "display_name": "Python 3",
   "language": "python",
   "name": "python3"
  },
  "language_info": {
   "codemirror_mode": {
    "name": "ipython",
    "version": 3
   },
   "file_extension": ".py",
   "mimetype": "text/x-python",
   "name": "python",
   "nbconvert_exporter": "python",
   "pygments_lexer": "ipython3",
   "version": "3.7.5"
  }
 },
 "nbformat": 4,
 "nbformat_minor": 5
}
