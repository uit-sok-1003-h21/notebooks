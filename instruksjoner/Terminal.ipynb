{
 "cells": [
  {
   "cell_type": "markdown",
   "id": "76434b12",
   "metadata": {},
   "source": [
    "# Terminal"
   ]
  },
  {
   "cell_type": "markdown",
   "id": "6d000501",
   "metadata": {},
   "source": [
    "<img align=\"left\" src=\"assets/new.png\" style=\"padding:20px;\" width=300>Ved hjelp av Terminal kan vi gi instruksjoner som ikke er tilgjengelig i JupyterLabs grafiske grensesnitt. Du åpner Terminal ved å trykke på + tegnet oppe til venstre (bilde til venstre)\n",
    "\n",
    "\n",
    "<img align=\"right\" src=\"assets/terminal-open.png\" style=\"padding:20px;\">Du velger så \"Terminal\" i \"launcher\"-fanen som dukker opp til høyre (bilde til høyre).\n",
    "    \n"
   ]
  },
  {
   "cell_type": "markdown",
   "id": "a3215f5c",
   "metadata": {},
   "source": [
    " Du får nå opp en svart skjerm med følgende tekst oppe til venstre\n",
    " \n",
    "         [<brukernavn>@ad.uit.no@jupyt03 ~]$ \n",
    "         \n",
    "... der `<brukernavn>` er ditt brukernavn. Tegnet `~` viser at du er i \"rot-mappen\". Det vil si den høyeste mappen i mappehierarkiet på ditt område. "
   ]
  },
  {
   "cell_type": "markdown",
   "id": "8c927605",
   "metadata": {},
   "source": [
    "## Lage en ny undermappe:"
   ]
  },
  {
   "cell_type": "markdown",
   "id": "9d7aebdc",
   "metadata": {},
   "source": [
    "        mkdir minmappe"
   ]
  },
  {
   "cell_type": "markdown",
   "id": "b897a8aa",
   "metadata": {},
   "source": [
    "Der `minmappe` er navnet på mappen du lager"
   ]
  },
  {
   "cell_type": "markdown",
   "id": "059cee98",
   "metadata": {},
   "source": [
    "## Gå inn i undermappe:"
   ]
  },
  {
   "cell_type": "markdown",
   "id": "5feac3f8",
   "metadata": {},
   "source": [
    "        cd minmappe"
   ]
  },
  {
   "cell_type": "markdown",
   "id": "9fc64652",
   "metadata": {},
   "source": [
    "Du vil nå se at teksten foran innsetningspunktet skifter til"
   ]
  },
  {
   "cell_type": "markdown",
   "id": "99cd70ec",
   "metadata": {},
   "source": [
    "         [<brukernavn>@ad.uit.no@jupyt03 minmappe]$ "
   ]
  },
  {
   "cell_type": "markdown",
   "id": "56c0f736",
   "metadata": {},
   "source": [
    "`~` har altså skiftet til `minmappe` fordi du nå er i mappen \"minmappe\"."
   ]
  },
  {
   "cell_type": "markdown",
   "id": "46e9948e",
   "metadata": {},
   "source": [
    "## Gå opp fra undermappe"
   ]
  },
  {
   "cell_type": "markdown",
   "id": "13e1fe78",
   "metadata": {},
   "source": [
    "Du kan gå opp fra undermappen ved å skrive"
   ]
  },
  {
   "cell_type": "markdown",
   "id": "45c8f4c9",
   "metadata": {},
   "source": [
    "        cd .."
   ]
  },
  {
   "cell_type": "markdown",
   "id": "5a3c07de",
   "metadata": {},
   "source": [
    "Teksten foran innsetningspunktet skifter da tilbake til symbolet for rotmappen: \n",
    "\n",
    "        [<brukernavn>@ad.uit.no@jupyt03 ~]$"
   ]
  },
  {
   "cell_type": "markdown",
   "id": "456e1d33",
   "metadata": {},
   "source": [
    "# Se innhold"
   ]
  },
  {
   "cell_type": "markdown",
   "id": "278f5563",
   "metadata": {},
   "source": [
    "Du kan se innholdet av mappen du er i, ved å skrive"
   ]
  },
  {
   "cell_type": "markdown",
   "id": "5c552ca5",
   "metadata": {},
   "source": [
    "        dir"
   ]
  },
  {
   "cell_type": "markdown",
   "id": "49b8a06e",
   "metadata": {},
   "source": [
    "# Slette undermappe"
   ]
  },
  {
   "cell_type": "markdown",
   "id": "53465390",
   "metadata": {},
   "source": [
    "For å slette undermappen minmappe skriver du"
   ]
  },
  {
   "cell_type": "markdown",
   "id": "17dcc45b",
   "metadata": {},
   "source": [
    "        rmdir minmappe"
   ]
  },
  {
   "cell_type": "markdown",
   "id": "6cbbe4ea",
   "metadata": {},
   "source": [
    "Bruk aldri denne uten at du er sikker på hva du gjør. Mappen kan ikke gjenopprettes etter at den er slettet."
   ]
  },
  {
   "cell_type": "markdown",
   "id": "91d41a11",
   "metadata": {},
   "source": [
    "# Slette undermappe og alle filer i undermappen"
   ]
  },
  {
   "cell_type": "markdown",
   "id": "3a663427",
   "metadata": {},
   "source": [
    "         rm -r <navn på mappe>"
   ]
  }
 ],
 "metadata": {
  "kernelspec": {
   "display_name": "Python 3",
   "language": "python",
   "name": "python3"
  },
  "language_info": {
   "codemirror_mode": {
    "name": "ipython",
    "version": 3
   },
   "file_extension": ".py",
   "mimetype": "text/x-python",
   "name": "python",
   "nbconvert_exporter": "python",
   "pygments_lexer": "ipython3",
   "version": "3.8.10"
  }
 },
 "nbformat": 4,
 "nbformat_minor": 5
}
