{
 "cells": [
  {
   "cell_type": "markdown",
   "id": "76434b12",
   "metadata": {},
   "source": [
    "## Terminal"
   ]
  },
  {
   "cell_type": "markdown",
   "id": "6d000501",
   "metadata": {},
   "source": [
    "<img align=\"left\" src=\"assets/new.png\" style=\"padding:20px;\">Ved hjelp av Terminal kan vi gi instruksjoner som ikke er tilgjengelig i JupyterLabs grafiske grensesnitt. Du åpner Terminal ved å trykke på + tegnet oppe til venstre. \n",
    "\n",
    "\n",
    "<img align=\"right\" src=\"assets/terminal-open.png\" style=\"padding:20px;\">Du velger så \"Terminal\" i \"launcher\"-fanen som dukker opp til høyre. \n",
    "    \n"
   ]
  },
  {
   "cell_type": "code",
   "execution_count": null,
   "id": "0bce4e6a",
   "metadata": {},
   "outputs": [],
   "source": [
    " [esi000@ad.uit.no@jupyt03 ~]$ "
   ]
  }
 ],
 "metadata": {
  "kernelspec": {
   "display_name": "Python 3",
   "language": "python",
   "name": "python3"
  },
  "language_info": {
   "codemirror_mode": {
    "name": "ipython",
    "version": 3
   },
   "file_extension": ".py",
   "mimetype": "text/x-python",
   "name": "python",
   "nbconvert_exporter": "python",
   "pygments_lexer": "ipython3",
   "version": "3.8.10"
  }
 },
 "nbformat": 4,
 "nbformat_minor": 5
}
