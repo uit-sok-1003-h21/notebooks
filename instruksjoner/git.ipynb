{
 "cells": [
  {
   "cell_type": "markdown",
   "id": "c1a5b3c0",
   "metadata": {},
   "source": [
    "# Git:"
   ]
  },
  {
   "cell_type": "markdown",
   "id": "12e573be",
   "metadata": {},
   "source": [
    "## Kopiere repositoriet notebooks fra kurssiden \"uit-sok-1003-h21\": "
   ]
  },
  {
   "cell_type": "markdown",
   "id": "bd427c59",
   "metadata": {},
   "source": [
    "\n",
    "\n",
    " \n",
    "         git clone https://github.com/uit-sok-1003-h21/notebooks/\n",
    "\n",
    " \n",
    "\n"
   ]
  },
  {
   "cell_type": "markdown",
   "id": "d2e97e1c",
   "metadata": {},
   "source": [
    "## Hente fra repositorie"
   ]
  },
  {
   "cell_type": "markdown",
   "id": "8aa6d0e1",
   "metadata": {},
   "source": [
    "   \n",
    "         git pull\n"
   ]
  },
  {
   "cell_type": "markdown",
   "id": "113f8d47",
   "metadata": {},
   "source": [
    "## Før pull, dersom filene har endret seg lokalt:"
   ]
  },
  {
   "cell_type": "markdown",
   "id": "9ed99200",
   "metadata": {},
   "source": [
    "\n",
    "- Om du vil overskrive de lokale filene (du mister alle lokale endringer!!):\n",
    "         \n",
    "         git reset --hard\n",
    "         git pull\n",
    "- Dersom filene har endret seg lokalt, men du vil ta vare på endringene:\n",
    "     \n",
    "         git stash\n",
    "         \n",
    "         \n"
   ]
  },
  {
   "cell_type": "markdown",
   "id": "e674d16b",
   "metadata": {},
   "source": [
    "\n",
    " # Om du har gjort endringer som du ønsker skal dyttes til repositoriet"
   ]
  },
  {
   "cell_type": "markdown",
   "id": "f14e5ba6",
   "metadata": {},
   "source": [
    "     \n",
    "commit og dytte repositorie: \n",
    " \n",
    "         git add .\n",
    "         git commit -m \"text\"\n",
    "         git push"
   ]
  },
  {
   "cell_type": "markdown",
   "id": "62083532",
   "metadata": {},
   "source": [
    "# Lage et nytt repositorie"
   ]
  },
  {
   "cell_type": "markdown",
   "id": "f78707c2",
   "metadata": {},
   "source": [
    "1. Lag en ny mappe med navnet på ditt repositorie, la oss kallet det minrepo her, og gå inn i mappen:\n",
    "    mkdir minrepo\n",
    "    cd minrepo\n",
    "2. Lag filene du vil i mappen. Du kan for eksempel lage en readme-fil slik:\n",
    "\n",
    "        echo \"#Dette er et repositorie for kanonbra kode!\" >> README.md\n",
    "3. Gå på https://github.com/ og lag en bruker, om du ikke allerede har gjort det, klikk på \"Repositories\" øverst og så \"New\" og gi repoen navnet \"minrepo\"\n",
    "4. Skriv in følgende kommandoer i Terminal:\n",
    "        \n",
    "        git init\n",
    "        git add .\n",
    "        git commit -m \"first commit\"\n",
    "        git branch -M main\n",
    "        git remote add origin https://github.com/espensirnes/minrepo.git\n",
    "        git push -u origin main\n",
    "        \n",
    "Du kan nå sjekke at README.md og eventuelle andre lokale filer er lastet opp på https://github.com/"
   ]
  },
  {
   "cell_type": "code",
   "execution_count": null,
   "id": "191d33c8",
   "metadata": {},
   "outputs": [],
   "source": []
  }
 ],
 "metadata": {
  "kernelspec": {
   "display_name": "Python 3",
   "language": "python",
   "name": "python3"
  },
  "language_info": {
   "codemirror_mode": {
    "name": "ipython",
    "version": 3
   },
   "file_extension": ".py",
   "mimetype": "text/x-python",
   "name": "python",
   "nbconvert_exporter": "python",
   "pygments_lexer": "ipython3",
   "version": "3.8.10"
  }
 },
 "nbformat": 4,
 "nbformat_minor": 5
}
