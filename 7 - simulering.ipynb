{
 "cells": [
  {
   "cell_type": "markdown",
   "id": "e98843b0",
   "metadata": {},
   "source": [
    "##### [< Forrige](7%20-%20løkker.ipynb)     |    <span style=\"color:lightgrey\">Neste$>$</span> "
   ]
  },
  {
   "cell_type": "markdown",
   "id": "e90fd7f5",
   "metadata": {},
   "source": [
    "# 7 - Simulering"
   ]
  },
  {
   "cell_type": "markdown",
   "id": "d1afff88",
   "metadata": {},
   "source": [
    "Kommer ..."
   ]
  },
  {
   "cell_type": "markdown",
   "id": "fb065d86",
   "metadata": {},
   "source": [
    "##### [< Forrige](7%20-%20løkker.ipynb)     |    <span style=\"color:lightgrey\">Neste$>$</span> "
   ]
  }
 ],
 "metadata": {
  "kernelspec": {
   "display_name": "Python 3",
   "language": "python",
   "name": "python3"
  },
  "language_info": {
   "codemirror_mode": {
    "name": "ipython",
    "version": 3
   },
   "file_extension": ".py",
   "mimetype": "text/x-python",
   "name": "python",
   "nbconvert_exporter": "python",
   "pygments_lexer": "ipython3",
   "version": "3.7.5"
  }
 },
 "nbformat": 4,
 "nbformat_minor": 5
}
