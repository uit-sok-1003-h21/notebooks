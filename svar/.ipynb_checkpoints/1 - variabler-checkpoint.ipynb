{
 "cells": [
  {
   "cell_type": "markdown",
   "metadata": {},
   "source": [
    "# Oppgaver"
   ]
  },
  {
   "cell_type": "markdown",
   "metadata": {},
   "source": [
    "#### Oppgave 1\n",
    "\n",
    "Bruk koden i Eksempel 14, men fjern `\\n` og se hva som skjer"
   ]
  },
  {
   "cell_type": "code",
   "execution_count": null,
   "metadata": {},
   "outputs": [],
   "source": [
    "print(\n",
    "    f\"Det er {apple_is_tasty} at jeg synes epler smaker godt. \"\n",
    "    f\"Jeg gikk derfor på butikken for å kjøpe {number_of_apples} epler. \"\n",
    "    f\"Kjøpmannen gav meg en vanvittig pris. Han skulle ha {insane_apple_price} kroner per eple. \"\n",
    "    f\"Jeg fortalte henne at det var helt uaktuelt, og foreslo {really_cheap_apple_price} kroner.\"\n",
    "    f\"Hun avslo, men vi ble til sist enige om {apple_price} kroner.\"\n",
    "    f\"Jeg betalte hennet til sammen {apple_price*number_of_apples} kroner og dro hjem. \"\n",
    "    f\"På veien traff jeg {number_of_persons} venner. Jeg hadde ikke noe annet valg enn å dele eplene mine med dem. \"\n",
    "    f\"Det ble {number_of_apples/number_of_persons} epler per person.\"\n",
    ")"
   ]
  },
  {
   "cell_type": "markdown",
   "metadata": {},
   "source": [
    "#### Oppgave 2\n",
    "Lag variabler som du putter inn i en historie som i Eksempel 14"
   ]
  },
  {
   "cell_type": "code",
   "execution_count": null,
   "metadata": {},
   "outputs": [],
   "source": []
  },
  {
   "cell_type": "markdown",
   "metadata": {},
   "source": [
    "#### Oppgave 3\n",
    "a) Hvilke variabler kan brukes sammen med multiplikasjonsoperatoren `*`? \n",
    "\n",
    "(multipliser sammen variabeltypene for å sjekke. For float skriver du for eksempel float(1))"
   ]
  },
  {
   "cell_type": "code",
   "execution_count": null,
   "metadata": {},
   "outputs": [],
   "source": [
    "int(1)*float(1)*bool(2)"
   ]
  },
  {
   "cell_type": "markdown",
   "metadata": {},
   "source": [
    "b) Hvilke variabler kan brukes sammen med addisjonsoperatoren `+`?"
   ]
  },
  {
   "cell_type": "code",
   "execution_count": null,
   "metadata": {},
   "outputs": [],
   "source": [
    "print(int(1)+float(1)+bool(2))\n",
    "print(\"hei\"+str(1))\n",
    "print(\"hei\"+1)"
   ]
  },
  {
   "cell_type": "markdown",
   "metadata": {},
   "source": [
    "c) Hvilke variabler kan brukes sammen med divisjonsoperatoren `/`?"
   ]
  },
  {
   "cell_type": "code",
   "execution_count": null,
   "metadata": {},
   "outputs": [],
   "source": [
    "int(1)/float(1)/bool(2)"
   ]
  },
  {
   "cell_type": "markdown",
   "metadata": {},
   "source": [
    "e) Hvilke variabler kan brukes sammen med subtraksjonsoperatoren `-`?"
   ]
  },
  {
   "cell_type": "code",
   "execution_count": null,
   "metadata": {},
   "outputs": [],
   "source": [
    "int(1)-float(1)-bool(2)\n",
    "\"hei\"-\"i\""
   ]
  },
  {
   "cell_type": "markdown",
   "metadata": {},
   "source": [
    "#### Oppgave 4\n",
    "\n",
    "a) Forsøk med prøving og feiling å finne det størst mulige `float`-tallet som ikke blir `inf`"
   ]
  },
  {
   "cell_type": "code",
   "execution_count": null,
   "metadata": {},
   "outputs": [],
   "source": [
    "print(1.0e+308)"
   ]
  },
  {
   "cell_type": "markdown",
   "metadata": {},
   "source": [
    "b) Forsøk med prøving og feiling å finne `float`-tallet nærmest null som ikke blir `0.0`"
   ]
  },
  {
   "cell_type": "code",
   "execution_count": null,
   "metadata": {},
   "outputs": [],
   "source": [
    "print(1.0e-324)"
   ]
  },
  {
   "cell_type": "markdown",
   "metadata": {},
   "source": [
    "#### Oppgave 5:\n",
    "\n",
    "Forsøk å bruke samme anførselstegn inne i teksten som rundt teksten i Eksempel ??"
   ]
  },
  {
   "cell_type": "code",
   "execution_count": null,
   "metadata": {},
   "outputs": [],
   "source": [
    "print( \"Jeg gikk derfor på butikken for å \"kjøpe\" epler.\")"
   ]
  },
  {
   "cell_type": "markdown",
   "metadata": {},
   "source": [
    "#### Oppgave 6:\n",
    "\n",
    "Hvilke to tegn må du legge til for at hele setningen skal printes?"
   ]
  },
  {
   "cell_type": "code",
   "execution_count": null,
   "metadata": {},
   "outputs": [],
   "source": [
    "s=f\"Det er {apple_is_tasty} at jeg synes epler smaker godt. \"\n",
    "f\"Jeg gikk derfor på butikken for å kjøpe {number_of_apples} epler. \"\n",
    "f\"Kjøpmannen gav meg en vanvittig pris. Han skulle ha {insane_apple_price} kroner per eple. \"\n",
    "f\"Jeg fortalte henne at det var helt uaktuelt, og foreslo {really_cheap_apple_price} kroner.\"\n",
    "f\"Hun avslo, men vi ble til sist enige om {apple_price} kroner.\"\n",
    "f\"Jeg betalte hennet til sammen {apple_price*number_of_apples} kroner og dro hjem. \"\n",
    "f\"På veien traff jeg {number_of_persons} venner. Jeg hadde ikke noe annet valg enn å dele eplene mine med dem. \"\n",
    "f\"Det ble {number_of_apples/number_of_persons} epler per person.\"\n",
    "print(s)"
   ]
  }
 ],
 "metadata": {
  "kernelspec": {
   "display_name": "Python 3",
   "language": "python",
   "name": "python3"
  },
  "language_info": {
   "codemirror_mode": {
    "name": "ipython",
    "version": 3
   },
   "file_extension": ".py",
   "mimetype": "text/x-python",
   "name": "python",
   "nbconvert_exporter": "python",
   "pygments_lexer": "ipython3",
   "version": "3.7.5"
  }
 },
 "nbformat": 4,
 "nbformat_minor": 4
}
