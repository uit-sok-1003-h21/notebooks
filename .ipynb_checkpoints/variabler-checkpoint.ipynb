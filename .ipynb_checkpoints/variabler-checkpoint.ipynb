{
 "cells": [
  {
   "cell_type": "markdown",
   "metadata": {},
   "source": [
    "# [\\< Forrige](intro.ipynb)                      [Neste \\>](funksjoner.ipynb)"
   ]
  },
  {
   "cell_type": "markdown",
   "metadata": {},
   "source": [
    "# Variabler"
   ]
  },
  {
   "cell_type": "markdown",
   "metadata": {},
   "source": [
    "Variablene i Python kan være ulike objekter som i alle andre programmeringsspråk, og typen objekt defineres av hva du setter variabelen til. Det er vanlig å definere stort sett alle variabler med små bokstaver i Python. Kun unntaksvis brukes store bokstaver."
   ]
  },
  {
   "cell_type": "markdown",
   "metadata": {},
   "source": [
    "##  `bool` (Sann/Usann)"
   ]
  },
  {
   "cell_type": "markdown",
   "metadata": {},
   "source": [
    "Den enkleste variabelen i Python er den binære typen \"bool\". Den kan ta to verdier, `True` eller `False` (sant eller usant). Denne variabelen brukes mest i sammenhenger der vi skal teste om et vilkår er oppfylt eller ikke. Da bruker vi `if`-setninger, som vi skal komme tilbake til.\n",
    "\n",
    "Vi kan sjekke hvilken type en variabel er med funksjonen type(). Under får vi bekreftet `apple_is_tasty` er en boolsk variabel.\n",
    "\n",
    "#### Eksempel 1:"
   ]
  },
  {
   "cell_type": "code",
   "execution_count": 172,
   "metadata": {},
   "outputs": [
    {
     "data": {
      "text/plain": [
       "bool"
      ]
     },
     "execution_count": 172,
     "metadata": {},
     "output_type": "execute_result"
    }
   ],
   "source": [
    "#bool\n",
    "apple_is_tasty=True\n",
    "type(apple_is_tasty)"
   ]
  },
  {
   "cell_type": "markdown",
   "metadata": {},
   "source": [
    "Legg merke til hva som skjer her: Første linje er bare en kommentar, som nevnt i forrige kapittel. I andre linjer *setter* vi variabelen `apple_is_tasty` lik verdien `True`. Det er på denne måten vi definerer variabler i Python. Når vi har satt en variable på denne måten, bestemmer det hvilken `type` variabel det er. \n",
    "\n",
    "Det er ikke alltid at variabelen settes rett før vi skal bruke den. Er det et stort program kan variabelen ha vært satt på en helt annen plass i programmet. I så fall er det nyttig å vise hvilken type variabel `apple_is_tasty` representerer. Siden den er satt til verdien `True` (sant), er det en `bool`. \n",
    "\n",
    "Når vi kjører et kodefelt i Jupyter, får vi resultatet av den siste setningen skrevet ut til skjermen, etter kodefeltet. Om du har kjørt koden, vil du see at det står `bool`der. \n",
    "I siste linje viser funksjonen `type()` at det er en bool når vi setter inn `apple_is_tasty` som argument. "
   ]
  },
  {
   "cell_type": "markdown",
   "metadata": {},
   "source": [
    "## `int` (heltall)"
   ]
  },
  {
   "cell_type": "markdown",
   "metadata": {},
   "source": [
    "int representerer alle hele i Python. Under ser vi at Python tolker  8 som et heltall:\n",
    "\n",
    "#### Eksempel 2:"
   ]
  },
  {
   "cell_type": "code",
   "execution_count": 173,
   "metadata": {},
   "outputs": [
    {
     "data": {
      "text/plain": [
       "int"
      ]
     },
     "execution_count": 173,
     "metadata": {},
     "output_type": "execute_result"
    }
   ],
   "source": [
    "# integer:\n",
    "number_of_apples = 8\n",
    "type(number_of_apples)"
   ]
  },
  {
   "cell_type": "markdown",
   "metadata": {},
   "source": [
    "Legg også merke til at `number_of_apples` er tillatt som variabelnavn, men mellomrom er forbudt. \"number of apples\" vil derfor ikke fungere. Vi bruker også kun engelske bokstaver, selv om norske fungerer. `aintail_æple` kan altså brukes, men anbefales ikke.\n",
    "\n",
    "Vi kan konvertere int til bool og bool til int ved å bruke disse som funksjoner slik som dette:\n",
    "\n",
    "#### Eksempel 3:"
   ]
  },
  {
   "cell_type": "code",
   "execution_count": 174,
   "metadata": {},
   "outputs": [
    {
     "data": {
      "text/plain": [
       "1"
      ]
     },
     "execution_count": 174,
     "metadata": {},
     "output_type": "execute_result"
    }
   ],
   "source": [
    "int(apple_is_tasty)\n"
   ]
  },
  {
   "cell_type": "code",
   "execution_count": 175,
   "metadata": {},
   "outputs": [
    {
     "data": {
      "text/plain": [
       "False"
      ]
     },
     "execution_count": 175,
     "metadata": {},
     "output_type": "execute_result"
    }
   ],
   "source": [
    "bool(0)"
   ]
  },
  {
   "cell_type": "markdown",
   "metadata": {},
   "source": [
    "Vi legger merke til her at 1 tilsvarer `True` og 0 tilsvarer `False`. "
   ]
  },
  {
   "cell_type": "markdown",
   "metadata": {},
   "source": [
    "## `float` (desimaltall)"
   ]
  },
  {
   "cell_type": "markdown",
   "metadata": {},
   "source": [
    "Regning gjøres vanligvis med desimaltall, eller \"floating point\" som det kalles av på fagspråket.  I python heter derfor denne variabeltypen  `float`.\n",
    "\n",
    "Om for eksempel 11 skal tolkes som et heltall, gir vi beskjed til Python om at det er et desimaltall ved å skrive det med én desimal. Alle programmeringsspråk, inkludert Python, bruker punktum som desimaltegn. \n",
    "\n",
    "#### Eksempel 4:"
   ]
  },
  {
   "cell_type": "code",
   "execution_count": 176,
   "metadata": {},
   "outputs": [
    {
     "data": {
      "text/plain": [
       "float"
      ]
     },
     "execution_count": 176,
     "metadata": {},
     "output_type": "execute_result"
    }
   ],
   "source": [
    "# floating point (float):\n",
    "apple_price = 11.0\n",
    "type(apple_price)"
   ]
  },
  {
   "cell_type": "markdown",
   "metadata": {},
   "source": [
    "Navnet \"floating point\", eller flyttall på norsk, kommer av at alle flyttall har eksakt like mange siffer, men desimaltegnet kan flyttes slik at `float` kan representere et svært stort spenn av verdier. Det største flyttallet er én med 308 nuller etter. Desimaltegnet flyttes enkelt fordi at `float` egentlig er på vitenskapelig format, selv om det ofte vises som vanlig tall. For eksempel så kan vi skrive tallet 102 på vitenskapelig form, men Python spytter det ut på et format vi enklere kan forstå\n",
    "\n",
    "#### Eksempel 5:"
   ]
  },
  {
   "cell_type": "code",
   "execution_count": 216,
   "metadata": {},
   "outputs": [],
   "source": [
    "insane_apple_price = 1.02e+2\n",
    "print(insane_apple_price)"
   ]
  },
  {
   "cell_type": "markdown",
   "metadata": {},
   "source": [
    "Vitenskapelig form `1.02e+2` betyr altså $1.02\\cdot 10^{2}=102$. På samme måte er 0.0102 egentlig `1.02e-2` eller altså $1.02\\cdot 10^{-2}=102$.\n",
    "\n",
    "Legg også merke til at funksjonen `print`er brukt her. \n",
    "\n",
    "#### Eksempel 6:"
   ]
  },
  {
   "cell_type": "code",
   "execution_count": 178,
   "metadata": {},
   "outputs": [
    {
     "name": "stdout",
     "output_type": "stream",
     "text": [
      "0.0102\n"
     ]
    }
   ],
   "source": [
    "really_cheap_apple_price = 1.02e-2\n",
    "print(really_cheap_apple_price)"
   ]
  },
  {
   "cell_type": "markdown",
   "metadata": {},
   "source": [
    "Når vi skriver ut resultatet får vi det altså ut som `102.0` eller `0.0102` i stedet for det vitenskapelige flyttallformatet. Det er fordi Python skjønner at `1.02e+2` og  `1.02e-2` ikke ser så pent ut for oss. Python formaterer derfor tallet til et mer lesbart format før det skrives ut.\n",
    "\n",
    "Det er enkelt å regne med både `float` og  `int`:\n",
    "\n",
    "#### Eksempel 7:"
   ]
  },
  {
   "cell_type": "code",
   "execution_count": 179,
   "metadata": {},
   "outputs": [
    {
     "name": "stdout",
     "output_type": "stream",
     "text": [
      "88.0\n"
     ]
    }
   ],
   "source": [
    "total = apple_price*number_of_apples\n",
    "print(total)"
   ]
  },
  {
   "cell_type": "markdown",
   "metadata": {},
   "source": [
    "Heldigvis spiller det liten rolle om noe er `int` eller `float` når du skal regne. I de fleste andre programmeringsspråk får du et nytt heltall når du deleret heltall på et annet. I Python gir dette et desimaltall:\n",
    "\n",
    "\n",
    "#### Eksempel 8:"
   ]
  },
  {
   "cell_type": "code",
   "execution_count": 180,
   "metadata": {},
   "outputs": [
    {
     "name": "stdout",
     "output_type": "stream",
     "text": [
      "1.6\n"
     ]
    }
   ],
   "source": [
    "number_of_persons = 5\n",
    "apple_per_person  = number_of_apples/number_of_persons\n",
    "print(apple_per_person)"
   ]
  },
  {
   "cell_type": "markdown",
   "metadata": {},
   "source": [
    "## Regning med `float`"
   ]
  },
  {
   "cell_type": "markdown",
   "metadata": {},
   "source": [
    "For de fire regneartene fungerer `float` slik vi har lært på barneskolen:\n",
    "\n",
    "#### Eksempel 9:"
   ]
  },
  {
   "cell_type": "code",
   "execution_count": 196,
   "metadata": {},
   "outputs": [
    {
     "name": "stdout",
     "output_type": "stream",
     "text": [
      "5\n",
      "-1\n",
      "6\n",
      "0.6666666666666666\n"
     ]
    }
   ],
   "source": [
    "print(2+3)\n",
    "print(2-3)\n",
    "print(2*3)\n",
    "print(2/3)"
   ]
  },
  {
   "cell_type": "markdown",
   "metadata": {},
   "source": [
    "Ofte har vi imidlertid bruk for å opphøye et tall i et annet. Om vi for eksempel vil vite hva $2\\cdot2\\cdot2$ er, så kan vi istedet skrive $2^3$. Dette kalles en *potens* med 2 som *grunntall* og 3 som *eksponent*. I python utføres denne operasjonen med gange-tegn `**`. Dette er ulikt endel andre programmeringsspråk, der *cirkumfleks*-symbolet `^` ofte brukes. \n",
    "\n",
    "#### Eksempel 10:"
   ]
  },
  {
   "cell_type": "code",
   "execution_count": 199,
   "metadata": {},
   "outputs": [
    {
     "data": {
      "text/plain": [
       "8"
      ]
     },
     "execution_count": 199,
     "metadata": {},
     "output_type": "execute_result"
    }
   ],
   "source": [
    "2**3"
   ]
  },
  {
   "cell_type": "markdown",
   "metadata": {},
   "source": [
    "## `str` (tekst)"
   ]
  },
  {
   "cell_type": "markdown",
   "metadata": {},
   "source": [
    "Tekst kalles \"streng\" på dataspråket, eller \"string\" på engelsk. Typen som representerer tekst heter derfor `str`. Vi forteller Python at dette er en tekst ved å sette anførselstegn rundt. Her er et eksempel på en streng:\n",
    "\n",
    "#### Eksempel 9:"
   ]
  },
  {
   "cell_type": "code",
   "execution_count": 181,
   "metadata": {},
   "outputs": [
    {
     "data": {
      "text/plain": [
       "str"
      ]
     },
     "execution_count": 181,
     "metadata": {},
     "output_type": "execute_result"
    }
   ],
   "source": [
    "# string:\n",
    "x=\"Dette er en streng (dvs tekst)\"\n",
    "type(x)"
   ]
  },
  {
   "cell_type": "markdown",
   "metadata": {},
   "source": [
    "Det er enkelt å sette sammen `string` og andre variabler i Python. Det er flere måter å gjøre det på, men vi skal bruke en metode som er ganske ny i Python. Fra og med versjon 3.6 kom noe som kalles \"f-strings\" som gir oss en veldig enkel måte å blandet tekst og andre variabler. Her er et eksempel:\n",
    "\n",
    "#### Eksempel 10:"
   ]
  },
  {
   "cell_type": "code",
   "execution_count": 182,
   "metadata": {},
   "outputs": [
    {
     "name": "stdout",
     "output_type": "stream",
     "text": [
      "Det er True at jeg synes epler smaker godt.\n"
     ]
    }
   ],
   "source": [
    "print(f\"Det er {apple_is_tasty} at jeg synes epler smaker godt.\")"
   ]
  },
  {
   "cell_type": "markdown",
   "metadata": {},
   "source": [
    "Legg merke til f'en før det første anførselstegnet. Den angir at dette er en f-streng og at alt som er inne i klammeparenteser {} skal omformateres til `string` og tas med i teksten. \n",
    "\n",
    "Et alternativ er å bruke `+`-tegnet. Det går nemlig an å summere tekst i Python:\n",
    "\n",
    "#### Eksempel 11:"
   ]
  },
  {
   "cell_type": "code",
   "execution_count": 183,
   "metadata": {},
   "outputs": [
    {
     "data": {
      "text/plain": [
       "'Jeg gikk derfor på butikken for å kjøpe'"
      ]
     },
     "execution_count": 183,
     "metadata": {},
     "output_type": "execute_result"
    }
   ],
   "source": [
    "\"Jeg \"+\"gikk \"+\"derfor \"+\"på \"+\"butikken \"+\"for \"+\"å \"+\"kjøpe\""
   ]
  },
  {
   "cell_type": "markdown",
   "metadata": {},
   "source": [
    "Men det går ikke an å summere tekst og andre variabler, da skjønner ikke Python hva du ønsker å oppnå\n",
    "\n",
    "#### Eksempel 12:"
   ]
  },
  {
   "cell_type": "code",
   "execution_count": 184,
   "metadata": {},
   "outputs": [
    {
     "ename": "TypeError",
     "evalue": "can only concatenate str (not \"int\") to str",
     "output_type": "error",
     "traceback": [
      "\u001b[1;31m---------------------------------------------------------------------------\u001b[0m",
      "\u001b[1;31mTypeError\u001b[0m                                 Traceback (most recent call last)",
      "\u001b[1;32m<ipython-input-184-8a6deb33a003>\u001b[0m in \u001b[0;36m<module>\u001b[1;34m\u001b[0m\n\u001b[1;32m----> 1\u001b[1;33m \u001b[1;34m\"Jeg gikk derfor på butikken for å kjøpe \"\u001b[0m \u001b[1;33m+\u001b[0m \u001b[0mnumber_of_apples\u001b[0m \u001b[1;33m+\u001b[0m \u001b[1;34m\" epler. \"\u001b[0m\u001b[1;33m\u001b[0m\u001b[1;33m\u001b[0m\u001b[0m\n\u001b[0m",
      "\u001b[1;31mTypeError\u001b[0m: can only concatenate str (not \"int\") to str"
     ]
    }
   ],
   "source": [
    "\"Jeg gikk derfor på butikken for å kjøpe \" + number_of_apples + \" epler. \""
   ]
  },
  {
   "cell_type": "markdown",
   "metadata": {},
   "source": [
    "Du må i så fall omformatere tallet `number_of_apples` til streng:\n",
    "\n",
    "#### Eksempel 13:"
   ]
  },
  {
   "cell_type": "code",
   "execution_count": 185,
   "metadata": {},
   "outputs": [
    {
     "data": {
      "text/plain": [
       "'Jeg gikk derfor på butikken for å kjøpe 8 epler.'"
      ]
     },
     "execution_count": 185,
     "metadata": {},
     "output_type": "execute_result"
    }
   ],
   "source": [
    "\"Jeg gikk derfor på butikken for å kjøpe \" + str(number_of_apples) + \" epler.\""
   ]
  },
  {
   "cell_type": "markdown",
   "metadata": {},
   "source": [
    "Derfor er det langt enklere å bruke f-strings. Dersom tekststrengen er for lang for én linje, kan du sette flere tekstrenger etter hverandre på hver sin linje, slik som dette:\n",
    "\n",
    "#### Eksempel 14:"
   ]
  },
  {
   "cell_type": "code",
   "execution_count": 211,
   "metadata": {},
   "outputs": [
    {
     "name": "stdout",
     "output_type": "stream",
     "text": [
      "Det er True at jeg synes epler smaker godt. \n",
      "Jeg gikk derfor på butikken for å kjøpe 8 epler. \n",
      "Kjøpmannen gav meg en vanvittig pris. Han skulle ha 102.0 kroner per eple. \n",
      "Jeg fortalte henne at det var helt uaktuelt, og foreslo 0.0102 kroner. \n",
      "Hun avslo, men vi ble til sist enige om 11.0 kroner.\n",
      "Jeg betalte hennet til sammen 88.0 kroner og dro hjem. \n",
      "\n",
      "På veien traff jeg 5 venner. Jeg hadde ikke noe annet valg enn å dele eplene mine med dem. \n",
      "Det ble 1.6 epler per person.\n",
      "\n"
     ]
    }
   ],
   "source": [
    "print(\n",
    "    f\"Det er {apple_is_tasty} at jeg synes epler smaker godt. \\n\"\n",
    "    f\"Jeg gikk derfor på butikken for å kjøpe {number_of_apples} epler. \\n\"\n",
    "    f\"Kjøpmannen gav meg en vanvittig pris. Han skulle ha {insane_apple_price} kroner per eple. \\n\"\n",
    "    f\"Jeg fortalte henne at det var helt uaktuelt, og foreslo {really_cheap_apple_price} kroner. \\n\"\n",
    "    f\"Hun avslo, men vi ble til sist dd om {apple_price} kroner.\\n\"\n",
    "    f\"Jeg betalte hennet til sammen {apple_price*number_of_apples} kroner og dro hjem. \\n\\n\"\n",
    "    f\"På veien traff jeg {number_of_persons} venner. Jeg hadde ikke noe annet valg enn å dele eplene mine med dem. \\n\"\n",
    "    f\"Det ble {number_of_apples/number_of_persons} epler per person.\\n\"\n",
    ")"
   ]
  },
  {
   "cell_type": "markdown",
   "metadata": {},
   "source": [
    "Merk at setningene må stå inne i en parentes, for eksempel som argument i en funksjon som over, for at Python skal forstå at de skal settes sammen til én setning. Legg også merke til `\\n`på slutten av hver delsetning. Denne indikerer at det skal være linjeskift etter hver delsetning. "
   ]
  },
  {
   "cell_type": "markdown",
   "metadata": {},
   "source": [
    "## Anførselstegn for strenger"
   ]
  },
  {
   "cell_type": "markdown",
   "metadata": {},
   "source": [
    "Det finnes tre forskjellige typer tegn for å markere at noe er tekst i Python. Disse er apostrof `'`, anførselstegn `\"` og trippel anførselstegn `\"\"\"`. Rollen til de to første typene er å enkelt kunne bruke anførselstegn inne i teksten:\n",
    "\n",
    "#### Eksempel 15:"
   ]
  },
  {
   "cell_type": "code",
   "execution_count": 208,
   "metadata": {},
   "outputs": [
    {
     "name": "stdout",
     "output_type": "stream",
     "text": [
      "Jeg gikk derfor på butikken for å 'kjøpe' epler.\n",
      "Jeg gikk derfor på butikken for å \"kjøpe\" epler.\n"
     ]
    }
   ],
   "source": [
    "print( \"Jeg gikk derfor på butikken for å 'kjøpe' epler.\")\n",
    "print( 'Jeg gikk derfor på butikken for å \"kjøpe\" epler.')"
   ]
  },
  {
   "cell_type": "markdown",
   "metadata": {},
   "source": [
    "Trippel anførselstegn `\"\"\"` brukes når du vil ha tekst over flere linjer, for eksempel\n",
    "\n",
    "#### Eksempel 16:"
   ]
  },
  {
   "cell_type": "code",
   "execution_count": 213,
   "metadata": {},
   "outputs": [
    {
     "name": "stdout",
     "output_type": "stream",
     "text": [
      "Det er True at jeg synes epler smaker godt.\n",
      "Jeg gikk derfor på butikken for å kjøpe 8 epler.\n",
      "Kjøpmannen gav meg en vanvittig pris. Han skulle ha 102.0 kroner per eple.\n",
      "Jeg fortalte henne at det var helt uaktuelt, og foreslo 0.0102 kroner.\n",
      "Hun avslo, men vi ble til sist enige om 11.0 kroner.\n",
      "Jeg betalte hennet til sammen 88.0 kroner og dro hjem.\n",
      "\n",
      "På veien traff jeg 5 venner. Jeg hadde ikke noe annet valg enn å dele eplene mine med dem.\n",
      "Det ble 1.6 epler per person.\n"
     ]
    }
   ],
   "source": [
    "s=f\"\"\"Det er {apple_is_tasty} at jeg synes epler smaker godt.\n",
    "Jeg gikk derfor på butikken for å kjøpe {number_of_apples} epler.\n",
    "Kjøpmannen gav meg en vanvittig pris. Han skulle ha {insane_apple_price} kroner per eple.\n",
    "Jeg fortalte henne at det var helt uaktuelt, og foreslo {really_cheap_apple_price} kroner.\n",
    "Hun avslo, men vi ble til sist enige om {apple_price} kroner.\n",
    "Jeg betalte hennet til sammen {apple_price*number_of_apples} kroner og dro hjem.\n",
    "\n",
    "På veien traff jeg {number_of_persons} venner. Jeg hadde ikke noe annet valg enn å dele eplene mine med dem.\n",
    "Det ble {number_of_apples/number_of_persons} epler per person.\"\"\"\n",
    "print(s)"
   ]
  },
  {
   "cell_type": "markdown",
   "metadata": {},
   "source": [
    "Alternativt kan du sette hver setning på linje etterhverandre med egne enkel anførselstegn, som i Eksempel 14, men da må alle setningene befinne seg inne i en parentes."
   ]
  },
  {
   "cell_type": "markdown",
   "metadata": {},
   "source": [
    "# Oppgaver"
   ]
  },
  {
   "cell_type": "markdown",
   "metadata": {},
   "source": [
    "#### Oppgave 1\n",
    "\n",
    "Bruk koden i Eksempel 14, men fjern `\\n` og se hva som skjer"
   ]
  },
  {
   "cell_type": "code",
   "execution_count": 212,
   "metadata": {},
   "outputs": [
    {
     "name": "stdout",
     "output_type": "stream",
     "text": [
      "Det er True at jeg synes epler smaker godt. Jeg gikk derfor på butikken for å kjøpe 8 epler. Kjøpmannen gav meg en vanvittig pris. Han skulle ha 102.0 kroner per eple. Jeg fortalte henne at det var helt uaktuelt, og foreslo 0.0102 kroner.Hun avslo, men vi ble til sist enige om 11.0 kroner.Jeg betalte hennet til sammen 88.0 kroner og dro hjem. På veien traff jeg 5 venner. Jeg hadde ikke noe annet valg enn å dele eplene mine med dem. Det ble 1.6 epler per person.\n"
     ]
    }
   ],
   "source": [
    "print(\n",
    "    f\"Det er {apple_is_tasty} at jeg synes epler smaker godt. \"\n",
    "    f\"Jeg gikk derfor på butikken for å kjøpe {number_of_apples} epler. \"\n",
    "    f\"Kjøpmannen gav meg en vanvittig pris. Han skulle ha {insane_apple_price} kroner per eple. \"\n",
    "    f\"Jeg fortalte henne at det var helt uaktuelt, og foreslo {really_cheap_apple_price} kroner.\"\n",
    "    f\"Hun avslo, men vi ble til sist enige om {apple_price} kroner.\"\n",
    "    f\"Jeg betalte hennet til sammen {apple_price*number_of_apples} kroner og dro hjem. \"\n",
    "    f\"På veien traff jeg {number_of_persons} venner. Jeg hadde ikke noe annet valg enn å dele eplene mine med dem. \"\n",
    "    f\"Det ble {number_of_apples/number_of_persons} epler per person.\"\n",
    ")"
   ]
  },
  {
   "cell_type": "markdown",
   "metadata": {},
   "source": [
    "#### Oppgave 2\n",
    "Lag variabler som du putter inn i en historie som i Eksempel 14"
   ]
  },
  {
   "cell_type": "code",
   "execution_count": null,
   "metadata": {},
   "outputs": [],
   "source": []
  },
  {
   "cell_type": "markdown",
   "metadata": {},
   "source": [
    "#### Oppgave 3\n",
    "a) Hvilke variabler kan brukes sammen med multiplikasjonsoperatoren `*`? \n",
    "\n",
    "(multipliser sammen variabeltypene for å sjekke. For float skriver du for eksempel float(1))"
   ]
  },
  {
   "cell_type": "code",
   "execution_count": 188,
   "metadata": {},
   "outputs": [
    {
     "data": {
      "text/plain": [
       "1.0"
      ]
     },
     "execution_count": 188,
     "metadata": {},
     "output_type": "execute_result"
    }
   ],
   "source": [
    "int(1)*float(1)*bool(2)"
   ]
  },
  {
   "cell_type": "markdown",
   "metadata": {},
   "source": [
    "b) Hvilke variabler kan brukes sammen med addisjonsoperatoren `+`?"
   ]
  },
  {
   "cell_type": "code",
   "execution_count": 189,
   "metadata": {},
   "outputs": [
    {
     "name": "stdout",
     "output_type": "stream",
     "text": [
      "3.0\n",
      "hei1\n"
     ]
    },
    {
     "ename": "TypeError",
     "evalue": "can only concatenate str (not \"int\") to str",
     "output_type": "error",
     "traceback": [
      "\u001b[1;31m---------------------------------------------------------------------------\u001b[0m",
      "\u001b[1;31mTypeError\u001b[0m                                 Traceback (most recent call last)",
      "\u001b[1;32m<ipython-input-189-2eacf4a13660>\u001b[0m in \u001b[0;36m<module>\u001b[1;34m\u001b[0m\n\u001b[0;32m      1\u001b[0m \u001b[0mprint\u001b[0m\u001b[1;33m(\u001b[0m\u001b[0mint\u001b[0m\u001b[1;33m(\u001b[0m\u001b[1;36m1\u001b[0m\u001b[1;33m)\u001b[0m\u001b[1;33m+\u001b[0m\u001b[0mfloat\u001b[0m\u001b[1;33m(\u001b[0m\u001b[1;36m1\u001b[0m\u001b[1;33m)\u001b[0m\u001b[1;33m+\u001b[0m\u001b[0mbool\u001b[0m\u001b[1;33m(\u001b[0m\u001b[1;36m2\u001b[0m\u001b[1;33m)\u001b[0m\u001b[1;33m)\u001b[0m\u001b[1;33m\u001b[0m\u001b[1;33m\u001b[0m\u001b[0m\n\u001b[0;32m      2\u001b[0m \u001b[0mprint\u001b[0m\u001b[1;33m(\u001b[0m\u001b[1;34m\"hei\"\u001b[0m\u001b[1;33m+\u001b[0m\u001b[0mstr\u001b[0m\u001b[1;33m(\u001b[0m\u001b[1;36m1\u001b[0m\u001b[1;33m)\u001b[0m\u001b[1;33m)\u001b[0m\u001b[1;33m\u001b[0m\u001b[1;33m\u001b[0m\u001b[0m\n\u001b[1;32m----> 3\u001b[1;33m \u001b[0mprint\u001b[0m\u001b[1;33m(\u001b[0m\u001b[1;34m\"hei\"\u001b[0m\u001b[1;33m+\u001b[0m\u001b[1;36m1\u001b[0m\u001b[1;33m)\u001b[0m\u001b[1;33m\u001b[0m\u001b[1;33m\u001b[0m\u001b[0m\n\u001b[0m",
      "\u001b[1;31mTypeError\u001b[0m: can only concatenate str (not \"int\") to str"
     ]
    }
   ],
   "source": [
    "print(int(1)+float(1)+bool(2))\n",
    "print(\"hei\"+str(1))\n",
    "print(\"hei\"+1)"
   ]
  },
  {
   "cell_type": "markdown",
   "metadata": {},
   "source": [
    "c) Hvilke variabler kan brukes sammen med divisjonsoperatoren `/`?"
   ]
  },
  {
   "cell_type": "code",
   "execution_count": 190,
   "metadata": {},
   "outputs": [
    {
     "data": {
      "text/plain": [
       "1.0"
      ]
     },
     "execution_count": 190,
     "metadata": {},
     "output_type": "execute_result"
    }
   ],
   "source": [
    "int(1)/float(1)/bool(2)"
   ]
  },
  {
   "cell_type": "markdown",
   "metadata": {},
   "source": [
    "e) Hvilke variabler kan brukes sammen med subtraksjonsoperatoren `-`?"
   ]
  },
  {
   "cell_type": "code",
   "execution_count": 191,
   "metadata": {},
   "outputs": [
    {
     "ename": "TypeError",
     "evalue": "unsupported operand type(s) for -: 'str' and 'str'",
     "output_type": "error",
     "traceback": [
      "\u001b[1;31m---------------------------------------------------------------------------\u001b[0m",
      "\u001b[1;31mTypeError\u001b[0m                                 Traceback (most recent call last)",
      "\u001b[1;32m<ipython-input-191-bf57a597596b>\u001b[0m in \u001b[0;36m<module>\u001b[1;34m\u001b[0m\n\u001b[0;32m      1\u001b[0m \u001b[0mint\u001b[0m\u001b[1;33m(\u001b[0m\u001b[1;36m1\u001b[0m\u001b[1;33m)\u001b[0m\u001b[1;33m-\u001b[0m\u001b[0mfloat\u001b[0m\u001b[1;33m(\u001b[0m\u001b[1;36m1\u001b[0m\u001b[1;33m)\u001b[0m\u001b[1;33m-\u001b[0m\u001b[0mbool\u001b[0m\u001b[1;33m(\u001b[0m\u001b[1;36m2\u001b[0m\u001b[1;33m)\u001b[0m\u001b[1;33m\u001b[0m\u001b[1;33m\u001b[0m\u001b[0m\n\u001b[1;32m----> 2\u001b[1;33m \u001b[1;34m\"hei\"\u001b[0m\u001b[1;33m-\u001b[0m\u001b[1;34m\"i\"\u001b[0m\u001b[1;33m\u001b[0m\u001b[1;33m\u001b[0m\u001b[0m\n\u001b[0m",
      "\u001b[1;31mTypeError\u001b[0m: unsupported operand type(s) for -: 'str' and 'str'"
     ]
    }
   ],
   "source": [
    "int(1)-float(1)-bool(2)\n",
    "\"hei\"-\"i\""
   ]
  },
  {
   "cell_type": "markdown",
   "metadata": {},
   "source": [
    "#### Oppgave 4\n",
    "\n",
    "a) Forsøk med prøving og feiling å finne det størst mulige `float`-tallet som ikke blir `inf`"
   ]
  },
  {
   "cell_type": "code",
   "execution_count": 192,
   "metadata": {},
   "outputs": [
    {
     "name": "stdout",
     "output_type": "stream",
     "text": [
      "1e+308\n"
     ]
    }
   ],
   "source": [
    "print(1.0e+308)"
   ]
  },
  {
   "cell_type": "markdown",
   "metadata": {},
   "source": [
    "b) Forsøk med prøving og feiling å finne `float`-tallet nærmest null som ikke blir `0.0`"
   ]
  },
  {
   "cell_type": "code",
   "execution_count": 193,
   "metadata": {},
   "outputs": [
    {
     "name": "stdout",
     "output_type": "stream",
     "text": [
      "0.0\n"
     ]
    }
   ],
   "source": [
    "print(1.0e-324)"
   ]
  },
  {
   "cell_type": "markdown",
   "metadata": {},
   "source": [
    "#### Oppgave 5:\n",
    "\n",
    "Forsøk å bruke samme anførselstegn inne i teksten som rundt teksten i Eksempel ??"
   ]
  },
  {
   "cell_type": "code",
   "execution_count": 201,
   "metadata": {},
   "outputs": [
    {
     "ename": "SyntaxError",
     "evalue": "invalid syntax (<ipython-input-201-08ebbf462365>, line 1)",
     "output_type": "error",
     "traceback": [
      "\u001b[1;36m  File \u001b[1;32m\"<ipython-input-201-08ebbf462365>\"\u001b[1;36m, line \u001b[1;32m1\u001b[0m\n\u001b[1;33m    print( \"Jeg gikk derfor på butikken for å \"kjøpe\" epler.\")\u001b[0m\n\u001b[1;37m                                               ^\u001b[0m\n\u001b[1;31mSyntaxError\u001b[0m\u001b[1;31m:\u001b[0m invalid syntax\n"
     ]
    }
   ],
   "source": [
    "print( \"Jeg gikk derfor på butikken for å \"kjøpe\" epler.\")"
   ]
  },
  {
   "cell_type": "markdown",
   "metadata": {},
   "source": [
    "#### Oppgave 6:\n",
    "\n",
    "Hva er feil her:"
   ]
  },
  {
   "cell_type": "code",
   "execution_count": 214,
   "metadata": {},
   "outputs": [
    {
     "name": "stdout",
     "output_type": "stream",
     "text": [
      "Det er True at jeg synes epler smaker godt. \n"
     ]
    }
   ],
   "source": [
    "s=f\"Det er {apple_is_tasty} at jeg synes epler smaker godt. \"\n",
    "f\"Jeg gikk derfor på butikken for å kjøpe {number_of_apples} epler. \"\n",
    "f\"Kjøpmannen gav meg en vanvittig pris. Han skulle ha {insane_apple_price} kroner per eple. \"\n",
    "f\"Jeg fortalte henne at det var helt uaktuelt, og foreslo {really_cheap_apple_price} kroner.\"\n",
    "f\"Hun avslo, men vi ble til sist enige om {apple_price} kroner.\"\n",
    "f\"Jeg betalte hennet til sammen {apple_price*number_of_apples} kroner og dro hjem. \"\n",
    "f\"På veien traff jeg {number_of_persons} venner. Jeg hadde ikke noe annet valg enn å dele eplene mine med dem. \"\n",
    "f\"Det ble {number_of_apples/number_of_persons} epler per person.\"\n",
    "print(s)"
   ]
  },
  {
   "cell_type": "markdown",
   "metadata": {},
   "source": [
    "# [\\< Forrige](intro.ipynb)                      [Neste \\>](funksjoner.ipynb)"
   ]
  },
  {
   "cell_type": "code",
   "execution_count": null,
   "metadata": {},
   "outputs": [],
   "source": []
  }
 ],
 "metadata": {
  "kernelspec": {
   "display_name": "Python 3",
   "language": "python",
   "name": "python3"
  },
  "language_info": {
   "codemirror_mode": {
    "name": "ipython",
    "version": 3
   },
   "file_extension": ".py",
   "mimetype": "text/x-python",
   "name": "python",
   "nbconvert_exporter": "python",
   "pygments_lexer": "ipython3",
   "version": "3.8.10"
  }
 },
 "nbformat": 4,
 "nbformat_minor": 4
}
