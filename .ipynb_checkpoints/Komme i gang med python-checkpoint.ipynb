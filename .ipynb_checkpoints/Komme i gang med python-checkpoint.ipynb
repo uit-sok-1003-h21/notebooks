{
 "cells": [
  {
   "cell_type": "markdown",
   "metadata": {},
   "source": [
    "# Hva er Python?"
   ]
  },
  {
   "cell_type": "markdown",
   "metadata": {},
   "source": [
    "Da de første datamaskinene kom på 40-tallet, måtte brukerne gi maskinene instruksjoner i form av maskinkode. Datamaskiner er binære og forstår kun to tegn; 1 og 0, det vil si \"av\" og \"på\". Brukeren måtte derfor forklare maskinen hva den skulle gjøre ved å skrive ned problemet som en lang rekke enere og nuller. Det ble raskt klart at dette var en ekstremt krevende oppgave. Programmeringsspråk ble derfor funnet opp for at mennesker skulle kunne gi instruksjoner til datamaskiner på et forståelig språk.\n",
    "\n",
    "Stort sett alle programmeringsspråk henter syntaksen fra engelsk. Koden oversettes så til maskinspråk, noe som kalles å \"kompilere\" (\"compile\" på engelsk). Datamaskinen kan så behandle den kompilerte maskinkoden. \n",
    "\n",
    "Programmeringsspråk deles inn i høynivå- og lavnivåspråk. Forskjellen på høy- og lavnivå er hvor mye støtte språket gir til brukeren. Slik støtte gjør det enklere å programmere, men er kostbart fordi det gir en mindre effektiv kode."
   ]
  },
  {
   "cell_type": "markdown",
   "metadata": {},
   "source": [
    "Lavnivåspråk er gir svært effektiv og rask kode, men er mer krevende og mindre intuitive å programmere. C++ er et lavnivåspråk. Eksemplet under skriver ut tallene 0 til og med 4:\n",
    "\n",
    "        for (int i = 0; i < 5; i++) {\n",
    "          std::cout << i << \"\\n\";\n",
    "        }\n",
    "\n",
    "Vi kan sammenligne dette med tilsvarende kode i Python, som er et høynivåspråk:"
   ]
  },
  {
   "cell_type": "code",
   "execution_count": null,
   "metadata": {},
   "outputs": [],
   "source": [
    "for i in range(5):\n",
    "    print(i)"
   ]
  },
  {
   "cell_type": "markdown",
   "metadata": {},
   "source": [
    "Om du har åpnet denne filen i jupyter, kan du kjøre Pythonkoden (men ikke C++ koden) ved å trykke SHIFT+ENTER. \n",
    "\n",
    "Vi ser at Python-koden er langt enklere, og har en syntaks som ligner mer på vanlig engelsk. Generelt er Python et svært intuitivt språk som er enkelt å programmere i. Språket ble funnet opp av Guido van Rossum i 1989 og er i dag verdens mest populære programmeringsspråk rangert ut fra googlesøk. \n",
    "\n",
    "Selv om Python er er høynivåspråk, er det svært effektivt på grunn av et stort antall bibliotek hvor mye er skrevet direkte i C eller C++. Ett slik bibliotek heter \"numpy\", og har svært effektive metoder for matriseoperasjoner. For databehandling brukes gjerne biblioteket \"pandas\".  \n"
   ]
  },
  {
   "cell_type": "markdown",
   "metadata": {},
   "source": [
    "## Installasjon"
   ]
  },
  {
   "cell_type": "markdown",
   "metadata": {},
   "source": [
    "<img align=\"right\" width=\"250\" src=\"command.png\" style=\"padding:10px;\"> Det finnes flere måter å installere og jobbe med Python. Ofte installeres det direkte fra https://www.python.org/ og koden kjøres fra kommandolinje (bildet til høyre).\n",
    " \n",
    "<img align=\"left\" width=\"250\" src=\"anaconda.png\" style=\"padding:10px;\">I dette kurset skal vi imidlertid bruke noe som heter \"Anaconda\". Dette er en plattform som inkluderer mange ulike verktøy for å programmere og behandle data. For å installere det går du til https://docs.anaconda.com/anaconda/install/ og følger instruksjonene. \n",
    " \n",
    "Vi skal for det meste bruke det verktøyet som denne teksten er skrevet i, som heter \"Jupyter notebook\". Når du har installert Anaconda, starter du \"Anaconda Navigator\". Her finner du Jupyter som ett av flere verktøy. "
   ]
  },
  {
   "cell_type": "markdown",
   "metadata": {},
   "source": [
    "## Hente kursmateriell fra github"
   ]
  },
  {
   "cell_type": "markdown",
   "metadata": {},
   "source": [
    "Kursmateriellet til dette kurset ligger på github. Du kan se filene i nettleseren her: https://github.com/uit-sok-1003-h21/notebooks. For å få tilgang til dem er det imidlertid best å laste dem ned med versjonskontrollverktøyet \"git\". Dette ligger inn i Anaconda-pakken. Slik laster du ned kursmateriellet med git:\n",
    "\n",
    "1. Åpne kommandolinjeverktøyet i Anaconda (\"CMD.exe Promt\")\n",
    "2. Lag en ny mappe på ditt hjemmeområde ved å skrive inn mkdir sok-1003\n",
    "3. Gå inn i denne mappen ved å skrive cd sok-1003\n",
    "4. Last ned kursmateriellet ved å kopiere inn følgende i kommandovinduet: \n",
    "        git clone https://github.com/uit-sok-1003-h21/notebooks/\n",
    "\n",
    "Du kan nå åpne Jupyter"
   ]
  },
  {
   "cell_type": "code",
   "execution_count": null,
   "metadata": {},
   "outputs": [],
   "source": []
  },
  {
   "cell_type": "markdown",
   "metadata": {},
   "source": [
    "## DataCamp"
   ]
  },
  {
   "cell_type": "code",
   "execution_count": null,
   "metadata": {},
   "outputs": [],
   "source": []
  }
 ],
 "metadata": {
  "kernelspec": {
   "display_name": "Python 3",
   "language": "python",
   "name": "python3"
  },
  "language_info": {
   "codemirror_mode": {
    "name": "ipython",
    "version": 3
   },
   "file_extension": ".py",
   "mimetype": "text/x-python",
   "name": "python",
   "nbconvert_exporter": "python",
   "pygments_lexer": "ipython3",
   "version": "3.8.5"
  }
 },
 "nbformat": 4,
 "nbformat_minor": 4
}
