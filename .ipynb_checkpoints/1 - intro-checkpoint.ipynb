{
 "cells": [
  {
   "cell_type": "markdown",
   "metadata": {},
   "source": [
    "##### <span style=\"color:lightgrey\"><Forrige</span>     |     [Neste >](2%20-%20variabler.ipynb)"
   ]
  },
  {
   "cell_type": "markdown",
   "metadata": {},
   "source": [
    "# 1 - Introduksjon"
   ]
  },
  {
   "cell_type": "markdown",
   "metadata": {},
   "source": [
    "Da de første datamaskinene kom på 40-tallet, måtte brukerne gi maskinene instruksjoner i form av maskinkode. Datamaskiner er binære og forstår kun to tegn; 1 og 0, det vil si \"av\" og \"på\". Brukeren måtte derfor forklare maskinen hva den skulle gjøre ved å skrive ned problemet som en lang rekke enere og nuller. Det ble raskt klart at dette var en ekstremt krevende oppgave. Programmeringsspråk ble derfor funnet opp for at mennesker skulle kunne gi instruksjoner til datamaskiner på en forståelig måte.\n",
    "\n",
    "Stort sett alle programmeringsspråk henter syntaksen fra engelsk. Koden oversettes så til maskinspråk, noe som kalles å \"kompilere\" (\"compile\" på engelsk). Datamaskinen kan så behandle den kompilerte maskinkoden. \n",
    "\n",
    "## Lav- og høynivåspråk\n",
    "\n",
    "Programmeringsspråk deles inn i høynivå- og lavnivåspråk. Forskjellen på høy- og lavnivå er hvor mye støtte språket gir til brukeren. Slik støtte gjør det enklere å programmere, men er kostbart fordi det gir en mindre effektiv kode. "
   ]
  },
  {
   "cell_type": "markdown",
   "metadata": {},
   "source": [
    "Lavnivåspråk er gir svært effektiv og rask kode, men er mer krevende og mindre intuitive å programmere. C++ er et lavnivåspråk. Eksemplet under skriver ut tallene 0 til og med 4:\n",
    "\n",
    "#### Eksempel 1:"
   ]
  },
  {
   "cell_type": "markdown",
   "metadata": {},
   "source": [
    "        for (int i = 0; i < 5; i++) {\n",
    "          std::cout << i << \"\\n\";\n",
    "        }\n",
    "\n",
    "Vi kan sammenligne dette med tilsvarende kode i Python, som er et høynivåspråk:\n",
    "\n",
    "#### Eksempel 2:"
   ]
  },
  {
   "cell_type": "code",
   "execution_count": null,
   "metadata": {},
   "outputs": [],
   "source": [
    "for i in range(5):\n",
    "    print(i)"
   ]
  },
  {
   "cell_type": "markdown",
   "metadata": {},
   "source": [
    "Om du har åpnet denne filen i Jupyter notebook (se under for instruksjoner), kan du kjøre Pythonkoden ved å trykke SHIFT+ENTER. \n",
    "\n",
    "Vi ser at Python-koden er langt enklere, og har en syntaks som ligner mer på vanlig engelsk. Generelt er Python et svært intuitivt språk som er enkelt å programmere i. Språket ble funnet opp av Guido van Rossum i 1989 og er i dag verdens mest populære programmeringsspråk rangert ut fra googlesøk. \n",
    "\n",
    "Selv om Python er er et høynivåspråk, er det svært effektivt på grunn av et stort antall bibliotek hvor mye er skrevet direkte i C eller C++. Ett slik bibliotek heter \"Numpy\", og har svært effektive metoder for matriseoperasjoner. \"Pandas\" er et svært effektivt bibliotek for databehandling, og \"Statsmodels\" er et kraftfullt verktøy for dataanalyse. \n",
    "\n",
    "\n",
    "## Innrykk og linjeskift\n",
    "\n",
    "Én ting som gjør det enklere å programmere i Python enn andre språk kan du allerede se av det lille eksemplet over. De fleste språk bruker ulike typer parenteser for å markere at noe tilhører en bestemt operasjon. Operasjonen over er en *løkke*, og vi ser fra Eksempel 1 at C bruker {} for å markere hva som er en del av løkken. I Python markeres tilhørighet til løkken med innrykk. Vi ser i Eksempel 1 at `print(i)` tilhører løkken fordi denne setningen er rykket ett hakk inn. \n",
    "\n",
    "Det har etterhvert etablert seg som god skikk og bruk innen programmering å ha et innrykk for kode som tilhører en operasjon. Vi ser det av Eksempel 1, der innholdet i løkken også er rykket inn. Forskjellen mellom C og Python er imidlertid at i C har hverken linjeskift eller innrykk noen som helst betydning for hvordan koden fungerer. Eksempel 1 kunne like gjerne vært skrevet på en linje som `for (int i = 0; i < 5; i++) {std::cout << i << \"\\n\";}`, og det ville fungert like bra. \n",
    "\n",
    "I Python markeres imidlertid linjeskift et skille mellom setninger, og innrykk markere hva som tilhører hva. Det gir en kode som er enklere å lese og mer intuitiv. \n",
    "\n",
    " \n"
   ]
  },
  {
   "cell_type": "markdown",
   "metadata": {},
   "source": [
    "## Jupyter"
   ]
  },
  {
   "cell_type": "markdown",
   "metadata": {},
   "source": [
    "<a href=\"https://jupyter-pilot.azure.uit.no/\"><img align=\"left\" src=\"assets/jupyter.png\" style=\"padding:10px;\"></a>For å lese dette dokumentet interaktivt må du åpne det i Jupyter. Jupyter gjør at du kan kjøre koden som ligger i dokumentene, og at du kan endre og skrive din egen kode. Undervisningen i dette kurset vil hovedsakelig gjøres i Jupyter. \n",
    "\n",
    "Det finnes flere ulike måter å kjøre Jupyter på. Det kan kjøres lokalt på PC'en eller på nettet. Vi skal bruke løsningen på uit.no som du finner [her](https://jupyter-pilot.azure.uit.no/). \n",
    "\n",
    "Om du nå har åpnet Jupyter, så er neste steg å få tilgang på dette og de andre forelesningsnotatene. Disse ligger på noe som heter github."
   ]
  },
  {
   "cell_type": "markdown",
   "metadata": {},
   "source": [
    "## Hente kursmateriell fra github"
   ]
  },
  {
   "cell_type": "markdown",
   "metadata": {},
   "source": [
    "<a href=\"https://github.com/uit-sok-1003-h21/notebooks\"><img align=\"right\" src=\"assets/github.png\" style=\"padding:20px;\"></a>Github er et av mange nettsteder som tilbyr \"versjonskontroll\" på git-platformen. Git er et åpen-kildekode-prosjekt som organiserer programmeringsprosjekt. I et typisk prosjekt er det flere personer som samarbeider og som kan endre koden. Git gjør det mulig å holde orden på hvem som endret hva når. Det gjør det også enkelt å gå tilbake til tidligere versjoner, og du kan \"forke\", eller \"gafle\" på norsk, som vil si å lage en ny gren med en annen kode en hovedgrenen. \n",
    "\n",
    "Forelesningsnotatene for dette kurset er altså lagret i et \"repositorie\" på github.com, eller \"repo\" som det ofte kalles. Du kan se filene i nettleseren her: https://github.com/uit-sok-1003-h21/notebooks. Du kan laste dem direkte ned derfra, men det er mye bedre å bruke git-verktøyet til å laste dem ned. Da kan du med en enkel kommando oppdatere filene når jeg gjør endringer i notatene. \n",
    "\n",
    "For å hente filene til Jupyter gjør du slik:\n",
    "\n",
    "\n",
    "1. [Åpne et \"terminalvindu\"](https://uit-sok-1003-h21.github.io/notebooks/instruksjoner/Terminal.html)\n",
    "2. Lag en ny mappe på ditt hjemmeområde ved å skrive inn i terminalvinduet\n",
    "\n",
    "        mkdir sok-1003\n",
    "3. Gå så inn i den mappen du har laget ved å skrive \n",
    "\n",
    "        cd sok-1003\n",
    "4. Last ned kursmateriellet ved å kopiere inn følgende kommando i kommandovinduet: \n",
    "        git clone https://github.com/uit-sok-1003-h21/notebooks/\n",
    "\n",
    "\n",
    "\n",
    "Kursmateriellet skal nå ligge under sok-1003/notebooks, som du kan klikke deg frem til i filmenyen til venstre. Åpne dette dokumentet, som altså heter \"Komme i gang med python.ipynb\".\n",
    "\n",
    "[Her finner du de mest brukte git-kommandoene](https://uit-sok-1003-h21.github.io/notebooks/instruksjoner/git.html)\n"
   ]
  },
  {
   "cell_type": "markdown",
   "metadata": {},
   "source": [
    "## Lese notebook-dokument i Jupyter"
   ]
  },
  {
   "cell_type": "markdown",
   "metadata": {},
   "source": [
    "Du skal nå forhåpentligvis lese dette dokumentet interaktivt. Det første du kan prøve på er å trykke i cellen under og kjøre koden ved å trykke SHIFT+ENTER. Om ikke teksten \"Hello World!\" dukker opp under, så, gå gjennom prosedyren over én gang til. "
   ]
  },
  {
   "cell_type": "code",
   "execution_count": null,
   "metadata": {},
   "outputs": [],
   "source": [
    "print('Hallo verden!')"
   ]
  },
  {
   "cell_type": "markdown",
   "metadata": {},
   "source": [
    "Legg merke til funksjonen `print()`. Den viser frem ut argumentet under cellen der den er brukt, og er en funksjon vi kommer til å bruke mye. Det vil fra nå av forutsettes at du leser disse notatene interaktivt i Jupyter Lab eller Notebook. \n",
    "\n",
    "*print*, i betydningen å skrive ut til skjermen, har vi forøvrig ikke noe godt norsk ord for, så dette vil heretter kalles for å *printe*."
   ]
  },
  {
   "cell_type": "markdown",
   "metadata": {},
   "source": [
    "## DataCamp"
   ]
  },
  {
   "cell_type": "markdown",
   "metadata": {},
   "source": [
    "<img align=\"right\" width=\"250\" src=\"assets/datacamp.png\" style=\"padding:10px;\">Vi kommer i utstrakt grad til å bruke [DataCamp](https://www.datacamp.com/) i dette kurset. DataCamp er en plattform med nettleksjoner i programmering, med selvrettende øvelser. En del av pensum og obligatoriske øvelser i dette kurset vil hentes fra DataCamp."
   ]
  },
  {
   "cell_type": "markdown",
   "metadata": {},
   "source": [
    "## Alternative måter å bruke Python på"
   ]
  },
  {
   "cell_type": "markdown",
   "metadata": {},
   "source": [
    "<img align=\"right\" width=\"250\" src=\"assets/command.png\" style=\"padding:10px;\"> Det finnes flere alternative måter å installere og jobbe med Python. Vi kommer som nevnt til å bruke Jupyter og Anaconda, men det kan være greit å være klar over alternative oppsett. Kanskje er det noen av dere som også ønsker å gjøre ting utover hva dette kurset dekker, og da kan det hende at det blir behov for andre verktøy enn Jupyter.\n",
    "\n",
    "Den enkleste installasjonen er å kun installere selve Python-programmet  direkte fra https://www.python.org/ og koden kjøres fra kommandolinje (bildet til høyre). Python startes med kommandoen \"python\". På mac må man ofte legge til versjonsnummeret, for eksempel \"python38\" for versjon 3.8. Dette gir en interaktiv økt der pythonkoden kjøres hver gang du trykker ENTER.\n",
    "\n",
    "<img align=\"left\" width=\"250\" src=\"assets/visualcode.png\" style=\"padding:10px;\">Å bruke en såkalt \"IDE\" gir imidlertid langt mer fleksibilitet. En IDE er et program som hjelper deg å lage og redigere python-filer. Dersom du skal lage et mer omfattende program i Python er det hensiktsmessig å lage filer. Hver fil er en modul som du kan kalle opp dersom du arbeider i samme mappe. Det går for eksempel an å samle noen funksjoner du bruker mye i en fil, og så importere denne filen når du skriver kode i Jupyter.\n",
    "\n",
    "Det finnes flere ulike alternativer for IDE'er, men et godt og gratis alternativ er [Visual Studio Code](https://code.visualstudio.com/download). VS Code støtter også flere andre programmeringsspråk. Men, som nevnt, detter er ikke noe du trenger til dette kurset."
   ]
  },
  {
   "cell_type": "markdown",
   "metadata": {},
   "source": [
    "## Språk"
   ]
  },
  {
   "cell_type": "markdown",
   "metadata": {},
   "source": [
    "Python, som de fleste andre programmeringsspråk, er basert på engelsk språk. Det er naturlig, siden engelsk er det overlegent største andrespråket i verden og de fleste programmeringsspråk har blitt utviklet i USA (her er Python et unntak). Av samme grunn bør all kode i utgangspunktet skriver på engelsk. Kode bør kunne deles globalt, og da bør den skrives på et språk flest mulig forstår.\n",
    "\n",
    "Men selv om koden er engelsk, så er ofte brukergrensesnittet på lokalt språk. Du har kanskje norsk som språk i nettleseren din men bortsett fra navnene i menyene er all kode på engelsk. \n",
    "\n",
    "I dette kurset skal vi gjøre det på tilsvarende måte. All kode skal i hovedsak skrives på engelsk. Printing kan imidlertid gjøres på norsk, slik som dette:"
   ]
  },
  {
   "cell_type": "code",
   "execution_count": null,
   "metadata": {},
   "outputs": [],
   "source": [
    "#let us make a simple program\n",
    "my_sentence=\"Her er det lov å skrive norsk, for dette skal ut til skjermen!\"\n",
    "print(my_sentence)"
   ]
  },
  {
   "cell_type": "markdown",
   "metadata": {},
   "source": [
    "Legg merke til den første setningen i programmet, `#let us make a simple program`. Hash-tenget `#` først, angir at denne linjen ikke skal oppfattes som en del av programmet. Pyhon overser dermed denne setningen. Denne funksjonen finnes, slik at vi kan *dokumentere* koden. Det vil si at vi skriver inn i koden hva som skjer. \n",
    "\n",
    "Program blir ofte veldig fort veldig komplekse og uoversiktlige. Uten noen forklaring blir det fort vanskelig eller uoverkommelig for andre å forstå hva du har tenkt. Da blir det veldig vanskelig for andre å komme inn eller ta over prosjektet ditt. Det er også enklere for deg selv å gå tilbake og lese din egen kode, om du har vært flink å dokumentere den med kommentarer. "
   ]
  },
  {
   "cell_type": "markdown",
   "metadata": {},
   "source": [
    "## Gode programmeringsvaner\n",
    "\n",
    "For å gjøre koden så godt leselig som mulig for andre, er det noen prinsipper som bør følges. Det er lite hensiktsmessig å gå detaljert inn på disse nå, før vi har lært litt mer, men vi tar med de generelle prinsippene som skaperen av Python, Guido van Rossum har laget, som du kan kikke tilbake på etterhvert som du lærer mer:\n",
    "\n",
    "1. Pen er bedre enn stygt.\n",
    "2. Eksplisitt er bedre enn implisitt.\n",
    "3. Enkelt er bedre enn komplekst.\n",
    "4. Komplekst er bedre enn komplisert.\n",
    "5. Flat er bedre enn nøstet.\n",
    "6. Luftig er bedre enn tett.\n",
    "7. Leselighet betyr noe.\n",
    "8. Spesialtifeller er ikke spesielle nok til å bryte regelene.\n",
    "   Selv om praktiske hensyn slår renhet.\n",
    "9. Feil bør aldri passere i det stille,\n",
    "   med mindre de er eksplisitt dempet.\n",
    "10. Når du møter tvilstilfeller, ikke fall for fristelsen å gjette.\n",
    "11. Det bør være én og helst bare én åpenbar måte å gjøre det på,\n",
    "    selv om den måten kanskje ikke er åpenbar umiddelbart for de som ikke er Nederelendere\n",
    "12. Nå er bedre aldri,\n",
    "    selv om aldri ofte er bedre enn *akkurat* nå.\n",
    "13. Om implementeringen er vanskelig å forstå, så er det en dårlig idé. \n",
    "14. Om implementeringen er lett å forstå, så er det en god idé.  \n",
    "15. `namespaces` er en fantastisk idé, -- la oss gjøre mer av det!"
   ]
  },
  {
   "cell_type": "markdown",
   "metadata": {},
   "source": [
    "##### <span style=\"color:lightgrey\"><Forrige</span>     |     [Neste >](1%20-%20variabler.ipynb)"
   ]
  }
 ],
 "metadata": {
  "kernelspec": {
   "display_name": "Python 3",
   "language": "python",
   "name": "python3"
  },
  "language_info": {
   "codemirror_mode": {
    "name": "ipython",
    "version": 3
   },
   "file_extension": ".py",
   "mimetype": "text/x-python",
   "name": "python",
   "nbconvert_exporter": "python",
   "pygments_lexer": "ipython3",
   "version": "3.7.5"
  }
 },
 "nbformat": 4,
 "nbformat_minor": 4
}
