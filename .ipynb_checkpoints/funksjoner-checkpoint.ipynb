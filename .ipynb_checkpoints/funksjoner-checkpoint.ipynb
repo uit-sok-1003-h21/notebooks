{
 "cells": [
  {
   "cell_type": "markdown",
   "metadata": {},
   "source": [
    "# `Funksjoner`"
   ]
  },
  {
   "cell_type": "markdown",
   "metadata": {},
   "source": [
    "## Å bruke funksjoner"
   ]
  },
  {
   "cell_type": "markdown",
   "metadata": {},
   "source": [
    "En av de viktigste verktøyene i Python er muligheten til å kjøre og lage egne funksjoner. En vanlig nybegynnerfeil i programmering er å ikke utnytte muligheten til å lage egne funksjoner tilstrekkelig. Hovedregelen er at om det er noe av koden din som repeteres, så skal du lage en ny funksjon som håndterer dette. Målet er at antall linjer i hver funksjon skal være så lite som mulig. Men før vi lærer å lage egne funksjoner, skal vi se litt på hvordan funksjoner brukes."
   ]
  },
  {
   "cell_type": "markdown",
   "metadata": {},
   "source": [
    "## Innebygde funksjoner"
   ]
  },
  {
   "cell_type": "markdown",
   "metadata": {},
   "source": [
    "Python kommer med en rekke innebygde funksjoner. I tillegg kan du importere pakker som har en lang rekke funksjoner. Her er noen innebygde funksjoner i Python:\n",
    "\n",
    "#### Eksempel 1:"
   ]
  },
  {
   "cell_type": "code",
   "execution_count": 21,
   "metadata": {},
   "outputs": [
    {
     "name": "stdout",
     "output_type": "stream",
     "text": [
      "2.4\n",
      "2.0\n",
      "2.4\n",
      "5\n"
     ]
    }
   ],
   "source": [
    "print( max(2.4,2.0)   )\n",
    "print( min(2.4, 2.0)  )\n",
    "print( abs(-2.4)      )\n",
    "print( len(\"abcde\")   )\n"
   ]
  },
  {
   "cell_type": "markdown",
   "metadata": {},
   "source": [
    "Legg merke til at funksjonene `max`, `min`, `abs` og `len` alle er omsluttet av funksjonen `print` som sørger for at resultatet skrives ut nedenfor. En funksjon kan altså *returnere noe*, slik som  `max`, `min`, `abs` og `len`, eller *gjøre noe* slik som `print`, eller begge deler.\n",
    "\n",
    "Funksjonen `len` angir antall bokstave"
   ]
  },
  {
   "cell_type": "markdown",
   "metadata": {},
   "source": [
    "## Import av pakker og funksjoner"
   ]
  },
  {
   "cell_type": "markdown",
   "metadata": {},
   "source": [
    "I Python er det svært enkelt å *importere* på ferdig pakker for som kan kjøre ferdige funksjoner. Vi skal her se på et eksempel med noe som heter eksponentialfunksjonen. Denne finnes blant annet i pakken `numpy`. Dette er en svært nyttig pakke for matematiske beregninger. \n",
    "\n",
    "Som vi skal se lenger ned, så er eksponentialfunksjonen viktig innen økonomifaget fordi den brukes i vekstberegninger, for eksempel for befolkning eller produksjon. \n",
    "\n",
    "Som nevnt tidligere så er *potensen* $y^x$ et *grunntall* $y$ opphøyet i en eksponent $x$. Når vi snakker om *eksponenten* i bestemt form, så betyr det at grunntallet er et helt bestemt tall. Dette tallet kalles $e$, etter matematikeren Euler, og er tilnærmet $e=2.71828$ (det er egentlig en uendelig rekke med siffer etter komma) \n",
    "\n",
    "Python har ikke noe innebygd funksjon for eksponenten, så vi importerer en pakke som heter `numpy`, som har en slik funksjon. For å få mindre skriving senere, er det vanlig å importere den som aliaset `np`. Dette gjør vi slik:\n",
    "\n",
    "#### Eksempel 2:"
   ]
  },
  {
   "cell_type": "code",
   "execution_count": null,
   "metadata": {},
   "outputs": [],
   "source": [
    "import numpy as np"
   ]
  },
  {
   "cell_type": "markdown",
   "metadata": {},
   "source": [
    "Navnet på eksponent-funksjonen i numpy er exp. Skal vi for eksempel finne $e^2=2.71828^2$, skriver vi\n",
    "\n",
    "#### Eksempel 3:"
   ]
  },
  {
   "cell_type": "code",
   "execution_count": 9,
   "metadata": {},
   "outputs": [
    {
     "data": {
      "text/plain": [
       "7.38905609893065"
      ]
     },
     "execution_count": 9,
     "metadata": {},
     "output_type": "execute_result"
    }
   ],
   "source": [
    "np.exp(2)"
   ]
  },
  {
   "cell_type": "markdown",
   "metadata": {},
   "source": [
    "Vi kan finne et mer eksakt tall for eksponenten ved å finne eksponenten av 1, siden ethvert tall opphøyd i 1 er seg selv:\n",
    "\n",
    "#### Eksempel 4:"
   ]
  },
  {
   "cell_type": "code",
   "execution_count": 10,
   "metadata": {},
   "outputs": [
    {
     "data": {
      "text/plain": [
       "2.718281828459045"
      ]
     },
     "execution_count": 10,
     "metadata": {},
     "output_type": "execute_result"
    }
   ],
   "source": [
    "np.exp(1)"
   ]
  },
  {
   "cell_type": "markdown",
   "metadata": {},
   "source": [
    "Eksponenten til 5 er for eksempel 2.71828 opphøyet i 5\n",
    "\n",
    "#### Eksempel 6"
   ]
  },
  {
   "cell_type": "code",
   "execution_count": 7,
   "metadata": {},
   "outputs": [
    {
     "data": {
      "text/plain": [
       "148.41315910257657"
      ]
     },
     "execution_count": 7,
     "metadata": {},
     "output_type": "execute_result"
    }
   ],
   "source": [
    "np.exp(1)**5"
   ]
  },
  {
   "cell_type": "code",
   "execution_count": 8,
   "metadata": {},
   "outputs": [
    {
     "data": {
      "text/plain": [
       "148.4131591025766"
      ]
     },
     "execution_count": 8,
     "metadata": {},
     "output_type": "execute_result"
    }
   ],
   "source": [
    "np.exp(5)"
   ]
  },
  {
   "cell_type": "markdown",
   "metadata": {},
   "source": [
    "*Logartimen* er det eksakt motsatte av eksponentialfunksjonen. Tar vi logaritmen av eksponentialfunksjone, får vi argumentet til sistnevnte\n",
    "\n",
    "#### Eksempel 7:"
   ]
  },
  {
   "cell_type": "code",
   "execution_count": 63,
   "metadata": {},
   "outputs": [
    {
     "data": {
      "text/plain": [
       "5.0"
      ]
     },
     "execution_count": 63,
     "metadata": {},
     "output_type": "execute_result"
    }
   ],
   "source": [
    "np.log(np.exp(5))"
   ]
  },
  {
   "cell_type": "markdown",
   "metadata": {},
   "source": [
    "Tar vi eksponentialfunksjonen av logartimen får vi også argumentet til logartimen\n",
    "\n",
    "#### Eksempel 8"
   ]
  },
  {
   "cell_type": "code",
   "execution_count": 64,
   "metadata": {},
   "outputs": [
    {
     "data": {
      "text/plain": [
       "4.999999999999999"
      ]
     },
     "execution_count": 64,
     "metadata": {},
     "output_type": "execute_result"
    }
   ],
   "source": [
    "np.exp(np.log(5))"
   ]
  },
  {
   "cell_type": "markdown",
   "metadata": {},
   "source": [
    "## Lage egne funksjoner"
   ]
  },
  {
   "cell_type": "markdown",
   "metadata": {},
   "source": [
    "Funksjoner er helt sentralt i all slags programmering. Et program uten egendefinerte funksjoner er bare en liste med kommandoer, og det er svært begrenset hva du kan få til med det. Heldigvis er det ekstremt enkelt å lage egne funksjoner i Python. Vi kan for eksempel lage en enkel funksjon for etterspørselen etter en vare. \n",
    "\n",
    "Den viktigste faktoren som påvirker etterspørselen etter en vare, er pris. Høyere pris gjør at færre er villige til å kjøpe varen, slik at etterspørselen faller. Få vil kjøpe epler til 102 kroner, men mange vil kjøpe det for 0.0102 kroner.\n",
    "\n",
    "Funksjonen bør derfor være slik at høyere pris reduserer etterspørselen (*demand* på engelsk). Her er et forslag:\n",
    "\n",
    "#### Eksempel 9"
   ]
  },
  {
   "cell_type": "code",
   "execution_count": 23,
   "metadata": {},
   "outputs": [],
   "source": [
    "#Creating a function that returns total demand given a price p\n",
    "def demand(p):\n",
    "    return 125/(5+p)"
   ]
  },
  {
   "cell_type": "markdown",
   "metadata": {},
   "source": [
    "Vi kan nå sjekke om denne funksjonen tilfredstiller vårt krav om at høyere pris skal gi lavere etterspørsel: \n",
    "\n",
    "#### Eksempel 10"
   ]
  },
  {
   "cell_type": "code",
   "execution_count": 24,
   "metadata": {},
   "outputs": [
    {
     "name": "stdout",
     "output_type": "stream",
     "text": [
      "12.5\n",
      "8.333333333333334\n",
      "4.166666666666666\n"
     ]
    }
   ],
   "source": [
    "print( demand(5)            )\n",
    "print( demand(10)           )\n",
    "print( demand(5)-demand(10) )"
   ]
  },
  {
   "cell_type": "markdown",
   "metadata": {},
   "source": [
    "Vi ser at funksjonen fungerer slik den skal. Høyere pris gir lavere etterspørsel. Vi kan også legge til flere argumenter til funksjonen. Det kan jo for eksempel hende at andre ting enn pris påvirker etterspørselen. For eksempel har kvalitet noe å si. Få vil betale full pris for råtne epler. La oss derfor legge inn et kvalitetsparameter `quality_dice`:\n",
    "\n",
    "#### Eksempel 11"
   ]
  },
  {
   "cell_type": "code",
   "execution_count": 33,
   "metadata": {},
   "outputs": [],
   "source": [
    "def demand(p, quality_dice):\n",
    "    return quality_dice*125/(5+p)"
   ]
  },
  {
   "cell_type": "markdown",
   "metadata": {},
   "source": [
    "Vi kan nå sammenligne etterspørselen ved terningkast én og seks. \n",
    "\n",
    "#### Eksempel 12"
   ]
  },
  {
   "cell_type": "code",
   "execution_count": 34,
   "metadata": {},
   "outputs": [
    {
     "name": "stdout",
     "output_type": "stream",
     "text": [
      "8.333333333333334\n",
      "50.0\n",
      "6.0\n"
     ]
    }
   ],
   "source": [
    "print(  demand(10, 1)              )\n",
    "print(  demand(10, 6)              )\n",
    "print(  demand(10, 6)/demand(10,1) )"
   ]
  },
  {
   "cell_type": "markdown",
   "metadata": {},
   "source": [
    "Etterspørselen ved terningkast seks er altså seks ganger så stor som ved terningkast én, som ventet. Av og til ønsker du at argumentene til en funksjon skal være valgfrie. Da kan du definere en standard (\"default\") verdi for argumentet. Om du for eksempel antar at dersom kvalitet ikke er spesifisert, så ligger den rundt 4, så kan vi omdefinere funksjonen på følgende måte for å ta hensyn til det:\n",
    "\n",
    "#### Eksempel 13"
   ]
  },
  {
   "cell_type": "code",
   "execution_count": 36,
   "metadata": {},
   "outputs": [],
   "source": [
    "def demand(p, quality_dice = 4):\n",
    "    return quality_dice*125/(5+p)"
   ]
  },
  {
   "cell_type": "markdown",
   "metadata": {},
   "source": [
    "Vi ser at vi lager standard for argumentet ved å sette argumentet lik standarden i definisjonen. Vi kan nå teste det ut:\n",
    "\n",
    "#### Eksempel 14"
   ]
  },
  {
   "cell_type": "code",
   "execution_count": 37,
   "metadata": {},
   "outputs": [
    {
     "name": "stdout",
     "output_type": "stream",
     "text": [
      "33.333333333333336\n",
      "33.333333333333336\n",
      "1.0\n"
     ]
    }
   ],
   "source": [
    "print( demand(10, quality_dice = 4 ) )\n",
    "print( demand(10)                   )\n",
    "print( demand(10)/demand(10, 4)     )"
   ]
  },
  {
   "cell_type": "markdown",
   "metadata": {
    "jupyter": {
     "source_hidden": true
    },
    "tags": []
   },
   "source": [
    "Som du ser kan vi enten navngi argumentet når vi kaller på funksjonen, eller vi kan bare spesifisere to argumenter. Navngiving er nyttig når det er flere valgfrie argument, og vi kun ønsker å spesifisere ett av dem. \n",
    "\n",
    "For eksempel så kan det tenkes at markedsføring har noe å si, så antall kroner brukt på markedsføring kan skrives inn. Det er sannsynligvis større effekt av de første ti tusen som brukes på markedsføring, enn om du legger ti tusen oppå et budsjett på hundre tusen. Vi bruker derfor funksjonen np.log() i Eksempel 8, som har nettopp denne egenskapen:\n",
    "\n",
    "#### Eksempel 14"
   ]
  },
  {
   "cell_type": "code",
   "execution_count": 54,
   "metadata": {},
   "outputs": [
    {
     "name": "stdout",
     "output_type": "stream",
     "text": [
      "80.26485362172906\n",
      "39.92538481088858\n",
      "240.2920440725121\n",
      "1.020233427153128\n",
      "22.85434532678282\n"
     ]
    }
   ],
   "source": [
    "def demand(p, quality_dice = 4, marketing = 10000):\n",
    "    return quality_dice*np.log(marketing/900)*125/(5+p)\n",
    "\n",
    "#Showing different ways to specify the function, when we have optional arguments:\n",
    "print( demand(10, marketing = 10000 )                                        )\n",
    "print( demand(10, quality_dice=6, marketing = 2000  )                        )\n",
    "print( demand(10, 6,              marketing = 110000 )                       )\n",
    "\n",
    "#Showing what the log function does:\n",
    "print( demand(10, marketing = 110000 )/demand(10, marketing = 100000 )       )\n",
    "print( demand(10, marketing = 10000  )/demand(10, marketing = 1000   )       )"
   ]
  },
  {
   "cell_type": "markdown",
   "metadata": {},
   "source": [
    "Eksempel 14 viser at med to valgfrie variabler, har vi nå mange måter å spesifisere funksjonen på. Uttrykket i de siste to linjene viser at på grunn av log-funksjonen så øker etterspørselen med bare 2% når markedsføringen øker fra 100 000 til 110 000. Når markedsføringen økes fra 1 000 kroner til 10 000 kroner, så øker derimot salget med 2 285%."
   ]
  },
  {
   "cell_type": "markdown",
   "metadata": {},
   "source": [
    "## Renteregning"
   ]
  },
  {
   "cell_type": "markdown",
   "metadata": {},
   "source": [
    "La oss bruke muligheten til å lage funksjoner selv til noe nyttig! Vi skal nå lage en funksjon for et lån. Om banken legger til renten én gang i året og renten er r, så er et låne på x kroner blitt til $x\\cdot (1+r)^{T}$ kroner om T år. Dette kan vi programmere som følgende funksjon:\n",
    "\n",
    "#### Eksempel 15"
   ]
  },
  {
   "cell_type": "code",
   "execution_count": 75,
   "metadata": {},
   "outputs": [],
   "source": [
    "def account_balance(x,r,T):\n",
    "    return x*(1+r)**T"
   ]
  },
  {
   "cell_type": "markdown",
   "metadata": {},
   "source": [
    "La oss tenke oss at dette er er dyrt forbrukslån. Renten på lånet er derfor på hele 20%=0.2. Du har lånt hundre tusen og skal betale tilbake alt om to år. Vi kan nå regne ut hva du skylder etter ett og to år:\n",
    "\n",
    "#### Eksempel 16"
   ]
  },
  {
   "cell_type": "code",
   "execution_count": 85,
   "metadata": {},
   "outputs": [
    {
     "name": "stdout",
     "output_type": "stream",
     "text": [
      "120.0\n",
      "144.0\n"
     ]
    }
   ],
   "source": [
    "#loan after one year\n",
    "print( account_balance(100,0.2,1)          )\n",
    "\n",
    "#loan after two years\n",
    "print( account_balance(100,0.2,2)          )"
   ]
  },
  {
   "cell_type": "markdown",
   "metadata": {},
   "source": [
    "Vi ser at beløpet blir ekstra stort fordi renten det andre året beregnes på grunnlag av lånet + renter det første året. I stedet for renter på 20 tusen andre året, blir renten 24 tusen. Differansen på fire tusen kalles renters rente.\n",
    "\n",
    "Men for forbrukslån legges vanligvis ikke renten til bare hvert år. Den legges til månedlig, eller kanskje enda oftere. Det hadde vært fint å ha en funksjon som kunne håndtere dette, då det skal vi lage.\n",
    "\n",
    "La oss nå tenke oss at banken legger til renter n ganger i året. Om for eksempel n=12, så legger banken til renter måndedlig. Vi kan da regne ut lånet ved ulik antall forrentninger ber år. Formelen for dette er $x\\cdot (1+\\frac{r}{n})^{T\\cdot n}$. Dette kan programmeres i pyton som\n",
    "\n",
    "#### Eksempel 17"
   ]
  },
  {
   "cell_type": "code",
   "execution_count": 91,
   "metadata": {},
   "outputs": [],
   "source": [
    "def account_balance_n(x,r,T,n):\n",
    "    return x*(1+r/n)**(T*n)"
   ]
  },
  {
   "cell_type": "markdown",
   "metadata": {},
   "source": [
    "Om rentene legges til hver måned blir nå gjelden etter to år på\n",
    "\n",
    "#### Eksempel 18"
   ]
  },
  {
   "cell_type": "code",
   "execution_count": 92,
   "metadata": {},
   "outputs": [
    {
     "data": {
      "text/plain": [
       "148.69146179463576"
      ]
     },
     "execution_count": 92,
     "metadata": {},
     "output_type": "execute_result"
    }
   ],
   "source": [
    "account_balance_n(100,0.2,2,12)"
   ]
  },
  {
   "cell_type": "markdown",
   "metadata": {},
   "source": [
    "Vi ser at det lønner seg en god del å legge til renten hver måned. Differansen, i tusen kroner, er på\n",
    "\n",
    "#### Eksempel 181"
   ]
  },
  {
   "cell_type": "code",
   "execution_count": 93,
   "metadata": {},
   "outputs": [
    {
     "data": {
      "text/plain": [
       "4.691461794635757"
      ]
     },
     "execution_count": 93,
     "metadata": {},
     "output_type": "execute_result"
    }
   ],
   "source": [
    "account_balance_n(100,0.2,2,12)-account_balance_n(100,0.2,2,1)"
   ]
  },
  {
   "cell_type": "markdown",
   "metadata": {},
   "source": [
    "La oss nå anta at rentene legges nå til hvert sekund i året. Det er 31 536 000 sekunder i et år. Gjelden er da\n",
    "\n",
    "#### Eksempel 19"
   ]
  },
  {
   "cell_type": "code",
   "execution_count": 94,
   "metadata": {},
   "outputs": [
    {
     "data": {
      "text/plain": [
       "149.18246858790133"
      ]
     },
     "execution_count": 94,
     "metadata": {},
     "output_type": "execute_result"
    }
   ],
   "source": [
    "account_balance_n(100,0.2,2,31536000)"
   ]
  },
  {
   "cell_type": "markdown",
   "metadata": {},
   "source": [
    "Å gå fra å legge til renter hver måned til å gjøre det hvert sekund gir banken\n",
    "\n",
    "#### Eksempel 19"
   ]
  },
  {
   "cell_type": "code",
   "execution_count": 89,
   "metadata": {},
   "outputs": [
    {
     "data": {
      "text/plain": [
       "0.4910067932655693"
      ]
     },
     "execution_count": 89,
     "metadata": {},
     "output_type": "execute_result"
    }
   ],
   "source": [
    "account_balance_n(100,0.2,2,31536000)-account_balance_n(100,0.2,2,12)"
   ]
  },
  {
   "cell_type": "markdown",
   "metadata": {},
   "source": [
    "Altså fem hundre kroner. I stedet for å regne ut med daglig forrentning kan vi imidlertid bruke kontinuerlig, som vil si at vi bruker eksponentialfunksjonen. Kontinuerlig økning er jo det vanligste i naturen. Et barn vokser hele tiden, altså kontinuerlig. Formelen for kontinuerlig vekst er $x\\cdot e^{r\\cdot T}$\n",
    "\n",
    "#### Eksempel 20"
   ]
  },
  {
   "cell_type": "code",
   "execution_count": 81,
   "metadata": {},
   "outputs": [],
   "source": [
    "def account_balance_exponential(x,r,T):\n",
    "    return x*np.exp(r*T)"
   ]
  },
  {
   "cell_type": "markdown",
   "metadata": {},
   "source": [
    "La oss nå regne ut forskjellen mellom eksponensiell økning, og å legge til rentene hvert sekund:\n",
    "\n",
    "#### Eksempel 21"
   ]
  },
  {
   "cell_type": "code",
   "execution_count": 90,
   "metadata": {},
   "outputs": [
    {
     "data": {
      "text/plain": [
       "1.1762257088321348e-06"
      ]
     },
     "execution_count": 90,
     "metadata": {},
     "output_type": "execute_result"
    }
   ],
   "source": [
    "account_balance_exponential(100,0.2,2)-account_balance_n(100,0.2,2,31536000)"
   ]
  },
  {
   "cell_type": "markdown",
   "metadata": {},
   "source": [
    "Forskjellen er som vi ser svært liten, så å legge til renter hvert sekund er en god tilnærming til kontinuerlig vekst. \n",
    "\n",
    "#### Eksempel 22"
   ]
  },
  {
   "cell_type": "markdown",
   "metadata": {},
   "source": [
    "# Oppgaver:"
   ]
  },
  {
   "cell_type": "markdown",
   "metadata": {},
   "source": [
    "### Oppgave 1\n",
    "    \n",
    "    a) Hva tror du funksjonen len gjør i Eksempel 1. Du kan finne det ut med prøving og feiling. "
   ]
  },
  {
   "cell_type": "code",
   "execution_count": null,
   "metadata": {},
   "outputs": [],
   "source": []
  },
  {
   "cell_type": "markdown",
   "metadata": {},
   "source": [
    "### Oppgave 2"
   ]
  },
  {
   "cell_type": "markdown",
   "metadata": {},
   "source": [
    "Vi har til nå kun sett på etterspørselen fra kundene. Men tilbudet, eller produksjonen, er også avhengig av prisen. Når bonden opplever at hun får mer for eplene, vil hun høste flere epler. De lavthengende fruktene plukkes først. De siste eplene kan henge litt ukurant til og tar derfor lenger tid å plukke. Bonden plukker derfor bare disse når prisen er høy nok. \n",
    "\n",
    "En tilbudsfunksjon bør altså være stigende; desto høyere pris, desto mer produseres. Her er et forslag til en tilbudsfunksjon, sammen med den første enkle etterspørselsfunksjonen fra Eksempel 9:"
   ]
  },
  {
   "cell_type": "code",
   "execution_count": 60,
   "metadata": {},
   "outputs": [],
   "source": [
    "def supply(p):\n",
    "    return p**2\n",
    "    \n",
    "def demand(p):\n",
    "    return 125/(5+p)"
   ]
  },
  {
   "cell_type": "markdown",
   "metadata": {},
   "source": [
    "\n",
    "\n",
    "Prisen som vil sette seg i markedet er den som balanserer tilbud og etterspørsel. Forsøk å finne omtrent hva prisen må være for at tilbudet skal bli likt etterspørselen."
   ]
  },
  {
   "cell_type": "code",
   "execution_count": 73,
   "metadata": {},
   "outputs": [
    {
     "name": "stdout",
     "output_type": "stream",
     "text": [
      "14.24609536\n",
      "14.24598832968636\n"
     ]
    }
   ],
   "source": [
    "print(  supply(3.7744)       )\n",
    "print(  demand(3.7744)       )"
   ]
  },
  {
   "cell_type": "code",
   "execution_count": null,
   "metadata": {},
   "outputs": [],
   "source": []
  }
 ],
 "metadata": {
  "kernelspec": {
   "display_name": "Python 3",
   "language": "python",
   "name": "python3"
  },
  "language_info": {
   "codemirror_mode": {
    "name": "ipython",
    "version": 3
   },
   "file_extension": ".py",
   "mimetype": "text/x-python",
   "name": "python",
   "nbconvert_exporter": "python",
   "pygments_lexer": "ipython3",
   "version": "3.8.10"
  }
 },
 "nbformat": 4,
 "nbformat_minor": 4
}
