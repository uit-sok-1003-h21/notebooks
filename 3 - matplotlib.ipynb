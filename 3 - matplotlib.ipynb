{
 "cells": [
  {
   "cell_type": "markdown",
   "metadata": {},
   "source": [
    "##### [< Forrige](2%20-%20funksjoner.ipynb)     |     [Neste >](3%20-%20funksjoner%20med%20plot.ipynb)"
   ]
  },
  {
   "cell_type": "markdown",
   "metadata": {},
   "source": [
    "# 3 - matplotlib"
   ]
  },
  {
   "cell_type": "markdown",
   "metadata": {},
   "source": [
    "Det er fint å kunne lage funksjoner i Python, men det er enda bedre å *se* dem. Vi skal nå se på hvordan vi kan tegne resultatet av funksjoner i et diagram ved hjelp av pakken matplotlib. Vi starter med å *importere* `matplotlib` og `numpy`:\n",
    "\n",
    "#### Eksempel 1:"
   ]
  },
  {
   "cell_type": "code",
   "execution_count": 5,
   "metadata": {},
   "outputs": [],
   "source": [
    "import numpy as np\n",
    "from matplotlib import pyplot as plt"
   ]
  },
  {
   "cell_type": "markdown",
   "metadata": {},
   "source": [
    "### Eksempel med bankinnskudd"
   ]
  },
  {
   "cell_type": "markdown",
   "metadata": {},
   "source": [
    "Vi begynner med å tegne opp funksjonen for et bankinnskud fra forrige forelesning. Om banken din legger til renten én gang i året og renten er r, så er bankinnskuddet på x=100 om T år med n forrentninger per år gitt som  $x\\cdot (1+\\frac{r}{n})^{T\\cdot n}$, som vi kan programmere slik:\n",
    "\n",
    "#### Eksempel 2:"
   ]
  },
  {
   "cell_type": "code",
   "execution_count": 6,
   "metadata": {},
   "outputs": [],
   "source": [
    "def account_balance(x,r,T,n):\n",
    "    return x*(1+r/n)**(T*n)"
   ]
  },
  {
   "cell_type": "markdown",
   "metadata": {},
   "source": [
    "Om renten er 20%=0.2, innskuddet er 100 som forrentes årlig, så kan vi tegne innskuddsfunksjonen fram til år 10 som\n",
    "\n",
    "#### Eksempel 3:"
   ]
  },
  {
   "cell_type": "code",
   "execution_count": null,
   "metadata": {
    "scrolled": true
   },
   "outputs": [],
   "source": [
    "#1. Checking developement over 20 years, with 100 data points\n",
    "T = np.linspace(0,10,100)\n",
    "\n",
    "#2. initiating the function:\n",
    "fig,ax=plt.subplots()\n",
    "\n",
    "#3. adding axis lables:\n",
    "ax.set_ylabel('Verdi bankinnskudd')\n",
    "ax.set_xlabel('Tid T')\n",
    "\n",
    "#4. plotting the function:\n",
    "ax.plot(T, account_balance(100,0.2,T,1),          label='Bankinnskudd, årlig forrentning')\n",
    "\n",
    "#5. adding legend in the upper left corner:\n",
    "ax.legend(loc='upper left')"
   ]
  },
  {
   "cell_type": "markdown",
   "metadata": {},
   "source": [
    "Det som skjer over er at vi\n",
    "\n",
    "1. Definerer for hvilke verdier vi skal tegne og hvor mange punkter. Her ser vi at vi tegner hundre punkter i intervallet 0 til ti\n",
    "2. Lager to objekter `fig` og `ax` som brukes til å tegne grafene. \n",
    "3. Definerer hva som skal være på x og y-aksen\n",
    "4. Plotter ved å sette inn punktene `T` og funksjonen `account_balance(100,0.2,T,1)` inn i funksjonen `ax.plot`\n",
    "5. lager ettikett og plasserer den oppe til venstre\n",
    "\n",
    "La oss nå tenke oss at banken legger til renter n ganger i året. O, n=12, så legger banken til renter måndedlig. Vi kan da regne ut bankinnskuddet ved ulik antall forrentninger ber år:\n",
    "\n",
    "#### Eksempel 4:"
   ]
  },
  {
   "cell_type": "code",
   "execution_count": null,
   "metadata": {},
   "outputs": [],
   "source": [
    "#plotting four graphs with different compounding:\n",
    "ax.plot(T,       account_balance(100,0.2,T,1),          label='Kvartalsvis forrentning',     color='green')\n",
    "ax.plot(T,       account_balance(100,0.2,T,12),         label='Måndedlig forrentning',       color='red')\n",
    "ax.plot(T,       account_balance(100,0.2,T,52),         label='Ukentlig forrentning',        color='orange')\n",
    "ax.plot(T,       account_balance(100,0.2,T,365),        label='Daglig forrentning',          color='purple')\n",
    "fig"
   ]
  },
  {
   "cell_type": "markdown",
   "metadata": {},
   "source": [
    "Vi kan skrive ut forskjellen  i tall slik:\n",
    "\n",
    "#### Eksempel 5:"
   ]
  },
  {
   "cell_type": "code",
   "execution_count": null,
   "metadata": {},
   "outputs": [],
   "source": [
    "#printing the nummerical difference between annual and daily compounding:\n",
    "print(f\"\"\"Differansen mellom årlig og daglig forrentning etter 20 år er {\n",
    "    np.round(\n",
    "    account_balance(100,0.2,10,365)-account_balance(100,0.2,10,1)\n",
    "        ,2)\n",
    "}\"\"\")"
   ]
  },
  {
   "cell_type": "markdown",
   "metadata": {},
   "source": [
    "I stedet for å regne ut med daglig forrentning kan vi bruke kontinuerlig, som vil si at vi bruker eksponentialfunksjonen:\n",
    "\n",
    "#### Eksempel 6:"
   ]
  },
  {
   "cell_type": "code",
   "execution_count": null,
   "metadata": {},
   "outputs": [],
   "source": [
    "#defining the continous compounding function:\n",
    "def account_balance_exponential(x,r,T):\n",
    "    return x*np.exp(r*T)"
   ]
  },
  {
   "cell_type": "markdown",
   "metadata": {},
   "source": [
    "La oss plotte kontinuerlig og daglig forrentning. Legg merke til første linje, som sørger for at vi starter med \"blanke ark\". \n",
    "\n",
    "#### Eksempel 7:"
   ]
  },
  {
   "cell_type": "code",
   "execution_count": null,
   "metadata": {},
   "outputs": [],
   "source": [
    "#Starting with a blank graph by defining ax and fig again:\n",
    "fig,ax=plt.subplots()\n",
    "\n",
    "#adding continious compounding to the prevoius plot\n",
    "ax.plot(T,       account_balance_exponential(100,0.2,T),label='Kontinuerlig forrentet',      color='pink')\n",
    "ax.plot(T,       account_balance(100,0.2,T,365),        label='Daglig forrentning',          color='purple')\n",
    "\n",
    "#printing the nummerical difference between continious and daily compounding:\n",
    "print(f\"\"\"Differansen mellom årlig og kontinuerlig forrentning etter 20 år er {\n",
    "    np.round(\n",
    "   account_balance_exponential(100,0.2,10)- account_balance(100,0.2,10,365)\n",
    "        ,2)\n",
    "}\"\"\")\n"
   ]
  },
  {
   "cell_type": "markdown",
   "metadata": {},
   "source": [
    "Vi ser at selv om det lønner seg å forrente ofte, er det liten forskjell mellom daglig og kontinuerlig forretning. Likevel benytter vi ofte kontinuerlig forrentning i økonomifaget. Årsaken til det er at eksponenten og logaritmen er mye enklere å jobbe med matematisk enn potens og polynomer. "
   ]
  },
  {
   "cell_type": "markdown",
   "metadata": {},
   "source": [
    "# Googling"
   ]
  },
  {
   "cell_type": "markdown",
   "metadata": {},
   "source": [
    "Det er umulig å huske hvordan alle funksjonene til alle pakkene i Python skal brukes, ikke minst fordi det er en konstant uvikling av slike pakker. Heldigvis lages de fleste pakker på en *pytonsk* måte, hvilket vil si at funksjoner og objekter fra forskjellige pakker og forfattere skal oppføre seg forutsigbart og ensartet. Helt selvforklarende er imidlertid ingen pakker. \n",
    "\n",
    "Den beste måten å finne ut hvordan du skal bruke en pakke, er derfor å google det du lurer på. Dette må gjøres på engelsk, siden stort sett alt av forum og dokumentasjon er på engelsk. \n",
    "\n",
    "La oss derfor ta matplotlib som eksempel. La oss si at du har glemt denne forelesningen og derfor skal finne ut hvordan du plotter en linje med matplotlib. Forsøk å google `\"matplotlib plot function\"`. I skrivende stund i første treff på Google (det er ikke alltid det første treffet er best), finner du denne koden:\n",
    "\n",
    "\n",
    "#### Eksempel 8:"
   ]
  },
  {
   "cell_type": "code",
   "execution_count": null,
   "metadata": {},
   "outputs": [],
   "source": [
    "import matplotlib.pyplot as plt\n",
    "import numpy as np\n",
    "\n",
    "# 100 linearly spaced numbers\n",
    "x = np.linspace(-5,5,100)\n",
    "\n",
    "# the function, which is y = x^2 here\n",
    "y = x**2\n",
    "\n",
    "# setting the axes at the centre\n",
    "fig = plt.figure()\n",
    "ax = fig.add_subplot(1, 1, 1)\n",
    "ax.spines['left'].set_position('center')\n",
    "ax.spines['bottom'].set_position('zero')\n",
    "ax.spines['right'].set_color('none')\n",
    "ax.spines['top'].set_color('none')\n",
    "ax.xaxis.set_ticks_position('bottom')\n",
    "ax.yaxis.set_ticks_position('left')\n",
    "\n",
    "# plot the function\n",
    "plt.plot(x,y, 'r')\n",
    "\n",
    "# show the plot\n",
    "plt.show()"
   ]
  },
  {
   "cell_type": "markdown",
   "metadata": {},
   "source": [
    "Vi ser umiddelbart at det er endel ting vi ikke trenger for et enkelt plott, så vi sletter alt under kommentaren `# setting the axes at the centre` (frem til `# plot the function`). Vi trenger heller ikke definisjonen av funksjonen under kommentaren `# the function, which is y = x^2 here`, siden vi har definert våre egne funksjoner over, så vi sletter den også.  Så bytter vi ut alle `x`'er med `T` og setter for eksempel inn funksjonen for daglig forretning `account_balance(100,0.2,T,365)` inn i `plot`-funksjonen. Da får vi følgende kode:\n",
    "\n",
    "#### Eksempel 9:"
   ]
  },
  {
   "cell_type": "code",
   "execution_count": null,
   "metadata": {},
   "outputs": [],
   "source": [
    "import matplotlib.pyplot as plt\n",
    "import numpy as np\n",
    "\n",
    "# 100 linearly spaced numbers\n",
    "T = np.linspace(-5,5,100)\n",
    "\n",
    "# plot the function\n",
    "plt.plot(T,account_balance(100,0.2,T,365), 'r')\n",
    "\n",
    "# show the plot\n",
    "plt.show()"
   ]
  },
  {
   "cell_type": "markdown",
   "metadata": {},
   "source": [
    "Vi ser altså her at ved å bruke eksempler som vi kan endre på, så kan vi finne raskt ut hvordan en pakke fungerer. Bruker du andres kode, bør det generelt kommenteres i koden. Dette avhenger imidlertid litt av hvor mye som er reelt bidrag, og hvor mye som bare er standard bruk av pakker. Eksemplet over er standard bruk av matplotlib og det er lite igjen av den opprinnelige koden, og da er det ikke nødvendig å oppgi kilde. "
   ]
  },
  {
   "cell_type": "markdown",
   "metadata": {},
   "source": [
    "## Eksempel med tilbud og etterspørsel"
   ]
  },
  {
   "cell_type": "markdown",
   "metadata": {},
   "source": [
    "Vi definerer først tilbud og etterspørsel slik vi gjorde i forrige forelesning, men med litt andre tall:\n",
    "\n",
    "#### Eksempel 10:"
   ]
  },
  {
   "cell_type": "code",
   "execution_count": 34,
   "metadata": {},
   "outputs": [],
   "source": [
    "def supply(x):\n",
    "    return 0.5*x**2\n",
    "    \n",
    "def demand(x):\n",
    "    return 100/(4+x)"
   ]
  },
  {
   "cell_type": "markdown",
   "metadata": {},
   "source": [
    "Vi skal nå finne likhet mellom tilbud og etterspørsel grafisk ved å tegne opp begge funksjonene i samme diagram:\n",
    "\n",
    "#### Eksempel 11:"
   ]
  },
  {
   "cell_type": "code",
   "execution_count": null,
   "metadata": {
    "scrolled": true,
    "tags": []
   },
   "outputs": [],
   "source": [
    "#drawing 100 points in the interval 0.0 to 5.0\n",
    "x = np.linspace(0,10,100)\n",
    "\n",
    "#drawing supply\n",
    "plt.plot(x,supply(x),label='Tilbud')\n",
    "\n",
    "#drawing demand\n",
    "plt.plot(x,demand(x),color='green',label='Etterspørsel')\n",
    "\n",
    "#adding legend:\n",
    "plt.legend(loc='lower right')\n",
    "\n",
    "#setting the range of y values (the price) to be between 0 and 30, so that we can more\n",
    "#easily see the equilibrium price\n",
    "plt.ylim((0,30))"
   ]
  },
  {
   "cell_type": "markdown",
   "metadata": {},
   "source": [
    "## Oppgaver"
   ]
  },
  {
   "cell_type": "markdown",
   "metadata": {},
   "source": [
    "#### Oppgave 1:\n",
    "a) Forsøk å finne prisen og mengden i likevekt (der tilbud=etterspørsel) ved å bruke informasjonen i figuren\n",
    "b) Gjør endringer i tilbud og etterspørselsfunksjonene og finn likevekt for disse. "
   ]
  },
  {
   "cell_type": "markdown",
   "metadata": {},
   "source": [
    "##### [< Forrige](2%20-%20funksjoner.ipynb)     |     [Neste >](3%20-%20funksjoner%20med%20plot.ipynb)"
   ]
  }
 ],
 "metadata": {
  "kernelspec": {
   "display_name": "Python 3",
   "language": "python",
   "name": "python3"
  },
  "language_info": {
   "codemirror_mode": {
    "name": "ipython",
    "version": 3
   },
   "file_extension": ".py",
   "mimetype": "text/x-python",
   "name": "python",
   "nbconvert_exporter": "python",
   "pygments_lexer": "ipython3",
   "version": "3.7.5"
  }
 },
 "nbformat": 4,
 "nbformat_minor": 4
}
