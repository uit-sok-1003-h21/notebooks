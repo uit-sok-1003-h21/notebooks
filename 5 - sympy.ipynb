{
 "cells": [
  {
   "cell_type": "markdown",
   "metadata": {},
   "source": [
    "##### [< Forrige](4%20-%20lister%2C%20oppslag%20og%20numpy.ipynb)     |     [Neste >](6%20-%20logikk-filtrering-betingelser.ipynb)"
   ]
  },
  {
   "cell_type": "markdown",
   "metadata": {},
   "source": [
    "# 5 - Sympy"
   ]
  },
  {
   "cell_type": "markdown",
   "metadata": {},
   "source": [
    "Sympy er en veldig nyttig pakke innenfor samfunnsøknomi. Med den kan vi regne analytisk, det vil si med symboler. I samfunnsøknomi bruker vi mye matematikk som denne pakken kan hjelpe oss med. Vi starter med et eksempel på utregning av profittmaksimum:"
   ]
  },
  {
   "cell_type": "markdown",
   "metadata": {},
   "source": [
    "## Eksempel med optimal mengde arbeidskraft"
   ]
  },
  {
   "cell_type": "markdown",
   "metadata": {},
   "source": [
    "Anta at du er bedriftsleder, og lurer på hvor mange medarbeidere du skal ansette. For en gitt mengde arbeidskraft produseres"
   ]
  },
  {
   "cell_type": "code",
   "execution_count": 3,
   "metadata": {},
   "outputs": [],
   "source": [
    "def f(L,a):\n",
    "    return 60*L**a"
   ]
  },
  {
   "cell_type": "markdown",
   "metadata": {},
   "source": [
    "`a` definerer produktiviteten til de ansatte. Desto høyere `a` er, desto mer produktive er de ansatte. Vi kan plotte denne funksjonen:"
   ]
  },
  {
   "cell_type": "code",
   "execution_count": 4,
   "metadata": {},
   "outputs": [
    {
     "data": {
      "text/plain": [
       "Text(0, 0.5, 'Produksjon')"
      ]
     },
     "execution_count": 4,
     "metadata": {},
     "output_type": "execute_result"
    },
    {
     "data": {
      "image/png": "[encoded data removed]",
      "text/plain": [
       "<Figure size 432x288 with 1 Axes>"
      ]
     },
     "metadata": {
      "needs_background": "light"
     },
     "output_type": "display_data"
    }
   ],
   "source": [
    "import matplotlib.pyplot as plt\n",
    "import numpy as np\n",
    "\n",
    "x = np.linspace(0,5,100)\n",
    "\n",
    "plt.plot(x,f(x,0.5))\n",
    "plt.xlabel('Arbeidskraft')\n",
    "plt.ylabel('Produksjon')"
   ]
  },
  {
   "cell_type": "markdown",
   "metadata": {},
   "source": [
    "Som vi ser er produktiviteten avtakende, kurven stiger mindre utover i diagrammet. Det er fordi `a` er mindre enn én. (Forsøk med andre tall for `a`!)\n",
    "\n",
    "Når produktfunksjonen er definert, kan vi definere fortjenesten til bedriften, eller \"profittfunksjonen\" som vi gjerne kaller det i samfunnsøkonomi. La oss si at bedriften betaler hver arbeider `w` tusen kroner, og at faste utgifter er `K`. \n",
    "\n",
    "Fortenesten er pris ganger solgt mengde, `p*f(L,a)` og kostnadene er lønnskostnader `w*L` og faste utgifter `K`. Profittfunksjonen blir da"
   ]
  },
  {
   "cell_type": "code",
   "execution_count": 5,
   "metadata": {},
   "outputs": [],
   "source": [
    "def profit(L,a,w,p,K):\n",
    "    return p*f(L,a)-w*L-K"
   ]
  },
  {
   "cell_type": "markdown",
   "metadata": {},
   "source": [
    "La oss se på den grafisk. Dersom prisen per enhet er hundre kroner, lønna er 2 500 per dag og bedriften har 300 000 i faste utgifter per dag, så ser profittfunksjonen slik ut:"
   ]
  },
  {
   "cell_type": "code",
   "execution_count": 6,
   "metadata": {},
   "outputs": [
    {
     "data": {
      "text/plain": [
       "<matplotlib.legend.Legend at 0x155a56caf48>"
      ]
     },
     "execution_count": 6,
     "metadata": {},
     "output_type": "execute_result"
    },
    {
     "data": {
      "image/png": "[encoded data removed]",
      "text/plain": [
       "<Figure size 432x288 with 1 Axes>"
      ]
     },
     "metadata": {
      "needs_background": "light"
     },
     "output_type": "display_data"
    }
   ],
   "source": [
    "import matplotlib.pyplot as plt\n",
    "import numpy as np\n",
    "\n",
    "\n",
    "import matplotlib.pyplot as plt\n",
    "import numpy as np\n",
    "\n",
    "#creating the plot\n",
    "x = np.linspace(0,5000,100)\n",
    "fig,ax=plt.subplots()\n",
    "ax.set_ylabel('kroner')\n",
    "ax.set_xlabel('Antall ansatte')\n",
    "\n",
    "\n",
    "#plotting the function\n",
    "plt.plot(x,profit(x,0.9,2500,100,300000),label='Fortjeneste')\n",
    "ax.legend(loc='lower right',frameon=False)"
   ]
  },
  {
   "cell_type": "markdown",
   "metadata": {},
   "source": [
    "Vi bruker metoden med `fig,ax=plt.subplots()`, siden vi skal bygge på denne grafen. \n",
    "\n",
    "Vi skal nå begynne å bruke sympy. Det første vi må gjøre er å definere hvilke symboler som skal behandles analytisk (altså som symboler og ikke flyttall). Det gjør vi slik:"
   ]
  },
  {
   "cell_type": "code",
   "execution_count": 7,
   "metadata": {},
   "outputs": [],
   "source": [
    "import sympy as sp\n",
    "L,a,w,p,K=sp.symbols(\"L a w p K\")"
   ]
  },
  {
   "cell_type": "markdown",
   "metadata": {},
   "source": [
    "Med symbolene definert, vil nå vår profittfunksjon vises analytisk når vi bruker de definere symbolene:"
   ]
  },
  {
   "cell_type": "code",
   "execution_count": 8,
   "metadata": {},
   "outputs": [
    {
     "data": {
      "text/latex": [
       "$\\displaystyle - K - L w + 60 L^{a} p$"
      ],
      "text/plain": [
       "-K - L*w + 60*L**a*p"
      ]
     },
     "execution_count": 8,
     "metadata": {},
     "output_type": "execute_result"
    }
   ],
   "source": [
    "profit(L,a,w,p,K)"
   ]
  },
  {
   "cell_type": "markdown",
   "metadata": {},
   "source": [
    "Vi ønsker å finne ut for hvilken arbeidskraft fortjenesten er størst. Det er det høyeste punktet i figuren fra Eksempel ??. På dette punktet har profittfunksjonen ingen stigning, slik at den deriverte er null. For å finne dette punktet må vi først finne den *deriverte*. Det gjør vi i sympy med funksjonen `diff()`. Den tar to argumenter. Det første er funksjonen, det andre er den variabel vi ønsker å derivere med hensyn til. \n",
    "\n",
    "Som vi ser av figuren i Eksempel ??, så har vi arbeidskraft `L` langs x-aksen, så det er denne variabelen vi ønsker å derivere med hensyn til. Den deriverte av `profitt()` med hensyn til `L` er dermed:"
   ]
  },
  {
   "cell_type": "code",
   "execution_count": 9,
   "metadata": {
    "scrolled": true
   },
   "outputs": [
    {
     "data": {
      "text/latex": [
       "$\\displaystyle - w + \\frac{60 L^{a} a p}{L}$"
      ],
      "text/plain": [
       "-w + 60*L**a*a*p/L"
      ]
     },
     "execution_count": 9,
     "metadata": {},
     "output_type": "execute_result"
    }
   ],
   "source": [
    "d_profitt=sp.diff(profit(L,a,w,p,K),L)\n",
    "d_profitt"
   ]
  },
  {
   "cell_type": "markdown",
   "metadata": {},
   "source": [
    "### Løser førsteordensbetingelsen"
   ]
  },
  {
   "cell_type": "markdown",
   "metadata": {},
   "source": [
    "For å finne punktet der denne deriverte er null, setter vi opp en ligning der den deriverte er null, og løser for den `L` som tilfredstiller ligningen. En slik ligning kalles \"førsteordensbetingelse\", eller \"first order condition\" på engelsk. Vi forkorter den derfor til \"foc\":"
   ]
  },
  {
   "cell_type": "code",
   "execution_count": 10,
   "metadata": {},
   "outputs": [
    {
     "data": {
      "text/latex": [
       "$\\displaystyle - w + \\frac{60 L^{a} a p}{L} = 0$"
      ],
      "text/plain": [
       "Eq(-w + 60*L**a*a*p/L, 0)"
      ]
     },
     "execution_count": 10,
     "metadata": {},
     "output_type": "execute_result"
    }
   ],
   "source": [
    "foc=sp.Eq(d_profitt,0)\n",
    "foc"
   ]
  },
  {
   "cell_type": "markdown",
   "metadata": {},
   "source": [
    "Vi kan nå løse førsteordensbetingelsen med funksjonen `solve`, som ligger i modulen `solvers`i sympy:"
   ]
  },
  {
   "cell_type": "code",
   "execution_count": 11,
   "metadata": {},
   "outputs": [
    {
     "data": {
      "text/latex": [
       "$\\displaystyle \\left(\\frac{60 a p}{w}\\right)^{- \\frac{1}{a - 1}}$"
      ],
      "text/plain": [
       "(60*a*p/w)**(-1/(a - 1))"
      ]
     },
     "execution_count": 11,
     "metadata": {},
     "output_type": "execute_result"
    }
   ],
   "source": [
    "from sympy.solvers import solve\n",
    "L_max=solve(foc,L)[0]\n",
    "L_max"
   ]
  },
  {
   "cell_type": "markdown",
   "metadata": {},
   "source": [
    "Legg merke til at resultatet ligger i en liste med lengde 1, så vi må hente ut element 0 i listen for å vise resultatet. Vi kan finne hva den analytiske verdien er i maksimum ved å sette `L_max`inn i profittfunksjonen:"
   ]
  },
  {
   "cell_type": "code",
   "execution_count": 12,
   "metadata": {},
   "outputs": [],
   "source": [
    "profit_max=profit(L_max,a,w,p,K)"
   ]
  },
  {
   "cell_type": "markdown",
   "metadata": {},
   "source": [
    "Vi kan nå beregne de nummeriske verdiene ved å sette inn noen passende tall for de ukjente symbolene. Vi prøver med 0.5 for produktivitet `a`, 0.3 for lønn `w`, 1 for prise `p` og 1 for kapital `K`. Vi forteller sympy om at vi ønsker å bruke dise verdiene ved å lage et oppslag der hvert av symbolene er nøkkel til hver av de nummeriske verdiene:"
   ]
  },
  {
   "cell_type": "code",
   "execution_count": 13,
   "metadata": {},
   "outputs": [],
   "source": [
    "num_dict={a:0.9,w:2500,p:100,K:300000}"
   ]
  },
  {
   "cell_type": "markdown",
   "metadata": {},
   "source": [
    "Vi kan nå finne nummerisk hvor mye arbeidskraft som trengs for å oppnå maksimal fortjeneste:"
   ]
  },
  {
   "cell_type": "code",
   "execution_count": 14,
   "metadata": {},
   "outputs": [
    {
     "data": {
      "text/latex": [
       "$\\displaystyle 2210.73919720734$"
      ],
      "text/plain": [
       "2210.73919720734"
      ]
     },
     "execution_count": 14,
     "metadata": {},
     "output_type": "execute_result"
    }
   ],
   "source": [
    "L_max.subs(num_dict)"
   ]
  },
  {
   "cell_type": "markdown",
   "metadata": {},
   "source": [
    "Om vi nå legger dette tallet inn for symbol `L`, kan vi finne hvor stor fortjenesten er i dette punktet: "
   ]
  },
  {
   "cell_type": "code",
   "execution_count": 15,
   "metadata": {},
   "outputs": [
    {
     "data": {
      "text/latex": [
       "$\\displaystyle 2210.73919720734$"
      ],
      "text/plain": [
       "2210.73919720734"
      ]
     },
     "execution_count": 15,
     "metadata": {},
     "output_type": "execute_result"
    }
   ],
   "source": [
    "num_dict[L]=L_max.subs(num_dict)\n",
    "num_dict[L]"
   ]
  },
  {
   "cell_type": "markdown",
   "metadata": {},
   "source": [
    "Med det oppdaterte oppslaget blir fortjenesten"
   ]
  },
  {
   "cell_type": "code",
   "execution_count": 16,
   "metadata": {},
   "outputs": [
    {
     "data": {
      "text/latex": [
       "$\\displaystyle 314094.221446482$"
      ],
      "text/plain": [
       "314094.221446482"
      ]
     },
     "execution_count": 16,
     "metadata": {},
     "output_type": "execute_result"
    }
   ],
   "source": [
    "profit_max_num=profit(L,a,w,p,K).subs(num_dict)\n",
    "profit_max_num"
   ]
  },
  {
   "cell_type": "markdown",
   "metadata": {},
   "source": [
    "Med modulene `display`og `Markdown`fra `IPython` (pakken som driver Jupyter), kan vi sette dette in i en pen tabell:"
   ]
  },
  {
   "cell_type": "code",
   "execution_count": 17,
   "metadata": {},
   "outputs": [
    {
     "data": {
      "text/markdown": [
       "\n",
       "|                                 | Desimalverdi                             |  Analytisk verdi              | \n",
       "| :-------------------------------| :----------------------------------------| :-----------------------------| \n",
       "| Optimal mengde arbeidskraft:     | $2210.7$         |$\\left(\\frac{60 a p}{w}\\right)^{- \\frac{1}{a - 1}}$            | \n",
       "| Maksimal profitt                | $314094.2$    |$- K + 60 p \\left(\\left(\\frac{60 a p}{w}\\right)^{- \\frac{1}{a - 1}}\\right)^{a} - w \\left(\\frac{60 a p}{w}\\right)^{- \\frac{1}{a - 1}}$       | \n",
       "\n"
      ],
      "text/plain": [
       "<IPython.core.display.Markdown object>"
      ]
     },
     "metadata": {},
     "output_type": "display_data"
    }
   ],
   "source": [
    "from IPython.display import display, Markdown\n",
    "\n",
    "tbl=f\"\"\"\n",
    "|                                 | Desimalverdi                             |  Analytisk verdi              | \n",
    "| :-------------------------------| :----------------------------------------| :-----------------------------| \n",
    "| Optimal mengde arbeidskraft:     | ${np.round(float(num_dict[L]),1)}$         |${sp.latex(L_max)}$            | \n",
    "| Maksimal profitt                | ${np.round(float(profit_max_num),1)}$    |${sp.latex(profit_max)}$       | \n",
    "\n",
    "\"\"\"\n",
    "display(Markdown(tbl))"
   ]
  },
  {
   "cell_type": "markdown",
   "metadata": {},
   "source": [
    "La oss nå plotte løstningen. Vi plotter her følgende, i rekkefølge:\n",
    "1. Den opprinnelige profittfunksjonen\n",
    "2. Den horisontale tangenten som tangerer i maksimumspunktet\n",
    "3. En vertikal linje som viser mengden arbeidskraft i optimum. \n",
    "\n",
    "Legg merke til at vi legger inn verdiene vi har definert i `num_dict` inn i profittfunksjonen. Generelt er det en god idé i programmering å \"hardkode\" tall minst mulig. Definer det heller tallet som en variabel eller element i en `dict`og referer til det senere. "
   ]
  },
  {
   "cell_type": "code",
   "execution_count": 18,
   "metadata": {},
   "outputs": [
    {
     "data": {
      "image/png": "[encoded data removed]",
      "text/plain": [
       "<Figure size 432x288 with 1 Axes>"
      ]
     },
     "execution_count": 18,
     "metadata": {},
     "output_type": "execute_result"
    }
   ],
   "source": [
    "ax.plot(x,\n",
    "        profit_max_num*np.ones(len(x)),\n",
    "        label='Tangent')\n",
    "\n",
    "ax.vlines(float(num_dict[L]), \n",
    "          -300000, \n",
    "          profit_max_num*1.1,\n",
    "          colors=['black'],\n",
    "          linestyles='dashed',\n",
    "          label='optimum')\n",
    "ax.legend(loc='lower right',frameon=False)\n",
    "fig"
   ]
  },
  {
   "cell_type": "markdown",
   "metadata": {
    "tags": []
   },
   "source": [
    "# Eksempel med tilbud og etterspørsel"
   ]
  },
  {
   "cell_type": "markdown",
   "metadata": {},
   "source": [
    "I forelesning 3 definerte vi disse tilbuds og etterspørselsfunksjonene:"
   ]
  },
  {
   "cell_type": "code",
   "execution_count": 19,
   "metadata": {},
   "outputs": [],
   "source": [
    "def supply(x):\n",
    "    return (x**2)*(1/250)\n",
    "    \n",
    "def demand(x):\n",
    "    return 3000/(100+x)"
   ]
  },
  {
   "cell_type": "markdown",
   "metadata": {},
   "source": [
    "Og vi tegnet dem slik:"
   ]
  },
  {
   "cell_type": "code",
   "execution_count": 68,
   "metadata": {},
   "outputs": [
    {
     "data": {
      "text/plain": [
       "<matplotlib.legend.Legend at 0x155a87eb288>"
      ]
     },
     "execution_count": 68,
     "metadata": {},
     "output_type": "execute_result"
    },
    {
     "data": {
      "image/png": "[encoded data removed]",
      "text/plain": [
       "<Figure size 432x288 with 1 Axes>"
      ]
     },
     "metadata": {
      "needs_background": "light"
     },
     "output_type": "display_data"
    }
   ],
   "source": [
    "#drawing 100 points in the interval 0.0 to 100\n",
    "q = np.linspace(1,100,100)\n",
    "\n",
    "#creating the plot\n",
    "q = np.linspace(0,100,100)\n",
    "fig,ax=plt.subplots()\n",
    "ax.set_ylabel('Pris')\n",
    "ax.set_xlabel('Enheter')\n",
    "\n",
    "\n",
    "#drawing supply\n",
    "ax.plot(q,supply(q),label='Tilbud')\n",
    "\n",
    "#drawing demand\n",
    "ax.plot(q,demand(q),color='green',label='Etterspørsel')\n",
    "\n",
    "#adding legend:\n",
    "ax.legend(loc='upper center',frameon=False)\n"
   ]
  },
  {
   "cell_type": "markdown",
   "metadata": {},
   "source": [
    "Vi løste da likevekten grafisk, ved å se sånn cirka hvor tilbud er lik etterspørsel. Med sympy kan vi la python regne ut dette, og konsument og produsentoverskudd. Vi gjør dette ved å definere mengde `x` som en eksogen variabel, og sette opp ligningen vi trenger, altså at tilbud skal være lik etterspørsel:"
   ]
  },
  {
   "cell_type": "code",
   "execution_count": 69,
   "metadata": {},
   "outputs": [
    {
     "data": {
      "text/latex": [
       "$\\displaystyle \\frac{3000}{x + 100} = 0.004 x^{2}$"
      ],
      "text/plain": [
       "Eq(3000/(x + 100), 0.004*x**2)"
      ]
     },
     "execution_count": 69,
     "metadata": {},
     "output_type": "execute_result"
    }
   ],
   "source": [
    "x=sp.symbols('x')\n",
    "eq_cond=sp.Eq(demand(x),supply(x))\n",
    "eq_cond"
   ]
  },
  {
   "cell_type": "markdown",
   "metadata": {},
   "source": [
    "Vi kan nå løse dette med solve fra sympy, som i forrige eksempel:"
   ]
  },
  {
   "cell_type": "code",
   "execution_count": 70,
   "metadata": {},
   "outputs": [
    {
     "data": {
      "text/plain": [
       "[67.0125415064549,\n",
       " -83.5062707532274 - 64.9510401355397*I,\n",
       " -83.5062707532274 + 64.9510401355397*I]"
      ]
     },
     "execution_count": 70,
     "metadata": {},
     "output_type": "execute_result"
    }
   ],
   "source": [
    "x_eq=solve(eq_cond,x)\n",
    "x_eq"
   ]
  },
  {
   "cell_type": "markdown",
   "metadata": {},
   "source": [
    "Bare én av disse løsningene er gyldige. De to siste i listen `x_eq`er såkalte \"imaginære tall\", det ser vi av `I`'en. Vi går ikke lenger inn på hva dette er her, men nøyer oss med å si at en likevekt ikke kan være et imaginært tall. Løsningen er altså `x_eq[0]`. Vi kan sette denne inn i enten tilbuds eller etterspørselfunksjonen for å få likevektsprisen "
   ]
  },
  {
   "cell_type": "code",
   "execution_count": 71,
   "metadata": {
    "scrolled": true
   },
   "outputs": [
    {
     "name": "stdout",
     "output_type": "stream",
     "text": [
      "\n",
      "Likevektspris er 17.9627228766173\n",
      "Likevektskvantum er 67.0125415064549\n",
      "\n"
     ]
    }
   ],
   "source": [
    "p_eq=demand(x_eq[0])\n",
    "print(f\"\"\"\n",
    "Likevektspris er {p_eq}\n",
    "Likevektskvantum er {x_eq[0]}\n",
    "\"\"\")"
   ]
  },
  {
   "cell_type": "markdown",
   "metadata": {},
   "source": [
    "Etterspørselskurven kan ses på som en rekke med konsumenter med ulik betalingsvilje i fallende rekkefølge. Alle konsumentene som betaler `p_eq` har dermed et overskudd som er lik differansen mellom `p_eq` og konsumentens punkt på etterspørselskurven. Summen av alle konsumentenes overskudd kalles konsumentoverskuddet. Dette kan illustreres ved å legge  et skravert område til figuren over"
   ]
  },
  {
   "cell_type": "code",
   "execution_count": 72,
   "metadata": {
    "scrolled": true
   },
   "outputs": [
    {
     "data": {
      "image/png": "[encoded data removed]",
      "text/plain": [
       "<Figure size 432x288 with 1 Axes>"
      ]
     },
     "execution_count": 72,
     "metadata": {},
     "output_type": "execute_result"
    }
   ],
   "source": [
    "q = np.linspace(0,float(x_eq[0]),100)\n",
    "ax.fill_between(q,float(p_eq),demand(q), color = \"pink\",alpha = 0.3,label='Konsumentoverskudd')\n",
    "ax.legend(loc='upper center',frameon=False)\n",
    "fig"
   ]
  },
  {
   "cell_type": "markdown",
   "metadata": {},
   "source": [
    "Akkrat som at vi kan regnet ut skjæringspunktet med sympy, så kan vi regne ut det skraverte konsumentoverskuddet. Vi bruker da det vi har lært i matematikkurset; arealet under en funksjon er integralet til funksjonen. Vi skal finne arealet under etterspørselsfunksjonen `demand(x)`, men kun ned til prisen `p_eq`, så vi integrer differansen `demand(x)-p_eq`. Dette gjør vi for alle omsatte enheter, altså frem til omsatt kvantum `x_eq[0]`. \n",
    "\n",
    "Vi skal altså integrere  `demand(x)-p_eq` i intervalet 0 til `x_eq[0]`. Det kan vi gjøre i sympy slik:"
   ]
  },
  {
   "cell_type": "code",
   "execution_count": 82,
   "metadata": {},
   "outputs": [
    {
     "data": {
      "text/latex": [
       "$\\displaystyle 334.968455011534$"
      ],
      "text/plain": [
       "334.968455011534"
      ]
     },
     "execution_count": 82,
     "metadata": {},
     "output_type": "execute_result"
    }
   ],
   "source": [
    "consumer_surplus=sp.integrate(demand(x)-float(p_eq),(x,0,x_eq[0]))\n",
    "consumer_surplus"
   ]
  },
  {
   "cell_type": "markdown",
   "metadata": {},
   "source": [
    "På samme måte er *produsentoverskuddet* arealet over tilbuskurven, opp til prisen, altså det gule området i figuren under"
   ]
  },
  {
   "cell_type": "code",
   "execution_count": 74,
   "metadata": {},
   "outputs": [
    {
     "data": {
      "image/png": "[encoded data removed]",
      "text/plain": [
       "<Figure size 432x288 with 1 Axes>"
      ]
     },
     "execution_count": 74,
     "metadata": {},
     "output_type": "execute_result"
    }
   ],
   "source": [
    "ax.fill_between(q,supply(q),float(p_eq), color = \"yellow\",alpha = 0.3,label='Produsentoverskudd')\n",
    "ax.vlines(float(x_eq[0]), 0, 25,colors=['black'],linestyles='dashed', label='x_eq[0]')\n",
    "ax.legend(loc='upper center',frameon=False)\n",
    "fig"
   ]
  },
  {
   "cell_type": "markdown",
   "metadata": {},
   "source": [
    "Vi kan regne ut dette område også, som altså er integralet av differansen mellom prisen og tilbudskruven, frem til  `x_eq[0]`."
   ]
  },
  {
   "cell_type": "code",
   "execution_count": 83,
   "metadata": {},
   "outputs": [
    {
     "data": {
      "text/latex": [
       "$\\displaystyle 802.485141558844$"
      ],
      "text/plain": [
       "802.485141558844"
      ]
     },
     "execution_count": 83,
     "metadata": {},
     "output_type": "execute_result"
    }
   ],
   "source": [
    "producer_surplus=sp.integrate(p_eq-supply(x),(x,0,x_eq[0]))\n",
    "producer_surplus"
   ]
  },
  {
   "cell_type": "markdown",
   "metadata": {},
   "source": [
    "Summen av produsentoverskuddet og konsumentoversdkuddet kalles \"velferdsgevinsten\". Vi kan finne den ved å legge sammen konsument- og produsentoverskudd:"
   ]
  },
  {
   "cell_type": "code",
   "execution_count": 84,
   "metadata": {},
   "outputs": [
    {
     "data": {
      "text/latex": [
       "$\\displaystyle 1137.45359657038$"
      ],
      "text/plain": [
       "1137.45359657038"
      ]
     },
     "execution_count": 84,
     "metadata": {},
     "output_type": "execute_result"
    }
   ],
   "source": [
    "producer_surpluss+consumer_surpluss"
   ]
  },
  {
   "cell_type": "markdown",
   "metadata": {},
   "source": [
    "Eller ved å ta integralet av differansen mellom etterspørsel og tilbud:"
   ]
  },
  {
   "cell_type": "code",
   "execution_count": 86,
   "metadata": {},
   "outputs": [
    {
     "data": {
      "text/latex": [
       "$\\displaystyle 1137.45359657038$"
      ],
      "text/plain": [
       "1137.45359657038"
      ]
     },
     "execution_count": 86,
     "metadata": {},
     "output_type": "execute_result"
    }
   ],
   "source": [
    "welfare_surplus=sp.integrate(demand(x)-supply(x),(x,0,x_eq[0]))\n",
    "welfare_surplus"
   ]
  },
  {
   "cell_type": "markdown",
   "metadata": {},
   "source": [
    "Vi kan nå lage en tabell som oppsumerer resultatene:"
   ]
  },
  {
   "cell_type": "code",
   "execution_count": 93,
   "metadata": {},
   "outputs": [
    {
     "data": {
      "text/markdown": [
       "\n",
       "|                     | Verdi                                    |\n",
       "| :-------------------| :----------------------------------------|\n",
       "| Solgt mengde:       | $67.0$           |\n",
       "| Pris:               | $18.0$              |\n",
       "| Verdiskapning:      | $1137.5$  |\n",
       "| Konsumentoverskudd: | $335.0$ | \n",
       "| Produsentoverskudd: | $802.5$ | \n",
       "| Velferdsgevinst:    | $1137.5$   | \n"
      ],
      "text/plain": [
       "<IPython.core.display.Markdown object>"
      ]
     },
     "metadata": {},
     "output_type": "display_data"
    }
   ],
   "source": [
    "tbl=f\"\"\"\n",
    "|                     | Verdi                                    |\n",
    "| :-------------------| :----------------------------------------|\n",
    "| Solgt mengde:       | ${np.round(float(x_eq[0]),1)}$           |\n",
    "| Pris:               | ${np.round(float(p_eq),1)}$              |\n",
    "| Verdiskapning:      | ${np.round(float(welfare_surpluss),1)}$  |\n",
    "| Konsumentoverskudd: | ${np.round(float(consumer_surpluss),1)}$ | \n",
    "| Produsentoverskudd: | ${np.round(float(producer_surpluss),1)}$ | \n",
    "| Velferdsgevinst:    | ${np.round(float(welfare_surplus),1)}$   | \n",
    "\"\"\"\n",
    "display(Markdown(tbl))"
   ]
  },
  {
   "cell_type": "markdown",
   "metadata": {},
   "source": [
    "## Oppgaver"
   ]
  },
  {
   "cell_type": "markdown",
   "metadata": {},
   "source": [
    "1. I eksemplet om profittmaksimering er -300000 hardkodet som startpunktet på den vertikale linjen. Kan du endre koden slik at minimumspunktet blir likt den minste verdien for profittfunksjonen, og slik at du slipper å regne ut denne to  ganger?"
   ]
  },
  {
   "cell_type": "markdown",
   "metadata": {
    "tags": []
   },
   "source": [
    "##### [< Forrige](5%20-%20tilbud%20og%20etterspørsel.ipynb)     |     [Neste >](5%20-%20profittmaksimering.ipynb)"
   ]
  },
  {
   "cell_type": "markdown",
   "metadata": {},
   "source": [
    "##### [< Forrige](4%20-%20lister%2C%20oppslag%20og%20numpy.ipynb)     |     [Neste >](6%20-%20logikk-filtrering-betingelser.ipynb)"
   ]
  }
 ],
 "metadata": {
  "kernelspec": {
   "display_name": "Python 3",
   "language": "python",
   "name": "python3"
  },
  "language_info": {
   "codemirror_mode": {
    "name": "ipython",
    "version": 3
   },
   "file_extension": ".py",
   "mimetype": "text/x-python",
   "name": "python",
   "nbconvert_exporter": "python",
   "pygments_lexer": "ipython3",
   "version": "3.7.5"
  }
 },
 "nbformat": 4,
 "nbformat_minor": 4
}
