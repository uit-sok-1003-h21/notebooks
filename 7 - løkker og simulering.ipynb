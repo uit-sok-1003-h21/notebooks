{
 "cells": [
  {
   "cell_type": "markdown",
   "id": "a2f3208f",
   "metadata": {},
   "source": [
    "##### [< Forrige](http://localhost:8888/notebooks/6%20-%20Logikk%2C%20betingelser%2C%20filtrering%20og%20pandas.ipynb)    |     [Neste >](7%20-%20simulering.ipynb)"
   ]
  },
  {
   "cell_type": "markdown",
   "id": "e9b3f8f1",
   "metadata": {},
   "source": [
    "# 7 - Løkker og simulering"
   ]
  },
  {
   "cell_type": "markdown",
   "id": "b947848b",
   "metadata": {},
   "source": [
    "Løkker er noe av det mest brukte verktøyet for en programmerer. EN løkke er en programkode som repeteres. Det finnes i hovedsak to typer løkker i Python: `while`-løkker og `for`-løkker. En `while` lar løkken løpe til en betingelse er oppfylt, mens `for` løkken repeterer koden for alle elementene i en liste eller annen *iterativ datastruktur*. \n",
    "\n",
    "Her er eksempel på en `for`-løkke:\n",
    "\n",
    "#### Eksempel 1:"
   ]
  },
  {
   "cell_type": "code",
   "execution_count": null,
   "id": "551dd6b8",
   "metadata": {},
   "outputs": [],
   "source": [
    "from IPython.display import Markdown, display\n",
    "import sympy as sp\n",
    "\n",
    "x,y=sp.symbols(\"x y\")\n",
    "\n",
    "expressions=[\n",
    "    sp.root(x,y),\n",
    "    x**2+5*sp.exp(x),\n",
    "    x*sp.ln(x)\n",
    "]\n",
    "\n",
    "for i in expressions:\n",
    "    display(Markdown(f\"Den deriverte av ${sp.latex(i)}$ er ${sp.latex(sp.diff(i,x))}$\"))"
   ]
  },
  {
   "cell_type": "markdown",
   "id": "4d4fc74f",
   "metadata": {},
   "source": [
    "Og her er en `while`-løkke:\n",
    "\n",
    "#### Eksempel 2:"
   ]
  },
  {
   "cell_type": "code",
   "execution_count": null,
   "id": "1ad7929e",
   "metadata": {
    "scrolled": false
   },
   "outputs": [],
   "source": [
    "import numpy as np\n",
    "\n",
    "dy,y=0,100\n",
    "\n",
    "while y<125:  \n",
    "    y+=dy\n",
    "    dy=40*(np.random.rand()-0.5) \n",
    "    print(y)"
   ]
  },
  {
   "cell_type": "markdown",
   "id": "098780b7",
   "metadata": {},
   "source": [
    "Legg spesielt merke til `y+=dy` over. Denne operasjonen legger `dy` til `y`, og tilsvarer altså `y=y+dy`. De aller fleste programmeringsspråk støtter `+=`-operatoren.  \n",
    "\n",
    "Legg også merke til at vi kan sette flere variabler samtidig, ved å skille både variablene og verdiene med like mange kommaer, `dy,y=0,100`"
   ]
  },
  {
   "cell_type": "markdown",
   "id": "662d50e0",
   "metadata": {},
   "source": [
    "# Simulering\n",
    "\n",
    "Løkker kan brukes til mye, så la oss se på et eksempel på simulering. Simulering vil si å trekke tilfeldige tall for å se hvordan en modell opptrer under usikkerhet. La oss for eksempel tenke oss en aksje som starter på hundre kroner, og så beveger seg tilfeldig. Vi ser på aksjen hvert sjette minutt, eller én tidel (0.1) av én time. Tiden øker dermed med 0.1 i hver periode. \n",
    "\n",
    "Aksjen skal bevege seg tilfeldig. For å få til det bruker vi funksjonen `rand` fra `random`-modulen i numpy.  `np.random.rand()` gir et tilfeldig tall mellom null og én, så ved å multiplisere `(np.random.rand()-0.5)` med 40, får vi et tilfeldig tall mellom -20 og 20. \n",
    "\n",
    "For å tegne opp stien til aksjekursen, lager vi først lister for x- og y-verdiene, og så legger vi til elementer i hver av listene med `append`-funksjonen til listeobjektene, før listen plottes som en graf. Kjør koden flere ganger, for å se ulike simuleringer. \n",
    "\n",
    "#### Eksempel 3:"
   ]
  },
  {
   "cell_type": "code",
   "execution_count": null,
   "id": "f6b22abd",
   "metadata": {
    "scrolled": false
   },
   "outputs": [],
   "source": [
    "import matplotlib.pyplot as plt\n",
    "from matplotlib.patches import Ellipse\n",
    "from IPython.display import display, clear_output\n",
    "fig, ax = plt.subplots(figsize=(20, 10))\n",
    "ax.set_ylim([0,200])\n",
    "ax.set_xlim([0,20])\n",
    "\n",
    "x,y,dy=0,100,0\n",
    "\n",
    "ypath=[]\n",
    "xpath=[]\n",
    "\n",
    "while x<25:\n",
    "    x+= 0.1\n",
    "    y+= dy\n",
    "    dy=40*(np.random.rand()-0.5)\n",
    "\n",
    "\n",
    "    xpath.append(x)\n",
    "    ypath.append(y)\n",
    "ax.plot(xpath,ypath,label='YARA')\n",
    "ax.legend(loc='upper left',frameon=False,fontsize=30)\n"
   ]
  },
  {
   "cell_type": "markdown",
   "id": "ae4b2dad",
   "metadata": {},
   "source": [
    "# Dynamisk plott\n",
    "\n",
    "Om vi ønsker å formidle kunnskap, er det av og til nyttig med dynamiske plott. Altså plott som endrer seg mens du ser på dem. Vi kan gjøre det ved å rykke inn de to siste setningene i Eksempel 3 over. Det er disse setningene som lager plottet. Ved å rykke dem inn, plottes figuren i hver iterasjon. \n",
    "\n",
    "I utgangspunktet vil du da få 25 figurer etter hverandre. For at figuren skal tegnes i samme figur hver gang, må vi slette figuren i figurobjektet `ax` og i visningen (`clear_output(wait = True)`). Vi må da også sette akseintervallene på nytt. Dette er gjort i de fire siste setningene:\n",
    "\n",
    "#### Eksempel 4:"
   ]
  },
  {
   "cell_type": "code",
   "execution_count": null,
   "id": "1cbb741d",
   "metadata": {},
   "outputs": [],
   "source": [
    "x,y,dy=0,100,0\n",
    "\n",
    "ypath=[]\n",
    "xpath=[]\n",
    "\n",
    "while x<25:\n",
    "    x+= 0.1\n",
    "    y+= dy\n",
    "    dy=40*(np.random.rand()-0.5)\n",
    "\n",
    "\n",
    "    xpath.append(x)\n",
    "    ypath.append(y)\n",
    "    \n",
    "    #placing the plot function inside the loop, ensures that it is plotted every iteration\n",
    "    ax.plot(xpath,ypath,label='YARA')\n",
    "    ax.legend(loc='upper left',frameon=False,fontsize=30)\n",
    "    \n",
    "    #jupyter only shows the last statement by default, so we need to add this \n",
    "    #in order to plot at every iteration\n",
    "    display(fig)\n",
    "    \n",
    "    #makes sure the plot and output are ereased each time:\n",
    "    ax.cla()\n",
    "    ax.set_ylim([0,200])\n",
    "    ax.set_xlim([0,20])\n",
    "    clear_output(wait = True)"
   ]
  },
  {
   "cell_type": "markdown",
   "id": "0d9b17f0",
   "metadata": {},
   "source": [
    "# Legge til litt effekter\n",
    "\n",
    "Det er også gøy med litt effekter når vi skal formidle noe, bare det ikke blir så mye at det drar oppmerksomheten bort fra det vi skal formidle. I denne simuleringen er det veldig fristende å lage en lite rød prikk som \"leder\" aksjekursen videre. Vi skal også legge til en liten tekst som forteller hva aksjekursen er:\n",
    "\n",
    "#### Eksempel 5:"
   ]
  },
  {
   "cell_type": "code",
   "execution_count": null,
   "id": "03abfa43",
   "metadata": {},
   "outputs": [],
   "source": [
    "x,y,dy=0,100,0\n",
    "\n",
    "ypath=[]\n",
    "xpath=[]\n",
    "\n",
    "while x<25:\n",
    "    x+= 0.1\n",
    "    y+= dy\n",
    "    dy=40*(np.random.rand()-0.5)\n",
    "\n",
    "\n",
    "    xpath.append(x)\n",
    "    ypath.append(y)\n",
    "    \n",
    "    #placing the plot function inside the loop, ensures that it is plotted every iteration\n",
    "    ax.plot(xpath,ypath,label='YARA')\n",
    "    ax.legend(loc='upper left',frameon=False,fontsize=30)\n",
    "    \n",
    "    #making dot:\n",
    "    c=Ellipse((x, y), 0.25,5, color='r')\n",
    "    ax.add_patch(c)\n",
    "    \n",
    "    #making text:\n",
    "    ax.text(x+0.1,y+3,f'NOK {np.round(y,1)}')\n",
    "    \n",
    "    #jupyter only shows the last statement by default, so we need to add this \n",
    "    #in order to plot at every iteration\n",
    "    display(fig)\n",
    "    \n",
    "    #makes sure the plot and output are ereased each time:\n",
    "    ax.cla()\n",
    "    ax.set_ylim([0,200])\n",
    "    ax.set_xlim([0,20])\n",
    "    clear_output(wait = True)"
   ]
  },
  {
   "cell_type": "markdown",
   "id": "7d1f4ab7",
   "metadata": {},
   "source": [
    "# Oppgaver"
   ]
  },
  {
   "cell_type": "markdown",
   "id": "0bb577d8",
   "metadata": {},
   "source": [
    "1. Du vil raskt oppdage et problem med koden i Eksempel 5. Aksjekursen kan bli negativ. Dette kan unngås ved å plotte *eksponenenten* av prosessen, i stedet. Dette kan du få til på følgende måte \n",
    "    1. Omdøp `y` i `y+= dy` til `lny`, og husk å gjør det samme øverst der initisalverdien må endres fra 100 til 0.\n",
    "    2. Eksponenten liker ikke store tall som argument, så fjern `40*` fra definisjonen av `dy`. \n",
    "    2. definer en ny `y`som settes lik hundre ganger eksponenten til `lny`. Bruk `exp()`-funksjonen til numpy. \n",
    "3. Lag dynamiske akseintervall for y-aksen, slik at største aksjekurs alltid er minst ti prosent mer enn den simulerte kursen.\n",
    "4. Lag dynamisk akseintervall for x-aksen, slik at når tiden passerer 20, så økes intervallet. La intervallet alltid være minst ti prosent lengre enn den simulerte tiden. \n",
    "2. Kommenter ut (sett `#` foran) hver av de siste linjene i Eksempel ??, én om gangen, og se hva som skjer. "
   ]
  },
  {
   "cell_type": "markdown",
   "id": "2c1f12b0",
   "metadata": {},
   "source": [
    "##### [< Forrige](http://localhost:8888/notebooks/6%20-%20Logikk%2C%20betingelser%2C%20filtrering%20og%20pandas.ipynb)    |     [Neste >](7%20-%20simulering.ipynb)"
   ]
  }
 ],
 "metadata": {
  "kernelspec": {
   "display_name": "Python 3",
   "language": "python",
   "name": "python3"
  },
  "language_info": {
   "codemirror_mode": {
    "name": "ipython",
    "version": 3
   },
   "file_extension": ".py",
   "mimetype": "text/x-python",
   "name": "python",
   "nbconvert_exporter": "python",
   "pygments_lexer": "ipython3",
   "version": "3.7.5"
  }
 },
 "nbformat": 4,
 "nbformat_minor": 5
}
