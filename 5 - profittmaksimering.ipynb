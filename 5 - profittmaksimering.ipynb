{
 "cells": [
  {
   "cell_type": "markdown",
   "metadata": {},
   "source": [
    "##### [< Forrige](5%20-%20tilbud%20og%20etterspørsel%202.ipynb)     |     [Neste >](6%20-%20oppslag%20og%20pandas.ipynb)"
   ]
  },
  {
   "cell_type": "markdown",
   "metadata": {},
   "source": [
    "# 5 - Profittmaksimering"
   ]
  },
  {
   "cell_type": "markdown",
   "metadata": {},
   "source": [
    "### importerer nødvendige pakker:"
   ]
  },
  {
   "cell_type": "code",
   "execution_count": 2,
   "metadata": {},
   "outputs": [],
   "source": [
    "import sympy as sp\n",
    "from sympy.solvers import solve\n",
    "import numpy as np\n",
    "from IPython.display import display, Markdown, Latex\n",
    "import matplotlib.pyplot as plt\n",
    "from sympy.parsing.sympy_parser import parse_expr"
   ]
  },
  {
   "cell_type": "markdown",
   "metadata": {},
   "source": [
    "### Definerer produktfunksjon og parameterverdier, og plotter den:"
   ]
  },
  {
   "cell_type": "code",
   "execution_count": 4,
   "metadata": {},
   "outputs": [
    {
     "data": {
      "image/png": "[encoded data removed]",
      "text/plain": [
       "<Figure size 432x288 with 1 Axes>"
      ]
     },
     "metadata": {
      "needs_background": "light"
     },
     "output_type": "display_data"
    }
   ],
   "source": [
    "def f(L,a):\n",
    "    return L**a\n",
    "\n",
    "x = np.linspace(0,5,100)\n",
    "_=plt.plot(x,f(x,0.5))\n",
    "_=plt.xlabel('Arbeidskraft')\n",
    "_=plt.ylabel('Produksjon')\n"
   ]
  },
  {
   "cell_type": "markdown",
   "metadata": {},
   "source": [
    "### Definerer profittfunksjon:"
   ]
  },
  {
   "cell_type": "code",
   "execution_count": 25,
   "metadata": {},
   "outputs": [
    {
     "data": {
      "image/png": "[encoded data removed]",
      "text/plain": [
       "<Figure size 432x288 with 1 Axes>"
      ]
     },
     "metadata": {
      "needs_background": "light"
     },
     "output_type": "display_data"
    }
   ],
   "source": [
    "def profit(L,a,w,p,F):\n",
    "    #\n",
    "    return p*f(L,a)-w*L+F\n",
    "\n",
    "_=plt.plot(x,profit(x,0.5,0.3,1,1))\n",
    "_=plt.xlabel('Arbeidskraft')\n",
    "_=plt.ylabel('Profitt')"
   ]
  },
  {
   "cell_type": "markdown",
   "metadata": {},
   "source": [
    "### Finner førsteordensbetingelsene:"
   ]
  },
  {
   "cell_type": "code",
   "execution_count": 26,
   "metadata": {},
   "outputs": [
    {
     "data": {
      "text/latex": [
       "$\\displaystyle - w + \\frac{L^{a} a p}{L}$"
      ],
      "text/plain": [
       "-w + L**a*a*p/L"
      ]
     },
     "execution_count": 26,
     "metadata": {},
     "output_type": "execute_result"
    }
   ],
   "source": [
    "L,a,w,p,F=sp.symbols(\"L a w p F\")\n",
    "foc=sp.diff(profit(L,a,w,p,F),L)\n",
    "foc"
   ]
  },
  {
   "cell_type": "markdown",
   "metadata": {},
   "source": [
    "### Løser førsteordensbetingelsen"
   ]
  },
  {
   "cell_type": "code",
   "execution_count": 27,
   "metadata": {},
   "outputs": [
    {
     "data": {
      "text/latex": [
       "$\\displaystyle \\left(\\frac{a p}{w}\\right)^{- \\frac{1}{a - 1}}$"
      ],
      "text/plain": [
       "(a*p/w)**(-1/(a - 1))"
      ]
     },
     "execution_count": 27,
     "metadata": {},
     "output_type": "execute_result"
    }
   ],
   "source": [
    "L_max=solve(foc,L)[0]\n",
    "profit_max=profit(L_max,a,w,p,F)\n",
    "profit_max\n",
    "L_max"
   ]
  },
  {
   "cell_type": "markdown",
   "metadata": {},
   "source": [
    "### Finner numeriske verdier"
   ]
  },
  {
   "cell_type": "code",
   "execution_count": 28,
   "metadata": {},
   "outputs": [],
   "source": [
    "L_max_num=L_max.subs({a:0.5,w:0.3,p:1,F:1})\n",
    "profit_max_num=profit_max.subs({a:0.5,w:0.3,p:1,F:1})"
   ]
  },
  {
   "cell_type": "markdown",
   "metadata": {},
   "source": [
    "### Lager tabell:"
   ]
  },
  {
   "cell_type": "code",
   "execution_count": 32,
   "metadata": {},
   "outputs": [
    {
     "data": {
      "text/markdown": [
       "\n",
       "|                                 | Desimalverdi                             |  Analytisk verdi              | \n",
       "| :-------------------------------| :----------------------------------------| :-----------------------------| \n",
       "| Optimal mengde arbeidskraft:     | $2.8$         |$\\left(\\frac{a p}{w}\\right)^{- \\frac{1}{a - 1}}$            | \n",
       "| Maksimal profitt                | $1.8$    |$F + p \\left(\\left(\\frac{a p}{w}\\right)^{- \\frac{1}{a - 1}}\\right)^{a} - w \\left(\\frac{a p}{w}\\right)^{- \\frac{1}{a - 1}}$       | \n",
       "\n"
      ],
      "text/plain": [
       "<IPython.core.display.Markdown object>"
      ]
     },
     "metadata": {},
     "output_type": "display_data"
    }
   ],
   "source": [
    "tbl=f\"\"\"\n",
    "|                                 | Desimalverdi                             |  Analytisk verdi              | \n",
    "| :-------------------------------| :----------------------------------------| :-----------------------------| \n",
    "| Optimal mengde arbeidskraft:     | ${np.round(float(L_max_num),1)}$         |${sp.latex(L_max)}$            | \n",
    "| Maksimal profitt                | ${np.round(float(profit_max_num),1)}$    |${sp.latex(profit_max)}$       | \n",
    "\n",
    "\"\"\"\n",
    "display(Markdown(tbl))"
   ]
  },
  {
   "cell_type": "markdown",
   "metadata": {},
   "source": [
    "### Plotter"
   ]
  },
  {
   "cell_type": "code",
   "execution_count": 31,
   "metadata": {},
   "outputs": [
    {
     "data": {
      "image/png": "[encoded data removed]",
      "text/plain": [
       "<Figure size 432x288 with 1 Axes>"
      ]
     },
     "metadata": {
      "needs_background": "light"
     },
     "output_type": "display_data"
    }
   ],
   "source": [
    "_=plt.plot(x,profit(x,0.5,0.3,1,1))\n",
    "_=plt.plot(x,profit_max_num*np.ones(len(x)))\n",
    "_=plt.vlines(float(L_max_num), 1.0, 2.05,colors=['black'],linestyles='dashed')\n",
    "_=plt.xlabel('Arbeidskraft')\n",
    "_=plt.ylabel('Profitt')"
   ]
  },
  {
   "cell_type": "markdown",
   "metadata": {},
   "source": [
    "##### [< Forrige](5%20-%20tilbud%20og%20etterspørsel%202.ipynb)     |     [Neste >](6%20-%20oppslag%20og%20pandas.ipynb)"
   ]
  }
 ],
 "metadata": {
  "kernelspec": {
   "display_name": "Python 3",
   "language": "python",
   "name": "python3"
  },
  "language_info": {
   "codemirror_mode": {
    "name": "ipython",
    "version": 3
   },
   "file_extension": ".py",
   "mimetype": "text/x-python",
   "name": "python",
   "nbconvert_exporter": "python",
   "pygments_lexer": "ipython3",
   "version": "3.7.5"
  }
 },
 "nbformat": 4,
 "nbformat_minor": 4
}
