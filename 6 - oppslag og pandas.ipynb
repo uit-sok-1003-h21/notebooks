{
 "cells": [
  {
   "cell_type": "markdown",
   "id": "a94965cd",
   "metadata": {},
   "source": [
    "##### [< Forrige](5%20-%20profittmaksimering.ipynb)     |     [Neste >](7%20-%20løkker.ipynb)"
   ]
  },
  {
   "cell_type": "markdown",
   "id": "f5309ed7",
   "metadata": {},
   "source": [
    "# 6 - Oppslag og pandas"
   ]
  },
  {
   "cell_type": "markdown",
   "id": "a3e5a3d5",
   "metadata": {},
   "source": [
    "Kommer ..."
   ]
  },
  {
   "cell_type": "markdown",
   "id": "4beff551",
   "metadata": {},
   "source": [
    "##### [< Forrige](5%20-%20profittmaksimering.ipynb)     |     [Neste >](7%20-%20løkker.ipynb)"
   ]
  }
 ],
 "metadata": {
  "kernelspec": {
   "display_name": "Python 3",
   "language": "python",
   "name": "python3"
  },
  "language_info": {
   "codemirror_mode": {
    "name": "ipython",
    "version": 3
   },
   "file_extension": ".py",
   "mimetype": "text/x-python",
   "name": "python",
   "nbconvert_exporter": "python",
   "pygments_lexer": "ipython3",
   "version": "3.7.5"
  }
 },
 "nbformat": 4,
 "nbformat_minor": 5
}
