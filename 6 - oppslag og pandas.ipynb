{
 "cells": [
  {
   "cell_type": "markdown",
   "id": "a94965cd",
   "metadata": {},
   "source": [
    "##### [< Forrige](5%20-%20profittmaksimering.ipynb)     |     [Neste >](6%20-%20logikk-filtrering-betingelser.ipynb)"
   ]
  },
  {
   "cell_type": "markdown",
   "id": "f5309ed7",
   "metadata": {},
   "source": [
    "# 6 - Oppslag og pandas"
   ]
  },
  {
   "cell_type": "markdown",
   "id": "a3e5a3d5",
   "metadata": {},
   "source": [
    "Pandas er den pakken de  fleste bruker til å importere og behandle data. Det første du må gjøre for å bruke pandas er selvsagt å hente data. Dette kan gjøres på flere måter. Som vi husker fra forelesning 3 - matplotlib, gan vi hente inn  en csv-fil (kommadelt) slik:\n",
    "\n",
    "#### Eksempel 1:"
   ]
  },
  {
   "cell_type": "code",
   "execution_count": null,
   "id": "bdaf47ac",
   "metadata": {},
   "outputs": [],
   "source": [
    "pd.read_csv('./data/schooling-gdp.csv')"
   ]
  },
  {
   "cell_type": "markdown",
   "id": "55a0fcbc",
   "metadata": {},
   "source": [
    "## Titlon"
   ]
  },
  {
   "cell_type": "markdown",
   "id": "4de32dfb",
   "metadata": {},
   "source": [
    "En annen måte å gjøre det på er via en dataserver. På [https://titlon.uit.no/](https://titlon.uit.no/) ligger det børsinformasjon fra Oslo Børs. For å hente data fra Titlon gjør du følgende:\n",
    "\n",
    "1. gå inn på [https://titlon.uit.no/](https://titlon.uit.no/) \n",
    "2. trykk på \"Python\"\n",
    "3. logg inn (om du får en feilmelding etter innlogging følger du bare lenken over på nytt)\n",
    "4. Kopierer teksten i tekstboksen\n",
    "5. lim den inn under\n",
    "\n",
    "\n",
    "#### Eksempel 1:"
   ]
  },
  {
   "cell_type": "code",
   "execution_count": null,
   "id": "a6cc9fb6",
   "metadata": {},
   "outputs": [],
   "source": [
    "#Lim inn teksten fra Titlon her:\n",
    "import pymysql\n",
    "#you may substitute pymysql for pymssql if you prefer the MS SQL client\n",
    "con = pymysql.connect(host='titlon.uit.no', \n",
    "\t\tuser=\"esi000@uit.no\", \n",
    "\t\tpassword=\"vm@z3qIdBRJ6EvqDOP8S4\", \n",
    "\t\tdatabase='OSE')  \n",
    "\n",
    "sql=\"SELECT * FROM equity WHERE Name='Equinor' ORDER BY `Date`\"\n",
    "df=pd.read_sql_query(sql, con)\n",
    "df\n",
    "\n"
   ]
  },
  {
   "cell_type": "markdown",
   "id": "902ba39d",
   "metadata": {},
   "source": [
    "Koden leser inn dataene til en pandas `dataframe`, eller dataramme. Denne er kalt `df` her. Om vi ser nærmere på koden, så ser vi at den gjør følgende:\n",
    "\n",
    "1. lager et objekt `con` som representerer forbindelsen med databasen. Denne lages ved å bruke `connect()`-funksjonen til `pymysql`, som er en pakke for å hente data fra MySQL-databaser. Input er navn på server, brukernavn, passord (automatisk generert) og navn på database. \n",
    "\n",
    "2. lager en streng `sql` med kommandoen til databasen, i SQL-språk\n",
    "3. lager en `dataframe` som kalles `df` ved å bruke  `read_sql_query`-funksjonen i pandas\n",
    "\n",
    "Før vi fortsetter er det kanskje greit å forklare hva SQL er. SQL er et språk laget spesifikt for å hente ut data fra dataabaser. Nesten alle databaser er SQL-basert. Syntaksen kan virke litt knotete, men kan være lurt å lære seg dette språket. En god SQL-spørring kan spare deg for mye programmering senere. Dette er imidlertid ikke et kurs i SQL, så vi går ikke nærmere inn på denne syntaksen her. \n",
    "\n",
    "I tabellen vi henter, over, mangler endel variabler fordi det ikke er plass. For å se navnet på alle variablene kan du bruke `keys()`-funksjonen til datarammen:"
   ]
  },
  {
   "cell_type": "code",
   "execution_count": null,
   "id": "e63b3d01",
   "metadata": {},
   "outputs": [],
   "source": [
    "df.keys()"
   ]
  },
  {
   "cell_type": "markdown",
   "id": "9cc4c268",
   "metadata": {},
   "source": [
    "En dataframe ligner litt på en oppslagsliste. Du henter frem variabelen du vil bruke ved hjelp av hakeparenteser. I Titlondatabasen er avkastningen `lnDeltaP`, så la oss ta en kikk på på den:"
   ]
  },
  {
   "cell_type": "code",
   "execution_count": null,
   "id": "2784536d",
   "metadata": {},
   "outputs": [],
   "source": [
    "df['lnDeltaP']"
   ]
  },
  {
   "cell_type": "markdown",
   "id": "0329e860",
   "metadata": {},
   "source": [
    "Det viser seg at i aksjemarkedet, så har aksjene en tendens til å bevege seg i samme retning. Går børsen først ned, så vil det gjelde de aller fleste aksjene på børsen. Gjennomsnittetlig avkastning for alle børsens aksjer måles av *børsindeksen*. I Titlon er børsindeksen lagt inn som en variabel for hvert selskap under navnet `lnDeltaOSEBX`. La oss derfor undersøke om det stemmer at det er en nær sammenheng mellom Equinors kurs og børsindeksen, ved hjelp av `matplotlib`:"
   ]
  },
  {
   "cell_type": "code",
   "execution_count": null,
   "id": "d11e0ade",
   "metadata": {},
   "outputs": [],
   "source": [
    "from matplotlib import pyplot as plt\n",
    "plt.scatter(df['lnDeltaP'],df['lnDeltaOSEBX'])"
   ]
  },
  {
   "cell_type": "markdown",
   "id": "29a60d81",
   "metadata": {},
   "source": [
    "Du kan finne informasjon om andre aksjer enn Equinor om du vil. Koden under kjører en SQL-spørring som henter navnene på alle selskap i databasen etter 2015. Om du vil hente ut et annet "
   ]
  },
  {
   "cell_type": "code",
   "execution_count": null,
   "id": "a924a064",
   "metadata": {},
   "outputs": [],
   "source": [
    "sql=\"SELECT distinct Name,ISIN,SecurityId,CompanyId FROM equity WHERE Year(Date)>2015 ORDER BY `Name`\"\n",
    "companies=pd.read_sql_query(sql, con)\n",
    "list(companies.values)"
   ]
  },
  {
   "cell_type": "code",
   "execution_count": null,
   "id": "a28d7b49",
   "metadata": {},
   "outputs": [],
   "source": [
    "sql=\"SELECT distinct ISIN,date, lnDeltaOSEBX,lnDeltaP FROM equity WHERE Name='Equinor' or Name='Adevinta' or Name='SalMar' ORDER BY `Date`\"\n",
    "df=pd.read_sql_query(sql, con)"
   ]
  },
  {
   "cell_type": "code",
   "execution_count": null,
   "id": "506c2363",
   "metadata": {},
   "outputs": [],
   "source": [
    "df=df.sort_values(['ISIN','date'])\n",
    "panel=df.groupby('ISIN')\n",
    "panel"
   ]
  },
  {
   "cell_type": "markdown",
   "id": "d9dd5b6e",
   "metadata": {},
   "source": [
    "## Eurostat"
   ]
  },
  {
   "cell_type": "markdown",
   "id": "726c6289",
   "metadata": {},
   "source": [
    "Vi kan sjekke hvilke tabeller eurostat har slik"
   ]
  },
  {
   "cell_type": "code",
   "execution_count": null,
   "id": "beba81b5",
   "metadata": {
    "scrolled": true
   },
   "outputs": [],
   "source": [
    "import eurostat\n",
    "toc = eurostat.get_toc_df()\n",
    "gdp_title=toc[['GDP per capita' in i for i in toc['title']]]\n",
    "gdp_title"
   ]
  },
  {
   "cell_type": "markdown",
   "id": "95ff0380",
   "metadata": {},
   "source": [
    "La oss se på tabellen \"Purchasing power adjusted GDP per capita\", som har kode 'sdg_10_10'. Da bruker vi funksjonen `get_data_df`. "
   ]
  },
  {
   "cell_type": "code",
   "execution_count": null,
   "id": "81a6c055",
   "metadata": {},
   "outputs": [],
   "source": [
    "gdp_data = eurostat.get_data_df('sdg_10_10')\n",
    "gdp_data"
   ]
  },
  {
   "cell_type": "markdown",
   "id": "b6951383",
   "metadata": {},
   "source": [
    "Vi kan nå plott en graf. For å gjøre det mer oversiktlig, tar vi kun med radene der kolonnen 'na_item' er lik 'EXP_PPS_EU27_2020_HAB', og vi fjerner alle EU-grupperingene, uten EU28. \n",
    "\n",
    "Siden det Angela Merkel akkurat er gått av, ser vi på utviklingen i BNP justert for kjøpekraft til Tyskland (DE), Norge og EU siden Merkel tiltrådte i 2005 spesielt. Det kan vi gjøre ved å duse ut alle andre tidsserier (alpha=0.3) og forsterke de nevnte. \n",
    "\n",
    "Vi \"rebaserer\" så tallene slik at alle starter på 100 med `gdp_np=100*gdp_np/gdp_np[:,0:1]`.\n",
    "\n",
    "Da får vi denne grafen:"
   ]
  },
  {
   "cell_type": "code",
   "execution_count": null,
   "id": "99a65141",
   "metadata": {},
   "outputs": [],
   "source": [
    "from matplotlib import pyplot as plt\n",
    "import numpy as np\n",
    "gdp_data = eurostat.get_data_df('sdg_10_10')\n",
    "gdp_data = gdp_data[gdp_data['na_item']=='EXP_PPS_EU27_2020_HAB']\n",
    "gdp_data = gdp_data[~gdp_data['geo\\\\time'].isin(['EA18','EA19','EU27_2007','EU27_2020','EA18','EA18'])]\n",
    "years=gdp_data.keys()[9:]\n",
    "country_codes=list(np.array(gdp_data)[:,3])\n",
    "gdp_np=np.array(gdp_data)[:,9:]\n",
    "\n",
    "#rebasing the gdp's:\n",
    "gdp_np=100*gdp_np/gdp_np[:,0:1]\n",
    "\n",
    "plt.figure(figsize=(20,10))\n",
    "p=plt.plot(years,gdp_np.T,alpha=0.3)\n",
    "p[country_codes.index('DE')].set_linewidth(5)\n",
    "p[country_codes.index('NO')].set_linewidth(5)\n",
    "p[country_codes.index('EU28')].set_linewidth(5)\n",
    "p[country_codes.index('DE')].set_alpha(1)\n",
    "p[country_codes.index('NO')].set_alpha(1)\n",
    "p[country_codes.index('EU28')].set_alpha(1)\n",
    "plt.ylim([90, 200])\n",
    "plt.legend(p,country_codes,loc='upper left',ncol=4)"
   ]
  },
  {
   "cell_type": "markdown",
   "id": "1dd7d263",
   "metadata": {},
   "source": [
    "## Oppgaver:"
   ]
  },
  {
   "cell_type": "markdown",
   "id": "b928aef9",
   "metadata": {},
   "source": [
    "1. Hent ut to andre selskap fra titlon, og plott dem med `scatter()`-funksjonen for å se om det er en sammenheng mellom avkastningene.  "
   ]
  },
  {
   "cell_type": "markdown",
   "id": "4beff551",
   "metadata": {},
   "source": [
    "##### [< Forrige](5%20-%20profittmaksimering.ipynb)     |     [Neste >](6%20-%20logikk-filtrering-betingelser.ipynb)"
   ]
  }
 ],
 "metadata": {
  "kernelspec": {
   "display_name": "Python 3",
   "language": "python",
   "name": "python3"
  },
  "language_info": {
   "codemirror_mode": {
    "name": "ipython",
    "version": 3
   },
   "file_extension": ".py",
   "mimetype": "text/x-python",
   "name": "python",
   "nbconvert_exporter": "python",
   "pygments_lexer": "ipython3",
   "version": "3.7.5"
  }
 },
 "nbformat": 4,
 "nbformat_minor": 5
}
