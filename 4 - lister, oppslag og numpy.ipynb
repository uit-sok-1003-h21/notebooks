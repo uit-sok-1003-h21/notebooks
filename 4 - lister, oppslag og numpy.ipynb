{
 "cells": [
  {
   "cell_type": "markdown",
   "id": "a78e7dd9",
   "metadata": {},
   "source": [
    "##### [< Forrige](3%20-%20matplotlib.ipynb)     |     [Neste >](5%20-%20Sympy.ipynb)"
   ]
  },
  {
   "cell_type": "markdown",
   "id": "2f6b6dd3",
   "metadata": {},
   "source": [
    "# 4 - Lister, datastrukturer og Numpy"
   ]
  },
  {
   "cell_type": "markdown",
   "id": "5e7ddec7",
   "metadata": {},
   "source": [
    "En liste er en *datastruktur*, som igjen er en organisering av *objekter*. Slike datastrukturer er helt sentralt i alle programmeringsspråk, og alle språk har ulike typer strukturer til ulike formål. I noen datastrukturer kan du putte alle typer objekter sammen, slik som tekst, funksjoner og tall og nye datastrukturer. \n",
    "\n",
    "I andre datastrukturer kan du kun putte tall. Slike datastrukturer er vanligvis det vi i matematikken kaller *vektorer* og *matriser*. Disse kommer vi tilbake til når vi skal snakke om Numpy. \n",
    "\n",
    "Det vi skal se på først er de innebygde datastrukturene til Python. Alle de innebygde strukturene kan inneholde alle typer objekter, men de har noen viktige egenskaper som skiller dem:\n",
    "* `list` (liste): Hvert element har en bestemt plassering i listen, Tilgang fås ved å referere til plasseringen (indeksen) i form av et heltall `int`. \n",
    "* `Tuple`: Lik lister, men kan ikke forandres når den er skapt. Hovedsakelig til bruk i forbindelse med funksjoner.\n",
    "* `dict`(dictionary, oppslag): Elementene har ikke en bestemt plassering. Tilgang fås ved å referere til en nøkkel (vanligvis en streng `str`)\n",
    "\n",
    "Vi starter med å se på lister."
   ]
  },
  {
   "cell_type": "markdown",
   "id": "f12f7266",
   "metadata": {},
   "source": [
    "## Lister\n",
    "\n",
    "Lister lages med klammeparenteser. Her er noen lister med navn, forkortelse (Ticker), aksjekurs, markedsverdi, PE og gjeldsgrad for noen aksjer på Oslo Børs. Tallene er fra 27. november 2020 (kilde https://tilon.uit.no). \n",
    "\n",
    "PE er \"Price/Earnings\", som er forholdet mellom selskapenes inntjening og prisen. Gjeldsgrad er hvor stor andel av total kapital som er gjeld. Det som ikke er gjeld er egenkapital. \n",
    "\n",
    "#### Eksempel 1:"
   ]
  },
  {
   "cell_type": "code",
   "execution_count": null,
   "id": "30c3ab6e",
   "metadata": {
    "scrolled": false
   },
   "outputs": [],
   "source": [
    "equinor=['Statoil', 'EQNR', 167.554919090282, 376883380048.5, 6.14609823076753, 0.617893838660362]\n",
    "dnb=['DNB', 'DNB', 164, 259169427140, 11.1121822724349, 0.914999939276725]\n",
    "telenor=['Telenor', 'TEL', 148.737572948101, 227115017138.4, 13.0211568133471, 0.715300723576896]\n",
    "marine_harvest=['Marine Harvest', 'MHG', 225.589705235372, 118004750966.2, 21.6878893009616, 0.440427599611273]\n",
    "aker_bp=['Aker BP', 'AKERBP', 272.499264741749, 103712690592, 26.7636558040214, 0.722568840028356]\n",
    "yara_international=['Yara International', 'YAR', 333.328922090651, 99481443032.4, 86.741957363663, 0.465057636887608]\n",
    "gjensidige_forsikring=['Gjensidige Forsikring', 'GJF', 172.830508474576, 92125000000, 24.9404407385348, 0.847890127134592]"
   ]
  },
  {
   "cell_type": "markdown",
   "id": "4adfe1d2",
   "metadata": {},
   "source": [
    "Vi kan nå få tilgang til listene ved å referere til plasseringen med klammeparentes. Om vi vil referere navnet til equinor, som ligger på plass 0, kan vi for eksempel skrive `equinor[0]` (første element er alltid på plass 0 i Python):"
   ]
  },
  {
   "cell_type": "code",
   "execution_count": null,
   "id": "b4e3cee7",
   "metadata": {},
   "outputs": [],
   "source": [
    "equinor[0]"
   ]
  },
  {
   "cell_type": "markdown",
   "id": "0492d2c3",
   "metadata": {},
   "source": [
    "Vi ser at navnet er feil, dette er det gamle navnet til Equinor. Dette kan vi enkelt endre ved å sette element 0 i `equinor`-listen lik `'Equinor'`:\n",
    "\n",
    "#### Eksempel 2:"
   ]
  },
  {
   "cell_type": "code",
   "execution_count": null,
   "id": "6b78f5ea",
   "metadata": {},
   "outputs": [],
   "source": [
    "print(equinor)\n",
    "equinor[0]='Equinor'\n",
    "print(equinor)"
   ]
  },
  {
   "cell_type": "markdown",
   "id": "db51314b",
   "metadata": {},
   "source": [
    "Men vi kan legge hvilke som helst objekter inn i en liste, så vi kan også lage en liste av listene over.\n",
    "\n",
    "#### Eksempel 3:"
   ]
  },
  {
   "cell_type": "code",
   "execution_count": null,
   "id": "c89b4076",
   "metadata": {},
   "outputs": [],
   "source": [
    "stocks=[equinor,dnb,telenor,marine_harvest,aker_bp,yara_international,gjensidige_forsikring]\n",
    "stocks"
   ]
  },
  {
   "cell_type": "markdown",
   "id": "c9fe8139",
   "metadata": {},
   "source": [
    "Aker BP-askjen er element nummer fem i denne listen. Om vi nå skal referere til den, så bruker vi indeks 4, siden vi starter på null. \n",
    "\n",
    "#### Eksempel 4:"
   ]
  },
  {
   "cell_type": "code",
   "execution_count": null,
   "id": "66c16a31",
   "metadata": {},
   "outputs": [],
   "source": [
    "stocks[4]"
   ]
  },
  {
   "cell_type": "markdown",
   "id": "9107c1dc",
   "metadata": {},
   "source": [
    "Om du vil referere til siste element, bruker du indeks -1. Vil du referere til nest siste, bruker du indeks -2, og så videre:\n",
    "\n",
    "#### Eksempel 5:"
   ]
  },
  {
   "cell_type": "code",
   "execution_count": null,
   "id": "b1ad526e",
   "metadata": {
    "scrolled": true
   },
   "outputs": [],
   "source": [
    "print(stocks[-1])\n",
    "print(stocks[-2])"
   ]
  },
  {
   "cell_type": "markdown",
   "id": "aa7b645e",
   "metadata": {},
   "source": [
    "Du kan også referere til flere elementer som står ved siden av hverandre med en såkalt `slice`, eller skjære som vi kan kalle det på norsk:\n",
    "\n",
    "#### Eksempel 6:"
   ]
  },
  {
   "cell_type": "code",
   "execution_count": null,
   "id": "e8ab1505",
   "metadata": {},
   "outputs": [],
   "source": [
    "#Fra element to til og med tre:\n",
    "stocks[2:4]"
   ]
  },
  {
   "cell_type": "code",
   "execution_count": null,
   "id": "cf72dd68",
   "metadata": {},
   "outputs": [],
   "source": [
    "#Fra og med nest siste element:\n",
    "stocks[-2:]"
   ]
  },
  {
   "cell_type": "code",
   "execution_count": null,
   "id": "d1e3cd89",
   "metadata": {},
   "outputs": [],
   "source": [
    "#Til og med nest siste element:\n",
    "stocks[:-1]"
   ]
  },
  {
   "cell_type": "markdown",
   "id": "f3ed0de4",
   "metadata": {},
   "source": [
    "Og vi kan referere til en liste inne i en liste:\n",
    "\n",
    "#### Eksempel 7:"
   ]
  },
  {
   "cell_type": "code",
   "execution_count": null,
   "id": "83dd1305",
   "metadata": {},
   "outputs": [],
   "source": [
    "print(f\"Det tredje selskapet er {stocks[2][0]}\")"
   ]
  },
  {
   "cell_type": "markdown",
   "id": "f97c5bf9",
   "metadata": {},
   "source": [
    "Det tredje selskapet, altså Equinor, har indeks to, siden Python starter indekseringen på 0. \n",
    "\n",
    "Det er enkelt å utvide lister, vi bruker bare `+`. Om vi for eksempel vil legge til selskapet `['Tomra Systems', 'TOM', 276.409619134278, 41208789715.2, 52.8996016883184, 0.454299114121939] `, kan vi gjøre det slik:\n",
    "\n",
    "#### Eksempel 8:"
   ]
  },
  {
   "cell_type": "code",
   "execution_count": null,
   "id": "beecdf78",
   "metadata": {},
   "outputs": [],
   "source": [
    "tomra_systems=['Tomra Systems', 'TOM', 276.409619134278, 41208789715.2, 52.8996016883184, 0.454299114121939]\n",
    "stocks=stocks+[tomra_systems]\n",
    "stocks"
   ]
  },
  {
   "cell_type": "markdown",
   "id": "8b172e05",
   "metadata": {},
   "source": [
    "## Unngå uønsket endring av objekter\n",
    "\n",
    "En veldig vanlig nybegynnerfeil i Python er å glemme at selv om et objekt, slik som en liste, har fått nytt navn, så er det fortsatt det samme objektet. Dette er spesielt lett å glemme når du objektet er et argument i en funksjon. Her er for eksempel en funksjon som opererer på argumentet:\n",
    "\n",
    "#### Eksempel 9:"
   ]
  },
  {
   "cell_type": "code",
   "execution_count": null,
   "id": "e76826d9",
   "metadata": {},
   "outputs": [],
   "source": [
    "#This function removes element i it\n",
    "def pop_and_print(a,i):\n",
    "    last_element=a.pop(-1)\n",
    "    print(last_element)\n",
    "    \n",
    "pop_and_print(stocks,-1)\n",
    "stocks"
   ]
  },
  {
   "cell_type": "markdown",
   "id": "991137d2",
   "metadata": {},
   "source": [
    "Over brukes `pop`-metoden til listeobjektet. En \"metode\" er en funksjon som kan henges på et bestemt objekt. Liste-objektet har altså en metode `pop`, som vi kan henge på listeobjektet med et punktum. `pop`-metoden fjerner elementet angitt av argumentet (siste element `-1` i eksemplet under), og returnerer det fjernede elementet. \n",
    "\n",
    "Kjører du koden over mange nok ganger, vil du se at alle elementene til slutt er borte og du får feilmelding. \n",
    "\n",
    "Av og til vil du at funksjonen skal operere på argumentet, men om det ikke er meningen at argumentet skal være endret når funksjonen er ferdigkjørt, så kan du ta en kopi inne i funksjonen. Det gjøres enklest ved å bruke *typen* til objektet som funksjon. Du danner da et nytt objekt av samme type. For eksempel for en liste som `stocks`bruker du `list`som funksjon\n",
    "\n",
    "#### Eksempel 10:"
   ]
  },
  {
   "cell_type": "code",
   "execution_count": null,
   "id": "9b943830",
   "metadata": {},
   "outputs": [],
   "source": [
    "#This function removes element i it\n",
    "def pop_and_print(a,i):\n",
    "    #making a copy:\n",
    "    a=list(a)\n",
    "    \n",
    "    #doing the rest:\n",
    "    last_element=a.pop(-1)\n",
    "    print(last_element)\n",
    "    \n",
    "pop_and_print(stocks,-1)\n",
    "stocks"
   ]
  },
  {
   "cell_type": "markdown",
   "id": "4d6fa67a",
   "metadata": {},
   "source": [
    "Denne koden kan kjøres så mange ganger du vil, uten at stocks endres"
   ]
  },
  {
   "cell_type": "markdown",
   "id": "99d151cb",
   "metadata": {},
   "source": [
    "# Tuple"
   ]
  },
  {
   "cell_type": "markdown",
   "id": "e120eb30",
   "metadata": {},
   "source": [
    "En `tuple` fungerer ganske likt som en liste når du skal hente noe fra den. Men i motsetning til en liste, så går det ikke an å endre på en `tuple` etter at den er skapt. Du kan lage en tuple enten ved å bruke den innebygde funksjonen  `tuple()` eller ved å lage en liste med en vanlig parentes:\n",
    "\n",
    "#### Eksempel 11:"
   ]
  },
  {
   "cell_type": "code",
   "execution_count": null,
   "id": "05001f5d",
   "metadata": {},
   "outputs": [],
   "source": [
    "a=tuple(equinor)\n",
    "b=('Equinor', 'EQNR', 146.85, 315357973561)\n",
    "print(type(a))\n",
    "print(type(b))"
   ]
  },
  {
   "cell_type": "markdown",
   "id": "6ef98482",
   "metadata": {},
   "source": [
    "Vi kan *få tak i* innholdet, men det går ikke an å *endre* på innholdet i en `tuple`etter at den er skapt:\n",
    "\n",
    "#### Eksempel 12:"
   ]
  },
  {
   "cell_type": "code",
   "execution_count": null,
   "id": "97a81aeb",
   "metadata": {
    "scrolled": true
   },
   "outputs": [],
   "source": [
    "print(a[0])\n",
    "a[0]='Statoil'"
   ]
  },
  {
   "cell_type": "markdown",
   "id": "41bb7161",
   "metadata": {},
   "source": [
    "Tuple er mest brukt i forbindelse med funksjoner, og er ikke noe vi kommer til å bruke mye tid på i dette kurset. "
   ]
  },
  {
   "cell_type": "markdown",
   "id": "7720e0d4",
   "metadata": {},
   "source": [
    "# Numpy"
   ]
  },
  {
   "cell_type": "markdown",
   "id": "c93f3296",
   "metadata": {},
   "source": [
    "Numpy er en pakke som kan gjøre matematiske beregninger på store datasett svært effektivt. Vi starter med å importere pakken, og konvertere listen vi har brukt til en numpy-matrise kalt `ndarray`. En *matrise* er en liste der alle rader har like mangee elementer, og det er jo tilfelle med vår `stocks`-liste.\n",
    "\n",
    "Vi starter med å definere en liste av liste med informasjon om aksjene:\n",
    "\n",
    "#### Eksempel 13:"
   ]
  },
  {
   "cell_type": "code",
   "execution_count": null,
   "id": "0135a901",
   "metadata": {},
   "outputs": [],
   "source": [
    "stocks=[\n",
    "['Equinor', 'EQNR', 167.554919090282, 376883380048.5, 6.14609823076753, 0.617893838660362] , \n",
    "['DNB', 'DNB', 164, 259169427140, 11.1121822724349, 0.914999939276725] , \n",
    "['Telenor', 'TEL', 148.737572948101, 227115017138.4, 13.0211568133471, 0.715300723576896] , \n",
    "['Marine Harvest', 'MHG', 225.589705235372, 118004750966.2, 21.6878893009616, 0.440427599611273] , \n",
    "['Aker BP', 'AKERBP', 272.499264741749, 103712690592, 26.7636558040214, 0.722568840028356] , \n",
    "['Yara International', 'YAR', 333.328922090651, 99481443032.4, 86.741957363663, 0.465057636887608] , \n",
    "['Gjensidige Forsikring', 'GJF', 172.830508474576, 92125000000, 24.9404407385348, 0.847890127134592] , \n",
    "['Orkla', 'ORK', 86.5857852597003, 89087299091.2, 26.5615083754323, 0.350968405416214] , \n",
    "['Norsk Hydro', 'NHY', 31.4389402413895, 67532103728.64, 15.6215830970715, 0.439195576287418] , \n",
    "['SalMar', 'SALM', 449.3, 50905689550.7, 14.222545257898, 0.396134627028104] , \n",
    "['Tomra Systems', 'TOM', 276.409619134278, 41208789715.2, 52.8996016883184, 0.454299114121939] , \n",
    "['Aker', 'AKER', 514.200494811093, 40393931997, 43.4343354806452, 0.548092886866901] , \n",
    "]"
   ]
  },
  {
   "cell_type": "markdown",
   "id": "7910241d",
   "metadata": {},
   "source": [
    "Som du ser, så består listen av tolv rader og fire kolonner. Dette er altså en 12x6-matrise. Den kan enkelt konverteres til en numpy-matrise med funksjonen `np.array()` slik som her:\n",
    "\n",
    "#### Eksempel 14:"
   ]
  },
  {
   "cell_type": "code",
   "execution_count": null,
   "id": "33102422",
   "metadata": {
    "scrolled": true
   },
   "outputs": [],
   "source": [
    "import numpy as np\n",
    "stocks_np=np.array(stocks)"
   ]
  },
  {
   "cell_type": "markdown",
   "id": "aca1f892",
   "metadata": {},
   "source": [
    "Listen er nå lagret som en numpy 12x6-matrise i objektet `stocks_np`. Vi kan imidlertid ikke utføre noen matematiske beregninger slik denne matrisen står, fordi alle tall er i tekstformat. Som vi har sett tidligere går det bare an å regne med `float`, `int` og `bool`. At det er tekst ser vi ved at det er enkle anførselstegn `'` rundt alle elementene. \n",
    "\n",
    "Heldigvis er det veldig enkelt å hente ut informasjon fra numpy-matriser, fordi mulighetene til å skjære utsnitt er langt større enn for vanlige lister. Numpy-lister kan nemlig skjæres i flere dimensjoner. \n",
    "\n",
    "I motsetning til vanlige lister, kan vi for eksempel velge ut kolonner. I en liste av lister velger du, som vi har sett, rad 2 og kolonne 0 med `stocks[2][0]`. Med numpy-matriser separerer du de to indeksene med et komma, `stocks[2,0]`.\n",
    "\n",
    "Men enda viktigere, du kan velge alle elementer ved å sette inn kolon `:` i stedet for tall. Dermed kan du velge hele kolonne 0 med `stocks_np[:,0]`.\n",
    "\n",
    "Her er vi mest interessert i de to siste kolonnene. Det er disse som inneholder tall. For å plukke ut disse velger vi alle radene (`:`) og alle kolonnene fra og med kolonne 2 (`2:`). Da får vi\n",
    "\n",
    "#### Eksempel 15:"
   ]
  },
  {
   "cell_type": "code",
   "execution_count": null,
   "id": "3eabf6c5",
   "metadata": {},
   "outputs": [],
   "source": [
    "stocks_np[:,2:]"
   ]
  },
  {
   "cell_type": "markdown",
   "id": "4e538d99",
   "metadata": {},
   "source": [
    "Sist i matrisen over, står det `dtype='<U21'`. Det betyr at dette er tekstrenger på 21 eller færre tegn. Vi må imidlertid ha dette over i tallformat for å kunne jobbe med det. Det gjør vi slik:\n",
    "\n",
    "#### Eksempel 16:"
   ]
  },
  {
   "cell_type": "code",
   "execution_count": null,
   "id": "0aaeaaac",
   "metadata": {},
   "outputs": [],
   "source": [
    "stocks_numbers=np.array(stocks_np[:,2:],dtype=float)\n",
    "stocks_numbers"
   ]
  },
  {
   "cell_type": "markdown",
   "id": "8e7f9817",
   "metadata": {},
   "source": [
    "Når vi konverterte listen til en `ndarray`, så brukte vi altså funksjonen `np.array()`, slik som i Eksempel 14. Men denne gangen legger vi til det valgfrie argument `dtype=float` for å eksplisitt gi beskjed om at vi ønsker strengene konvertert til flyttal. \n",
    "\n",
    "Nå kan vi begynne å bruke tallene. For eksempel kan vi se grafisk om det er en sammenheng mellom gjeldsgrad og pris-inntjeningstraten (PE). Dette er de to siste kolonnene i datamatrisen:\n",
    "\n",
    "#### Eksempel 17:"
   ]
  },
  {
   "cell_type": "code",
   "execution_count": null,
   "id": "dec61f6f",
   "metadata": {},
   "outputs": [],
   "source": [
    "from matplotlib import pyplot as plt\n",
    "fig,ax=plt.subplots()\n",
    "ax.set_ylabel('PE')\n",
    "ax.set_xlabel('gjeldsrate')\n",
    "ax.scatter(stocks_numbers[:,-1], stocks_numbers[:,-2])"
   ]
  },
  {
   "cell_type": "markdown",
   "id": "fb6ce639",
   "metadata": {},
   "source": [
    "Ser du en sammenheng?\n",
    "\n",
    "Det er også enkelt å regne med Numpy. Vi kan bruke alle de vanlige regneartene med numpy-matriser:"
   ]
  },
  {
   "cell_type": "code",
   "execution_count": null,
   "id": "7f475a8a",
   "metadata": {},
   "outputs": [],
   "source": [
    "a=np.array([1,5,6,3])\n",
    "b=np.array([23,15,2,10])\n",
    "\n",
    "print(a+b)\n",
    "print(a-b)\n",
    "print(a*b)\n",
    "print(a/b)\n",
    "print(a**3)\n",
    "print(a**0.5)#Kvadratroten"
   ]
  },
  {
   "cell_type": "markdown",
   "id": "41726940",
   "metadata": {},
   "source": [
    "## Oppslag\n",
    "\n",
    "Et oppslag, eller *dictionary* har symbol `dict` i Python. Dette er en datastruktur der hvert element ikke identifiseres med hvor det er plassert, men med et nøkkelord (`key`). Å bruke oppslag i stedet for lister gjør ofte koden mer lesbar. Det finnes to måter å lage oppslag på; enten ved å bruke funksjonen `dict()`:\n",
    "\n",
    "#### Eksempel 18:"
   ]
  },
  {
   "cell_type": "code",
   "execution_count": null,
   "id": "803aa348",
   "metadata": {},
   "outputs": [],
   "source": [
    "a=dict()\n",
    "a['gjeldsrate']=stocks_numbers[:,-1]\n",
    "a['PE']=stocks_numbers[:,-2]\n",
    "print(type(a))"
   ]
  },
  {
   "cell_type": "markdown",
   "id": "cb84358b",
   "metadata": {},
   "source": [
    "Som vi ser, blir dette et objekt av type `dict`. Alternativt kan vi definere elementer inne i en krølleparentes på formen `{nøkkel: objekt}`, slik som dette:"
   ]
  },
  {
   "cell_type": "code",
   "execution_count": null,
   "id": "8d06fa92",
   "metadata": {},
   "outputs": [],
   "source": [
    "b={\n",
    "    'gjeldsrate':stocks_numbers[:,-1],\n",
    "    'PE':stocks_numbers[:,-2], \n",
    "  }\n",
    "\n",
    "print(type(b))"
   ]
  },
  {
   "cell_type": "markdown",
   "id": "f728a1d9",
   "metadata": {},
   "source": [
    "Her er det altså to elementer med nøkler `'gjeldsrate'` og `'PE'`, og tilhørende objekter fra `stocks_numbers`. \n",
    "\n",
    "Vi legger merke til at dette også er en objekt av type `dict`. Med oppslag blir det enklere å bruke variablene, siden vi kan referere til dem med navn i stedet for indeks. Her er plottet i Eksempel 17 gjort med oppslag:\n",
    "\n",
    "#### Eksempel 19:"
   ]
  },
  {
   "cell_type": "code",
   "execution_count": null,
   "id": "82832646",
   "metadata": {
    "scrolled": true
   },
   "outputs": [],
   "source": [
    "plt.ylabel('PE')\n",
    "plt.xlabel('gjeldsrate')\n",
    "plt.scatter(a['gjeldsrate'], a['PE'])"
   ]
  },
  {
   "cell_type": "markdown",
   "id": "a09f188d",
   "metadata": {},
   "source": [
    "Når du først har laget en dict, er det enkelt å legge til nye elementer. Det gjør du enkelt ved å bruke en nøkkel som ikke finnes, for eksempel `'Pris'`, og dette elementet lik ønsket objekt:\n",
    "\n",
    "#### Eksempel 20:"
   ]
  },
  {
   "cell_type": "code",
   "execution_count": null,
   "id": "4cd9d2d0",
   "metadata": {},
   "outputs": [],
   "source": [
    "a['Pris']=stocks_numbers[:,0]\n",
    "plt.ylabel('Pris')\n",
    "plt.xlabel('gjeldsrate')\n",
    "plt.scatter(a['gjeldsrate'], a['Pris'])"
   ]
  },
  {
   "cell_type": "markdown",
   "id": "40d13dd4",
   "metadata": {},
   "source": [
    "`dict`-objektet er helt sentralt i selve byggeklossene til Python. Alle variabler du lager er faktisk elementer i to `dict` som du kan få frem med funksjonene `locals()` og `globals()`, som kaller de lokalt og globalt definerte variablene i miljøet du befinner deg. Dette eksemplet viser at objektet `stocks` som vi har definert i Eksempel 13, er identisk med elementet `'stocks'` i `locals()`.\n",
    "\n",
    "#### Eksempel 21:"
   ]
  },
  {
   "cell_type": "code",
   "execution_count": null,
   "id": "24e47c0a",
   "metadata": {},
   "outputs": [],
   "source": [
    "locals()['stocks']==stocks"
   ]
  },
  {
   "cell_type": "markdown",
   "id": "aa6149dd",
   "metadata": {},
   "source": [
    "Vi ser at disse objektene egentlig er det samme, ved at den logiske testen om disse er like, returnerer sann (`True`)."
   ]
  },
  {
   "cell_type": "markdown",
   "id": "3043c3bf",
   "metadata": {},
   "source": [
    "## Oppgaver"
   ]
  },
  {
   "cell_type": "markdown",
   "id": "bc33b0cb",
   "metadata": {},
   "source": [
    "Det er enkelt å konvertere en pandas dataramme til numpy. Vi skal bruke skolegangeksemplet fra forelesning \"3 - matplotlib\".  Vi henter inn dataene og konverterer dem til numpy slik:"
   ]
  },
  {
   "cell_type": "code",
   "execution_count": null,
   "id": "d003ed1b",
   "metadata": {
    "scrolled": false
   },
   "outputs": [],
   "source": [
    "import numpy as np\n",
    "import pandas as pd\n",
    "df=pd.read_csv('./data/schooling-gdp.csv')\n",
    "schooling=np.array(df)\n",
    "schooling"
   ]
  },
  {
   "cell_type": "markdown",
   "id": "57e82a07",
   "metadata": {},
   "source": [
    "\n",
    "1. Bytt ut navnet til \"Ireland\" med \"Republic of Ireland\" og \"United States\" med \"United States of America\"\n",
    "2. Print data for \"Luxembourg\"\n",
    "3. Print data for \"Liberia\" ved å referere til nest siste element. \n",
    "4. Print BNP per capita for de tre siste elementene i `schooling` (ligger i kolonne med indeks 2)\n",
    "5. Print BNP per capita for de tre siste elementene i `schooling` men hent kolonnen ved å refere til tredje siste kolonne. \n",
    "6. Plukk ut de tre siste kolonnene i `schooling`, som representerer BNP per capita, skolegang og befolkning, og konverter dem til datatype `float`. \n",
    "7. Lag et oppslag (dictionary) med de tre siste kolonnene og passende navn som nøkler. Kall det `schooling_dict`. \n",
    "8. Lag en ny variabel i oppslaget med navn \"Total schooling\" som er produktet av skolegang og befolkning.\n",
    "9. Lag en ny variabel \"Total GDP\" som er produktet av BNP per capita og befolkning. \n",
    "10. Lag et scatterplot med de to variablene du nettopp lagde. \n",
    "11. Lag en ny variabel \"GDP per schooling\" som er BNP per capita delt på skolegang.\n",
    "12. Lag et liggende stolpediagram med navn på land og \"GDP per schooling\". Du bruker da funksjonen `plt.barh` på denne måten:\n",
    "```\n",
    "plt.barh(names,values)\n",
    "```\n",
    "Hvor `names` er en liste med navnene og `values` er de tilhørende verdiene. \n",
    "\n",
    "13. Dette blir ikke pent. Velg kun de 20 første landene, og forsøk på nytt. "
   ]
  },
  {
   "cell_type": "markdown",
   "id": "6f86ac8d",
   "metadata": {},
   "source": [
    "##### [< Forrige](3%20-%20matplotlib.ipynb)     |     [Neste >](5%20-%20Sympy.ipynb)"
   ]
  }
 ],
 "metadata": {
  "kernelspec": {
   "display_name": "Python 3",
   "language": "python",
   "name": "python3"
  },
  "language_info": {
   "codemirror_mode": {
    "name": "ipython",
    "version": 3
   },
   "file_extension": ".py",
   "mimetype": "text/x-python",
   "name": "python",
   "nbconvert_exporter": "python",
   "pygments_lexer": "ipython3",
   "version": "3.7.5"
  }
 },
 "nbformat": 4,
 "nbformat_minor": 5
}
