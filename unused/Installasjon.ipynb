{
 "cells": [
  {
   "cell_type": "markdown",
   "metadata": {},
   "source": [
    "## Installasjon"
   ]
  },
  {
   "cell_type": "markdown",
   "metadata": {},
   "source": [
    "<a href=\"https://www.python.org/downloads/release/python-3810/\"><img align=\"right\" width=\"250\" src=\"assets/python-logo.png\" style=\"padding:10px;\"></a>I dette kurset skal vi kjøre Python-kode i noe som heter \"Jupyter\", som dette notatet er skrevet i. Før vi installerer Jupyter må vi imidlertid ha installert Python, som du finner [her](https://www.python.org/downloads/release/python-3810/). Dette er versjon 3.8.10. Du kan bruke en annen versjon om du vil, for de tingene vi skal gjøre har det antakeligvis lite å si. Du bør imidlertid velge en Python 3-versjon, da det er ganske store forskjeller i syntaksen til Python 2 og Python 3. "
   ]
  },
  {
   "cell_type": "markdown",
   "metadata": {},
   "source": [
    "### Installasjonsveiledning Python:"
   ]
  },
  {
   "cell_type": "markdown",
   "metadata": {},
   "source": [
    "For Windows (lager for mac og Linux senere). (Kommer til å lage egne dokumenter om dette)\n",
    "1. Rull ned til du ser installasjonslenkene, og velg \"Windows installer (64-bit)\" for windows eller \"macOS 64-bit Intel installer\" for Mac\n",
    "\n",
    "\n",
    "2. Åpne installasjonsfilen, hak av begge boksene, og tykk \"Customize installation\"\n",
    "\n",
    "\n",
    "![](assets/python_install1_win.png)\n",
    "\n",
    "\n",
    "3. Hak av alle bokser under \"Optional Features\" og trykk \"Next\"\n",
    "\n",
    "\n",
    "![](assets/python_install2_win.png)\n",
    "\n",
    "\n",
    "4. Hak av alle bokser under \"Advanced Options\" og trykk \"Next\"\n",
    "\n",
    "\n",
    "![](assets/python_install3_win.png)"
   ]
  },
  {
   "cell_type": "markdown",
   "metadata": {},
   "source": [
    "### Åpne kommandovinduet som administrator (kun for installasjon av pakker!!!)"
   ]
  },
  {
   "cell_type": "markdown",
   "metadata": {},
   "source": [
    "1. Trykk på windows-knappen og skriv \"comm\" og *høyreklikk*  \"Command Promt\" (Norsk: skriv \"lede\" og høyreklikk \"Ledetekst\")\n",
    "2. Velg \"Run as aministrator\" (\"Kjør som administrator\")"
   ]
  },
  {
   "cell_type": "markdown",
   "metadata": {},
   "source": [
    "### Installasjon av Jupyter og andre Python-pakker"
   ]
  },
  {
   "cell_type": "markdown",
   "metadata": {},
   "source": [
    "Du installerer alt av pakker til Python i kommandovinduet som administrator. Å installere pakker er superenkelt når du gjør det på denne måten. Alt du trenger å skrive er\n",
    "\n",
    "    pip install <navn på pakke>\n",
    "\n",
    "Du bytter ut <navn på pakke> med navnet på den pakken du vil installere. Den viktigste pakken for oss nå er Jupyter. Med den kan du lese denne filen interaktivt. Når du skal installere den skriver du rett og slett\n",
    "        \n",
    "    pip install notebook\n",
    "        \n",
    "Det finnes en litt mer avansert versjon av Jupyter, og mange liker å bruke den, så det kan være greit å ha den installert også. Denne kalles JupyterLab, og installeres slik:\n",
    "        \n",
    "    pip install jupyterlab\n",
    "  "
   ]
  },
  {
   "cell_type": "markdown",
   "metadata": {},
   "source": [
    "### Åpne kommandovinduet som bruker og lag kursmappe"
   ]
  },
  {
   "cell_type": "markdown",
   "metadata": {},
   "source": [
    "Det er en fordel å ha en egen mappe hvor du kan lagre alt som har med dette kurset å gjøre. Du kan lage en slik mappe ved å skrive inn følgende:\n",
    "    \n",
    "    mkdir sok-1003\n",
    "    \n",
    "Du navigerer så inn i denne mappen ved å skrive:\n",
    "\n",
    "    cd sok-1003\n",
    "    \n",
    "Vil du opp et nivå igjen skriver du\n",
    "\n",
    "    cd .."
   ]
  },
  {
   "cell_type": "markdown",
   "metadata": {},
   "source": [
    "## Hente kursmateriell fra github"
   ]
  },
  {
   "cell_type": "markdown",
   "metadata": {},
   "source": [
    "Kursmateriellet til dette kurset ligger på github. Du kan se filene i nettleseren her: https://github.com/uit-sok-1003-h21/notebooks. For å få tilgang til dem er det imidlertid best å laste dem ned med versjonskontrollverktøyet \"git\". Dette ligger inn i Anaconda-pakken. Slik laster du ned kursmateriellet med git:\n",
    "\n",
    "1. Åpne kommandolinjeverktøyet i Anaconda (\"CMD.exe Promt\")\n",
    "2. Lag en ny mappe på ditt hjemmeområde ved å skrive inn \n",
    "        mkdir sok-1003\n",
    "3. Gå inn i denne mappen ved å skrive \n",
    "        cd sok-1003\n",
    "4. Last ned kursmateriellet ved å kopiere inn følgende kommando i kommandovinduet: \n",
    "        git clone https://github.com/uit-sok-1003-h21/notebooks/\n",
    "\n"
   ]
  },
  {
   "cell_type": "markdown",
   "metadata": {},
   "source": [
    "Du kan nå åpne Jupyter ved å klikke på JupyterLab i \"Anakonda Navigator\". Det er også et ikon for Jupyter der, men JupyterLab gir mer funksjonalitet enn Juptyer. \n",
    "\n",
    "Når du har åpnet JupyterLab skal det åpnes et nettleservindu med liste over filer og mapper til venstre. Naviger deg frem til sok-1003/notebooks/Komme i gang med python.ipynb. Du kan nå lese dette dokumentet interaktivt. Det første du kan prøve på er å trykke i cellen under og kjøre koden ved å trykke SHIFT+ENTER.\n",
    "\n",
    "For å starte Jupyter må vi åpne kommanduvinduet igjen, men denne gangen *ikke* som administrator. Det gjør du ved å venstreklikke i stedet for høyreklikke i punkt 1. øverst. Når du ikke starter kommandovinduet som administrator, vil vinduet starte opp på ditt hjemmeområde, og det er en fordel når du skal starte Jupyter.\n",
    "\n"
   ]
  },
  {
   "cell_type": "code",
   "execution_count": null,
   "metadata": {},
   "outputs": [],
   "source": [
    "print('Hello World!')"
   ]
  },
  {
   "cell_type": "markdown",
   "metadata": {},
   "source": [
    "I de følgende leksjonene vil det forutsettes at dere leser disse notatene interaktivt i Jupyter Lab eller Notebook "
   ]
  }
 ],
 "metadata": {
  "kernelspec": {
   "display_name": "Python 3",
   "language": "python",
   "name": "python3"
  },
  "language_info": {
   "codemirror_mode": {
    "name": "ipython",
    "version": 3
   },
   "file_extension": ".py",
   "mimetype": "text/x-python",
   "name": "python",
   "nbconvert_exporter": "python",
   "pygments_lexer": "ipython3",
   "version": "3.8.10"
  }
 },
 "nbformat": 4,
 "nbformat_minor": 4
}
