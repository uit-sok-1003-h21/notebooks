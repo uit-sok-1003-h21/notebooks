{
 "cells": [
  {
   "cell_type": "markdown",
   "id": "a78e7dd9",
   "metadata": {},
   "source": [
    "##### [< Forrige](3%20-%20funksjoner%20med%20plot.ipynb)     |     [Neste >](5%20-%20tilbud%20og%20etterspørsel.ipynb)"
   ]
  },
  {
   "cell_type": "markdown",
   "id": "2f6b6dd3",
   "metadata": {},
   "source": [
    "# 4 - Lister"
   ]
  },
  {
   "cell_type": "markdown",
   "id": "41726940",
   "metadata": {},
   "source": [
    "Kommer"
   ]
  },
  {
   "cell_type": "markdown",
   "id": "6f86ac8d",
   "metadata": {},
   "source": [
    "##### [< Forrige](3%20-%20funksjoner%20med%20plot.ipynb)     |     [Neste >](5%20-%20tilbud%20og%20etterspørsel.ipynb)"
   ]
  }
 ],
 "metadata": {
  "kernelspec": {
   "display_name": "Python 3",
   "language": "python",
   "name": "python3"
  },
  "language_info": {
   "codemirror_mode": {
    "name": "ipython",
    "version": 3
   },
   "file_extension": ".py",
   "mimetype": "text/x-python",
   "name": "python",
   "nbconvert_exporter": "python",
   "pygments_lexer": "ipython3",
   "version": "3.7.5"
  }
 },
 "nbformat": 4,
 "nbformat_minor": 5
}
