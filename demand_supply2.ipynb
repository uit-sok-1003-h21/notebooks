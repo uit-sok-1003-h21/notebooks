{
 "cells": [
  {
   "cell_type": "markdown",
   "metadata": {},
   "source": [
    "# Tilbud og etterspørsel 2"
   ]
  },
  {
   "cell_type": "markdown",
   "metadata": {},
   "source": [
    "### importerer nødvendige pakker:"
   ]
  },
  {
   "cell_type": "code",
   "execution_count": 2,
   "metadata": {},
   "outputs": [
    {
     "ename": "ModuleNotFoundError",
     "evalue": "No module named 'sympy'",
     "output_type": "error",
     "traceback": [
      "\u001b[1;31m---------------------------------------------------------------------------\u001b[0m",
      "\u001b[1;31mModuleNotFoundError\u001b[0m                       Traceback (most recent call last)",
      "\u001b[1;32m<ipython-input-2-500bb81d7829>\u001b[0m in \u001b[0;36m<module>\u001b[1;34m\u001b[0m\n\u001b[1;32m----> 1\u001b[1;33m \u001b[1;32mimport\u001b[0m \u001b[0msympy\u001b[0m \u001b[1;32mas\u001b[0m \u001b[0msp\u001b[0m\u001b[1;33m\u001b[0m\u001b[1;33m\u001b[0m\u001b[0m\n\u001b[0m\u001b[0;32m      2\u001b[0m \u001b[1;32mfrom\u001b[0m \u001b[0msympy\u001b[0m\u001b[1;33m.\u001b[0m\u001b[0msolvers\u001b[0m \u001b[1;32mimport\u001b[0m \u001b[0msolve\u001b[0m\u001b[1;33m\u001b[0m\u001b[1;33m\u001b[0m\u001b[0m\n\u001b[0;32m      3\u001b[0m \u001b[1;32mimport\u001b[0m \u001b[0mnumpy\u001b[0m \u001b[1;32mas\u001b[0m \u001b[0mnp\u001b[0m\u001b[1;33m\u001b[0m\u001b[1;33m\u001b[0m\u001b[0m\n\u001b[0;32m      4\u001b[0m \u001b[1;32mfrom\u001b[0m \u001b[0mIPython\u001b[0m\u001b[1;33m.\u001b[0m\u001b[0mdisplay\u001b[0m \u001b[1;32mimport\u001b[0m \u001b[0mdisplay\u001b[0m\u001b[1;33m,\u001b[0m \u001b[0mMarkdown\u001b[0m\u001b[1;33m,\u001b[0m \u001b[0mLatex\u001b[0m\u001b[1;33m\u001b[0m\u001b[1;33m\u001b[0m\u001b[0m\n\u001b[0;32m      5\u001b[0m \u001b[1;32mimport\u001b[0m \u001b[0mmatplotlib\u001b[0m\u001b[1;33m.\u001b[0m\u001b[0mpyplot\u001b[0m \u001b[1;32mas\u001b[0m \u001b[0mplt\u001b[0m\u001b[1;33m\u001b[0m\u001b[1;33m\u001b[0m\u001b[0m\n",
      "\u001b[1;31mModuleNotFoundError\u001b[0m: No module named 'sympy'"
     ]
    }
   ],
   "source": [
    "import sympy as sp\n",
    "from sympy.solvers import solve\n",
    "import numpy as np\n",
    "from IPython.display import display, Markdown, Latex\n",
    "import matplotlib.pyplot as plt"
   ]
  },
  {
   "cell_type": "markdown",
   "metadata": {},
   "source": [
    "### Definerer tilbud og etterspørsel"
   ]
  },
  {
   "cell_type": "code",
   "execution_count": 11,
   "metadata": {},
   "outputs": [],
   "source": [
    "def supply(p):\n",
    "    return p**2\n",
    "    \n",
    "def demand(p):\n",
    "    return 125/(5+p)"
   ]
  },
  {
   "cell_type": "markdown",
   "metadata": {},
   "source": [
    "### Tegner funksjonene"
   ]
  },
  {
   "cell_type": "code",
   "execution_count": 12,
   "metadata": {},
   "outputs": [
    {
     "data": {
      "image/png": "[encoded data removed]",
      "text/plain": [
       "<Figure size 432x288 with 1 Axes>"
      ]
     },
     "metadata": {
      "needs_background": "light"
     },
     "output_type": "display_data"
    }
   ],
   "source": [
    "p = np.linspace(0,5,100)\n",
    "_=plt.plot(p,supply(p),label='Tilbud')\n",
    "_=plt.plot(p,demand(p),color='green',label='Etterspørsel')\n",
    "_=plt.legend()"
   ]
  },
  {
   "cell_type": "markdown",
   "metadata": {},
   "source": [
    "### Løser for solgt mengde og pris"
   ]
  },
  {
   "cell_type": "code",
   "execution_count": 13,
   "metadata": {},
   "outputs": [],
   "source": [
    "x,y,z=sp.symbols('x y z')\n",
    "quantity=solve(demand(x)-supply(x),x)[2]\n",
    "price=demand(quantity)"
   ]
  },
  {
   "cell_type": "markdown",
   "metadata": {},
   "source": [
    "### Finner verdiskapning, konsument- og produsentoverskudd"
   ]
  },
  {
   "cell_type": "code",
   "execution_count": 14,
   "metadata": {},
   "outputs": [],
   "source": [
    "#using analytical price is too computationally demanding:\n",
    "approx_price=np.round(float(price),4)\n",
    "\n",
    "#Calculating surpluses:\n",
    "welfare_surpluss=sp.integrate(demand(x)-supply(x),(x,0,quantity))\n",
    "consumer_surpluss=sp.integrate(demand(x)-approx_price,(x,0,quantity))\n",
    "producer_surpluss=sp.integrate(approx_price-supply(x),(x,0,quantity))"
   ]
  },
  {
   "cell_type": "markdown",
   "metadata": {},
   "source": [
    "### Lager tabell med resultatene"
   ]
  },
  {
   "cell_type": "code",
   "execution_count": 15,
   "metadata": {},
   "outputs": [
    {
     "data": {
      "text/markdown": [
       "\n",
       "|                     | Desimalverdi                             |  Analytisk verdi              | \n",
       "| :-------------------| :----------------------------------------| :-----------------------------| \n",
       "| Solgt mengde:       | $3.8$          |$- \\frac{5}{3} + \\frac{5}{9 \\sqrt[3]{\\frac{\\sqrt{69}}{18} + \\frac{25}{54}}} + 5 \\sqrt[3]{\\frac{\\sqrt{69}}{18} + \\frac{25}{54}}$         | \n",
       "| Pris:               | $14.246$                         |$\\frac{125}{\\frac{5}{9 \\sqrt[3]{\\frac{\\sqrt{69}}{18} + \\frac{25}{54}}} + \\frac{10}{3} + 5 \\sqrt[3]{\\frac{\\sqrt{69}}{18} + \\frac{25}{54}}}$            | \n",
       "| Verdiskapning:      | $52.4$  |$- 125 \\log{\\left(5 \\right)} - \\frac{\\left(- \\frac{5}{3} + \\frac{5}{9 \\sqrt[3]{\\frac{\\sqrt{69}}{18} + \\frac{25}{54}}} + 5 \\sqrt[3]{\\frac{\\sqrt{69}}{18} + \\frac{25}{54}}\\right)^{3}}{3} + 125 \\log{\\left(\\frac{5}{9 \\sqrt[3]{\\frac{\\sqrt{69}}{18} + \\frac{25}{54}}} + \\frac{10}{3} + 5 \\sqrt[3]{\\frac{\\sqrt{69}}{18} + \\frac{25}{54}} \\right)}$ | \n",
       "| Konsumentoverskudd: | $16.5$ | | \n",
       "| Produsentoverskudd: | $35.8$ | | \n"
      ],
      "text/plain": [
       "<IPython.core.display.Markdown object>"
      ]
     },
     "metadata": {},
     "output_type": "display_data"
    }
   ],
   "source": [
    "tbl=f\"\"\"\n",
    "|                     | Desimalverdi                             |  Analytisk verdi              | \n",
    "| :-------------------| :----------------------------------------| :-----------------------------| \n",
    "| Solgt mengde:       | ${np.round(float(quantity),1)}$          |${sp.latex(quantity)}$         | \n",
    "| Pris:               | ${approx_price}$                         |${sp.latex(price)}$            | \n",
    "| Verdiskapning:      | ${np.round(float(welfare_surpluss),1)}$  |${sp.latex(welfare_surpluss)}$ | \n",
    "| Konsumentoverskudd: | ${np.round(float(consumer_surpluss),1)}$ | | \n",
    "| Produsentoverskudd: | ${np.round(float(producer_surpluss),1)}$ | | \n",
    "\"\"\"\n",
    "display(Markdown(tbl))"
   ]
  },
  {
   "cell_type": "markdown",
   "metadata": {},
   "source": [
    "### Lager figur med resultatene"
   ]
  },
  {
   "cell_type": "code",
   "execution_count": 16,
   "metadata": {},
   "outputs": [
    {
     "data": {
      "image/png": "[encoded data removed]",
      "text/plain": [
       "<Figure size 432x288 with 1 Axes>"
      ]
     },
     "metadata": {
      "needs_background": "light"
     },
     "output_type": "display_data"
    }
   ],
   "source": [
    "q = np.linspace(0,5,100)\n",
    "_=plt.plot(p,supply(p),label='Tilbud')\n",
    "_=plt.plot(p,demand(p),color='green',label='Etterspørsel')\n",
    "q = np.linspace(0,float(quantity),100)\n",
    "_=plt.fill_between(q, supply(q),approx_price, color = \"yellow\",alpha = 0.3,label='Produsentoverskudd')\n",
    "_=plt.fill_between(q,approx_price,demand(q), color = \"pink\",alpha = 0.3,label='Konsumentoverskudd')\n",
    "_=plt.vlines(float(quantity), 0, 25,colors=['black'],linestyles='dashed')\n",
    "_=plt.legend(loc='upper right')"
   ]
  },
  {
   "cell_type": "code",
   "execution_count": 17,
   "metadata": {},
   "outputs": [
    {
     "data": {
      "text/latex": [
       "$\\displaystyle - \\frac{5}{3} + \\frac{5}{9 \\sqrt[3]{\\frac{\\sqrt{69}}{18} + \\frac{25}{54}}} + 5 \\sqrt[3]{\\frac{\\sqrt{69}}{18} + \\frac{25}{54}}$"
      ],
      "text/plain": [
       "-5/3 + 5/(9*(sqrt(69)/18 + 25/54)**(1/3)) + 5*(sqrt(69)/18 + 25/54)**(1/3)"
      ]
     },
     "execution_count": 17,
     "metadata": {},
     "output_type": "execute_result"
    }
   ],
   "source": [
    "quantity"
   ]
  },
  {
   "cell_type": "code",
   "execution_count": 18,
   "metadata": {},
   "outputs": [
    {
     "data": {
      "text/plain": [
       "3.774388331233464"
      ]
     },
     "execution_count": 18,
     "metadata": {},
     "output_type": "execute_result"
    }
   ],
   "source": [
    "float(quantity)"
   ]
  },
  {
   "cell_type": "code",
   "execution_count": null,
   "metadata": {},
   "outputs": [],
   "source": []
  }
 ],
 "metadata": {
  "kernelspec": {
   "display_name": "Python 3",
   "language": "python",
   "name": "python3"
  },
  "language_info": {
   "codemirror_mode": {
    "name": "ipython",
    "version": 3
   },
   "file_extension": ".py",
   "mimetype": "text/x-python",
   "name": "python",
   "nbconvert_exporter": "python",
   "pygments_lexer": "ipython3",
   "version": "3.8.10"
  }
 },
 "nbformat": 4,
 "nbformat_minor": 4
}
