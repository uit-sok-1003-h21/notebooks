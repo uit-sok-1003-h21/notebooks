{
 "cells": [
  {
   "cell_type": "markdown",
   "metadata": {},
   "source": [
    "##### [< Forrige](1%20-%20variabler.ipynb)     |     [Neste >](3%20-%20eksponent%20og%20log.ipynb)"
   ]
  },
  {
   "cell_type": "markdown",
   "metadata": {},
   "source": [
    "# 2 - Funksjoner"
   ]
  },
  {
   "cell_type": "markdown",
   "metadata": {},
   "source": [
    "## Å bruke funksjoner"
   ]
  },
  {
   "cell_type": "markdown",
   "metadata": {},
   "source": [
    "En av de viktigste verktøyene i Python er muligheten til å kjøre og lage egne funksjoner. En vanlig nybegynnerfeil i programmering er å ikke utnytte muligheten til å lage egne funksjoner tilstrekkelig. Hovedregelen er at om det er noe av koden din som repeteres, så skal du lage en ny funksjon som håndterer dette. Målet er at antall linjer i hver funksjon skal være så lite som mulig. Men før vi lærer å lage egne funksjoner, skal vi se litt på hvordan funksjoner brukes."
   ]
  },
  {
   "cell_type": "markdown",
   "metadata": {},
   "source": [
    "## Innebygde funksjoner"
   ]
  },
  {
   "cell_type": "markdown",
   "metadata": {},
   "source": [
    "Python kommer med en rekke innebygde funksjoner. I tillegg kan du importere pakker som har en lang rekke funksjoner. Her er noen innebygde funksjoner i Python:\n",
    "\n",
    "#### Eksempel 1:"
   ]
  },
  {
   "cell_type": "code",
   "execution_count": null,
   "metadata": {},
   "outputs": [],
   "source": [
    "print( max(2.4,2.0)   )\n",
    "print( min(2.4, 2.0)  )\n",
    "print( abs(-2.4)      )\n",
    "print( len(\"abcde\")   )"
   ]
  },
  {
   "cell_type": "markdown",
   "metadata": {},
   "source": [
    "Legg merke til at funksjonene `max`, `min`, `abs` og `len` alle er omsluttet av funksjonen `print` som sørger for at resultatet skrives ut nedenfor. En funksjon kan altså *returnere noe*, slik som  `max`, `min`, `abs` og `len`, eller *gjøre noe* slik som `print`, eller begge deler.\n",
    "\n",
    "Funksjonen `len` angir antall bokstaver, men kan også angi lengde på en liste. En liste i python skriver du som `[1,'hei',a]`. En liste kan altså bestå av flere ulike typer variabler og konstanter. De to første elementene her er konstanter, og den tredje er en variabel som settes lik et flyttal i eksemplet under.\n",
    "\n",
    "#### Eksempel 2:"
   ]
  },
  {
   "cell_type": "code",
   "execution_count": null,
   "metadata": {},
   "outputs": [],
   "source": [
    "a=50.8\n",
    "print([1,'hei',a])\n",
    "len([1,'hei',a])"
   ]
  },
  {
   "cell_type": "markdown",
   "metadata": {},
   "source": [
    "## Eksponentialfunksjonene"
   ]
  },
  {
   "cell_type": "markdown",
   "metadata": {},
   "source": [
    "I Python er det svært enkelt å *importere* ferdig pakker for som kan kjøre ferdige funksjoner. Vi skal her se på et eksempel med noe som heter eksponentialfunksjonen. Denne finnes blant annet i pakken `numpy`. Dette er en svært nyttig pakke for matematiske beregninger. \n",
    "\n",
    "Som vi skal se lenger ned, så er eksponentialfunksjonen viktig innen økonomifaget fordi den brukes i vekstberegninger, for eksempel for befolkning eller produksjon. \n",
    "\n",
    "Som nevnt tidligere så er *potensen* $y^x$ et *grunntall* $y$ opphøyet i en eksponent $x$. Når vi snakker om *eksponenten* i bestemt form, så betyr det at grunntallet er et helt bestemt tall. Dette tallet kalles $e$, etter matematikeren Euler, og er tilnærmet $e=2.71828$ (det er egentlig en uendelig rekke med siffer etter komma) \n",
    "\n",
    "Python har ikke noe innebygd funksjon for eksponenten, så vi importerer en pakke som heter `numpy`, som har en slik funksjon. For å få mindre skriving senere, er det vanlig å importere `numpy` som aliaset `np`. Dette gjør vi slik:\n",
    "\n",
    "#### Eksempel 3:"
   ]
  },
  {
   "cell_type": "code",
   "execution_count": null,
   "metadata": {},
   "outputs": [],
   "source": [
    "import numpy as np"
   ]
  },
  {
   "cell_type": "markdown",
   "metadata": {},
   "source": [
    "Navnet på eksponent-funksjonen i numpy er exp. Skal vi for eksempel finne hva $e^2=2.71828^2$ er, skriver vi\n",
    "\n",
    "#### Eksempel 4:"
   ]
  },
  {
   "cell_type": "code",
   "execution_count": null,
   "metadata": {},
   "outputs": [],
   "source": [
    "np.exp(2)"
   ]
  },
  {
   "cell_type": "markdown",
   "metadata": {},
   "source": [
    " Om vi ønsker å vite hva eksponenten er med litt mer enn fem desimaler, kan vi finne eksponenten av 1, siden ethvert tall opphøyd i 1 er seg selv:\n",
    "\n",
    "#### Eksempel 5:"
   ]
  },
  {
   "cell_type": "code",
   "execution_count": null,
   "metadata": {},
   "outputs": [],
   "source": [
    "np.exp(1)"
   ]
  },
  {
   "cell_type": "markdown",
   "metadata": {},
   "source": [
    "Eksponenten til 5 er for eksempel 2.71828 opphøyet i 5:\n",
    "\n",
    "#### Eksempel 6:"
   ]
  },
  {
   "cell_type": "code",
   "execution_count": null,
   "metadata": {},
   "outputs": [],
   "source": [
    "np.exp(1)**5"
   ]
  },
  {
   "cell_type": "code",
   "execution_count": null,
   "metadata": {},
   "outputs": [],
   "source": [
    "np.exp(5)"
   ]
  },
  {
   "cell_type": "markdown",
   "metadata": {},
   "source": [
    "For å opphøye noe bruker vi altså dobbelt gangetegn `**`.\n",
    "\n",
    "*Logartimen* er det eksakt motsatte av eksponentialfunksjonen. Tar vi logaritmen av eksponentialfunksjon, får vi argumentet til sistnevnte\n",
    "\n",
    "#### Eksempel 7:"
   ]
  },
  {
   "cell_type": "code",
   "execution_count": null,
   "metadata": {},
   "outputs": [],
   "source": [
    "np.log(np.exp(5))"
   ]
  },
  {
   "cell_type": "markdown",
   "metadata": {},
   "source": [
    "Tar vi eksponentialfunksjonen av logartimen får vi også argumentet til logartimen\n",
    "\n",
    "#### Eksempel 8:"
   ]
  },
  {
   "cell_type": "code",
   "execution_count": null,
   "metadata": {},
   "outputs": [],
   "source": [
    "np.exp(np.log(5))"
   ]
  },
  {
   "cell_type": "markdown",
   "metadata": {},
   "source": [
    "## Lage egne funksjoner - renteregning"
   ]
  },
  {
   "cell_type": "markdown",
   "metadata": {},
   "source": [
    "Funksjoner er helt sentralt i all slags programmering. Et program uten egendefinerte funksjoner er bare en liste med kommandoer, og det er svært begrenset hva du kan få til med det. Heldigvis er det ekstremt enkelt å lage egne funksjoner i Python. Vi skal her se hvordan vi kan lage egne funksjoner for renteregning."
   ]
  },
  {
   "cell_type": "markdown",
   "metadata": {},
   "source": [
    "### Hvor stort blir et forbrukslån som ikke betjenes?"
   ]
  },
  {
   "cell_type": "markdown",
   "metadata": {},
   "source": [
    "La oss starte med å lage en funksjon for forbrukslånet. Om banken legger til renten én gang i året og renten er r, så er lånet på x om T år gitt som $x\\cdot (1+r)^{T}$. Dette kan vi programmere som følgende funksjon:\n",
    "\n",
    "#### Eksempel 9:"
   ]
  },
  {
   "cell_type": "code",
   "execution_count": null,
   "metadata": {},
   "outputs": [],
   "source": [
    "def account_balance(x,r,T):\n",
    "    return x*(1+r)**T"
   ]
  },
  {
   "cell_type": "markdown",
   "metadata": {},
   "source": [
    "Om renten på lånet er 20%=0.2 og innskuddet er 100, så er beløpet om to år\n",
    "\n",
    "#### Eksempel 10:"
   ]
  },
  {
   "cell_type": "code",
   "execution_count": null,
   "metadata": {},
   "outputs": [],
   "source": [
    "account_balance(100,0.2,2)"
   ]
  },
  {
   "cell_type": "markdown",
   "metadata": {},
   "source": [
    "La oss nå tenke oss at banken legger til renter n ganger i året. Om for eksempel n=12, så legger banken til renter måndedlig. Vi kan da regne ut lånet ved ulik antall forrentninger ber år. Formelen for dette er $x\\cdot (1+\\frac{r}{n})^{T\\cdot n}$. Dette kan programmeres i pyton som\n",
    "\n",
    "#### Eksempel 11:"
   ]
  },
  {
   "cell_type": "code",
   "execution_count": 4,
   "metadata": {},
   "outputs": [],
   "source": [
    "def account_balance_n(x,r,T,n):\n",
    "    return x*(1+r/n)**(T*n)"
   ]
  },
  {
   "cell_type": "markdown",
   "metadata": {},
   "source": [
    "La oss nå sammenligne å legge til renten hver måned med å legge den til årlig:\n",
    "\n",
    "#### Eksempel 12:"
   ]
  },
  {
   "cell_type": "code",
   "execution_count": null,
   "metadata": {},
   "outputs": [],
   "source": [
    "print(account_balance_n(100,0.2,2,12))\n",
    "print(account_balance_n(100,0.2,2,1))"
   ]
  },
  {
   "cell_type": "markdown",
   "metadata": {},
   "source": [
    "Vi ser at det lønner seg en god del å legge til renten hver måned. La oss nå anta at rentene legges nå til hvert sekund i året. Det er 31 536 000 sekunder i et år. I så fall er innskuddet om to år verdt:\n",
    "\n",
    "#### Eksempel 13:"
   ]
  },
  {
   "cell_type": "code",
   "execution_count": null,
   "metadata": {},
   "outputs": [],
   "source": [
    "account_balance_n(100,0.2,2,31536000)"
   ]
  },
  {
   "cell_type": "markdown",
   "metadata": {},
   "source": [
    "Banken vil altså tjene litt på å gjøre det. I stedet for å regne ut med daglig forrentning kan vi imidlertid bruke kontinuerlig, som vil si at vi bruker eksponentialfunksjonen\n",
    "\n",
    "#### Eksempel 14:"
   ]
  },
  {
   "cell_type": "code",
   "execution_count": 28,
   "metadata": {},
   "outputs": [],
   "source": [
    "def account_balance_exponential(x,r,T):\n",
    "    return x*np.exp(r*T)"
   ]
  },
  {
   "cell_type": "markdown",
   "metadata": {},
   "source": [
    "La oss nå regne ut verdien av gjelden om to år med kontinuerlig forrentning:\n",
    "\n",
    "\n",
    "#### Eksempel 15"
   ]
  },
  {
   "cell_type": "code",
   "execution_count": null,
   "metadata": {},
   "outputs": [],
   "source": [
    "account_balance_exponential(100,0.2,2)"
   ]
  },
  {
   "cell_type": "markdown",
   "metadata": {},
   "source": [
    "Vi ser at dette er omtrent identisk med når vi la til renten hvert sekund. Eksponentialfunksjonen er altså en måte å regne ut vekst når økningen legges til veldig hyppig. "
   ]
  },
  {
   "cell_type": "markdown",
   "metadata": {},
   "source": [
    "# Flere eksempler\n",
    "Her er en funksjon som dobler et tall. Vi undersøker deretter:\n",
    "\n",
    "1. resultatet\n",
    "2. hva slags objekt funksjonen er\n",
    "3. hva slags objekt funksjonen returnerer\n",
    "\n",
    "#### Eksempel 16:"
   ]
  },
  {
   "cell_type": "code",
   "execution_count": null,
   "metadata": {},
   "outputs": [],
   "source": [
    "def f(x):\n",
    "    return 2*x\n",
    "\n",
    "print(f(8))            # printer resultatet av funksjonen når argumentet er 8\n",
    "print(type(f))         # printer hvilken type objekt det er\n",
    "print(type(f(5)))      # printer hvilken type resultate av funksjonen er"
   ]
  },
  {
   "cell_type": "markdown",
   "metadata": {},
   "source": [
    "En funksjon er noe som \"gjør noe\". Funksjonen over returnerer det dobbelte av argumentet x, for eksempel 8. Med 8 som argument blir resultatet 16. Symbolet `f` representerer nå en funksjon (`function`), som vi ser er resultatet av `print(type(f))`. Men dersom vi *kaller* funksjonen med for eksemple argumentet 5, får vi resultatet av funksjonen, som er av type `int`. Funksjoner trenger imidlertid ikke retunere noe. Dette er også en funksjon:\n",
    "\n",
    "#### Eksempel 17:"
   ]
  },
  {
   "cell_type": "code",
   "execution_count": null,
   "metadata": {},
   "outputs": [],
   "source": [
    "def hello():\n",
    "    print('Hello world!')\n",
    "\n",
    "hello()"
   ]
  },
  {
   "cell_type": "markdown",
   "metadata": {},
   "source": [
    "Du kaller funksjoner ved å skrive funksjonen med argumentet i parentes etter navnet. Er det ingen argumenter, skriver du tomme parenteser."
   ]
  },
  {
   "cell_type": "markdown",
   "metadata": {},
   "source": [
    "En funksjon er også en variabel og et objekt. Du kan for eksempel definere en ny variabel som en tidligere definert funksjon:\n",
    "\n",
    "#### Eksempel 18:"
   ]
  },
  {
   "cell_type": "code",
   "execution_count": null,
   "metadata": {},
   "outputs": [],
   "source": [
    "hi=hello\n",
    "hi()"
   ]
  },
  {
   "cell_type": "markdown",
   "metadata": {},
   "source": [
    "Av og til ønsker du at argumentene til en funksjon skal være valgfrie. Da kan du definere en standard (\"default\") verdi for argumentet:\n",
    "\n",
    "#### Eksempel 19:"
   ]
  },
  {
   "cell_type": "code",
   "execution_count": null,
   "metadata": {},
   "outputs": [],
   "source": [
    "def f(x,a=2):\n",
    "    return a*x\n",
    "\n",
    "print(f(70))\n",
    "f(70,3)"
   ]
  },
  {
   "cell_type": "markdown",
   "metadata": {},
   "source": [
    "Legg merke til at argumentene til en funksjon settes inn i en parentes. For `f(x,y)` for eksempel, så er `x` og `y` argumenter til funksjonen `f`. Disse står inne i en parentes `(x,y)`. Denne parentesen er et objekt i seg selv og kalles en `tuple`. Det går derfor an å definere alle argumentene *først*, og så la funksjonen evaluere dem. La oss for eksempel si at `x=20` og `y=50`, slik at `(x,y)=(20,50)`. Vi kan da definere variablene først og så evaluere funksjonen på følgende måte"
   ]
  },
  {
   "cell_type": "code",
   "execution_count": null,
   "metadata": {},
   "outputs": [],
   "source": [
    "args=(20,50)\n",
    "f(*args)"
   ]
  },
  {
   "cell_type": "markdown",
   "metadata": {},
   "source": [
    "Dette er en mulighet som kan være veldig nyttig i mange sammenhenger. En `tuple`skiller seg fra en liste (`list`) ved at sistnevnte defineres med hakeparenteser `[]` i stedet for runde parenteser `()`. Vi skal senere komme tilbake til forskjellene på en liste og en tuple. "
   ]
  },
  {
   "cell_type": "markdown",
   "metadata": {},
   "source": [
    "# Tilbud og etterspørsel"
   ]
  },
  {
   "cell_type": "markdown",
   "metadata": {},
   "source": [
    "La oss definere en tilbud- og etterspørselsfunksjon. Disse funksjonene skal vise hvilken ***pris*** konsumentene maksimalt er villige til å betale for en gitt mengde, og hvor mye produsentene minimum må ha for å selge varen. \n",
    "\n",
    "Den høyeste prisen er det bare noen få konsumenter som er villige til å betale, så desto større kvantum `x` som skal selges, desto lavere må prisen være. Etterspørselsfunksjonen må derfor være fallende (lavere pris ved høyere kvantum).\n",
    "\n",
    "Den laveste prisen er det bare den mest effektive bedriften som klarer å produsere lønnsomt for. Ettersom kvantum `x` øker vil flere, men mindre effektive bedrifter, tilby varen. Desto større kvantum, desto høyere pris kreves per enhet. Tilbudsfunksjonen bør derfor være stigende (høyere pris ved høyere kvantum).\n",
    "\n",
    "Her er forslag til henholdsvis tilbud og etterspørselsfunksjoner:\n",
    "\n",
    "#### Eksempel 20:"
   ]
  },
  {
   "cell_type": "code",
   "execution_count": 16,
   "metadata": {},
   "outputs": [],
   "source": [
    "#Creating a function that returns total supply given a price p\n",
    "def supply(x):\n",
    "    return x**2\n",
    "    \n",
    "#Creating a function that returns total demand given a price p\n",
    "def demand(x):\n",
    "    return 125/(5+x)"
   ]
  },
  {
   "cell_type": "markdown",
   "metadata": {},
   "source": [
    "## Oppgaver:"
   ]
  },
  {
   "cell_type": "markdown",
   "metadata": {},
   "source": [
    "#### Oppgave 1:\n",
    "\n",
    "Sjekk med nummeriske eksempler at tilbudskurven faktisk er økende og etterspørselskurven faktisk er fallende.\n",
    "\n",
    "*Du lager en ny celle du kan kjøre kode i, ved å trykke \"b\" mens denne cellen er markert (enkeltklikk på denne cellen, ikke dobbelklikk)*"
   ]
  },
  {
   "cell_type": "markdown",
   "metadata": {},
   "source": [
    "#### Oppgave 2:\n",
    "Finn med prøving og feiling eller på annen måte hvilket kvantum som gir likhet mellom tilbud og etterspørsel. Hvilken pris gir slik kvantum?"
   ]
  },
  {
   "cell_type": "markdown",
   "metadata": {},
   "source": [
    "#### Oppgave 3:\n",
    "a) `exp`er \"eksponentialfunksjonen\". Den ligger i numpy som `np.exp`. "
   ]
  },
  {
   "cell_type": "markdown",
   "metadata": {},
   "source": [
    "##### [< Forrige](1%20-%20variabler.ipynb)     |     [Neste >](3%20-%20eksponent%20og%20log.ipynb)"
   ]
  }
 ],
 "metadata": {
  "kernelspec": {
   "display_name": "Python 3",
   "language": "python",
   "name": "python3"
  },
  "language_info": {
   "codemirror_mode": {
    "name": "ipython",
    "version": 3
   },
   "file_extension": ".py",
   "mimetype": "text/x-python",
   "name": "python",
   "nbconvert_exporter": "python",
   "pygments_lexer": "ipython3",
   "version": "3.7.5"
  }
 },
 "nbformat": 4,
 "nbformat_minor": 4
}
