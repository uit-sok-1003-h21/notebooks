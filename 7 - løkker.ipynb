{
 "cells": [
  {
   "cell_type": "markdown",
   "id": "a2f3208f",
   "metadata": {},
   "source": [
    "##### [< Forrige](6%20-%20oppslag%20og%20pandas.ipynb)     |     [Neste >](7%20-%20simulering.ipynb)"
   ]
  },
  {
   "cell_type": "markdown",
   "id": "e9b3f8f1",
   "metadata": {},
   "source": [
    "# 7 - Løkker"
   ]
  },
  {
   "cell_type": "markdown",
   "id": "b947848b",
   "metadata": {},
   "source": [
    "Kommer ..."
   ]
  },
  {
   "cell_type": "markdown",
   "id": "1e37545a",
   "metadata": {},
   "source": [
    "##### [< Forrige](6%20-%20oppslag%20og%20pandas.ipynb)     |     [Neste >](7%20-%20simulering.ipynb)"
   ]
  }
 ],
 "metadata": {
  "kernelspec": {
   "display_name": "Python 3",
   "language": "python",
   "name": "python3"
  },
  "language_info": {
   "codemirror_mode": {
    "name": "ipython",
    "version": 3
   },
   "file_extension": ".py",
   "mimetype": "text/x-python",
   "name": "python",
   "nbconvert_exporter": "python",
   "pygments_lexer": "ipython3",
   "version": "3.7.5"
  }
 },
 "nbformat": 4,
 "nbformat_minor": 5
}
