{
 "cells": [
  {
   "cell_type": "markdown",
   "metadata": {},
   "source": [
    "# Hva er Python?"
   ]
  },
  {
   "cell_type": "markdown",
   "metadata": {},
   "source": [
    "Da de første datamaskinene kom på 40-tallet, måtte brukerne gi maskinene instruksjoner i form av maskinkode. Datamaskiner er binære og forstår kun to tegn; 1 og 0, det vil si \"av\" og \"på\". Brukeren måtte derfor forklare maskinen hva den skulle gjøre ved å skrive ned problemet som en lang rekke enere og nuller. Det ble raskt klart at dette var en ekstremt krevende oppgave. Programmeringsspråk ble derfor funnet opp for at mennesker skulle kunne gi instruksjoner til datamaskiner på et forståelig språk.\n",
    "\n",
    "Stort sett alle programmeringsspråk henter syntaksen fra engelsk. Koden oversettes så til maskinspråk, noe som kalles å \"kompilere\" (\"compile\" på engelsk). Datamaskinen kan så behandle den kompilerte maskinkoden. \n",
    "\n",
    "Programmeringsspråk deles inn i høynivå- og lavnivåspråk. Forskjellen på høy- og lavnivå er hvor mye støtte språket gir til brukeren. Slik støtte gjør det enklere å programmere, men er kostbart fordi det gir en mindre effektiv kode."
   ]
  },
  {
   "cell_type": "markdown",
   "metadata": {},
   "source": [
    "Lavnivåspråk er gir svært effektiv og rask kode, men er mer krevende og mindre intuitive å programmere. C++ er et lavnivåspråk. Eksemplet under skriver ut tallene 0 til og med 4:\n",
    "\n",
    "        for (int i = 0; i < 5; i++) {\n",
    "          std::cout << i << \"\\n\";\n",
    "        }\n",
    "\n",
    "Vi kan sammenligne dette med tilsvarende kode i Python, som er et høynivåspråk:"
   ]
  },
  {
   "cell_type": "code",
   "execution_count": 2,
   "metadata": {},
   "outputs": [
    {
     "name": "stdout",
     "output_type": "stream",
     "text": [
      "0\n",
      "1\n",
      "2\n",
      "3\n",
      "4\n"
     ]
    }
   ],
   "source": [
    "for i in range(5):\n",
    "    print(i)"
   ]
  },
  {
   "cell_type": "markdown",
   "metadata": {},
   "source": [
    "Om du har åpnet denne filen i Jupyter notebook (se under for instruksjoner), kan du kjøre Pythonkoden ved å trykke SHIFT+ENTER. \n",
    "\n",
    "Vi ser at Python-koden er langt enklere, og har en syntaks som ligner mer på vanlig engelsk. Generelt er Python et svært intuitivt språk som er enkelt å programmere i. Språket ble funnet opp av Guido van Rossum i 1989 og er i dag verdens mest populære programmeringsspråk rangert ut fra googlesøk. \n",
    "\n",
    "Selv om Python er er et høynivåspråk, er det svært effektivt på grunn av et stort antall bibliotek hvor mye er skrevet direkte i C eller C++. Ett slik bibliotek heter \"Numpy\", og har svært effektive metoder for matriseoperasjoner. \"Pandas\" er et svært effektivt bibliotek for databehandling, og \"Statsmodels\" er et kraftfullt verktøy for dataanalyse.  df asdfasd \n"
   ]
  },
  {
   "cell_type": "markdown",
   "metadata": {},
   "source": [
    "## Installasjon"
   ]
  },
  {
   "cell_type": "markdown",
   "metadata": {},
   "source": [
    "<a href=\"https://www.python.org/downloads/release/python-3810/\"><img align=\"right\" width=\"250\" src=\"python-logo.png\" style=\"padding:10px;\"></a>I dette kurset skal vi kjøre Python-kode i noe som heter \"Jupyter\", som dette notatet er skrevet i. Før vi installerer Jupyter må vi imidlertid ha installert Python, som du finner [her](https://www.python.org/downloads/release/python-3810/). Dette er versjon 3.8.10. Du kan bruke en annen versjon om du vil, for de tingene vi skal gjøre har det antakeligvis lite å si. Du bør imidlertid velge en Python 3-versjon, da det er ganske store forskjeller i syntaksen til Python 2 og Python 3. "
   ]
  },
  {
   "cell_type": "markdown",
   "metadata": {},
   "source": [
    "### Installasjonsveiledning Python:"
   ]
  },
  {
   "cell_type": "markdown",
   "metadata": {},
   "source": [
    "For Windows (lager for mac og Linux senere). (Kommer til å lage egne dokumenter om dette)\n",
    "1. Rull ned til du ser installasjonslenkene, og velg \"Windows installer (64-bit)\" for windows eller \"macOS 64-bit Intel installer\" for Mac\n",
    "\n",
    "\n",
    "2. Åpne installasjonsfilen, hak av begge boksene, og tykk \"Customize installation\"\n",
    "\n",
    "\n",
    "![](python_install1_win.png)\n",
    "\n",
    "\n",
    "3. Hak av alle bokser under \"Optional Features\" og trykk \"Next\"\n",
    "\n",
    "\n",
    "![](python_install2_win.png)\n",
    "\n",
    "\n",
    "4. Hak av alle bokser under \"Advanced Options\" og trykk \"Next\"\n",
    "\n",
    "\n",
    "![](python_install3_win.png)"
   ]
  },
  {
   "cell_type": "markdown",
   "metadata": {},
   "source": [
    "### Åpne kommandovinduet som administrator (kun for installasjon av pakker!!!)"
   ]
  },
  {
   "cell_type": "markdown",
   "metadata": {},
   "source": [
    "1. Trykk på windows-knappen og skriv \"comm\" og *høyreklikk*  \"Command Promt\" (Norsk: skriv \"lede\" og høyreklikk \"Ledetekst\")\n",
    "2. Velg \"Run as aministrator\" (\"Kjør som administrator\")"
   ]
  },
  {
   "cell_type": "markdown",
   "metadata": {},
   "source": [
    "### Installasjon av Jupyter og andre Python-pakker"
   ]
  },
  {
   "cell_type": "markdown",
   "metadata": {},
   "source": [
    "Du installerer alt av pakker til Python i kommandovinduet som administrator. Å installere pakker er superenkelt når du gjør det på denne måten. Alt du trenger å skrive er\n",
    "\n",
    "    pip install <navn på pakke>\n",
    "\n",
    "Du bytter ut <navn på pakke> med navnet på den pakken du vil installere. Den viktigste pakken for oss nå er Jupyter. Med den kan du lese denne filen interaktivt. Når du skal installere den skriver du rett og slett\n",
    "        \n",
    "    pip install notebook\n",
    "        \n",
    "Det finnes en litt mer avansert versjon av Jupyter, og mange liker å bruke den, så det kan være greit å ha den installert også. Denne kalles JupyterLab, og installeres slik:\n",
    "        \n",
    "    pip install jupyterlab\n",
    "  "
   ]
  },
  {
   "cell_type": "markdown",
   "metadata": {},
   "source": [
    "### Åpne kommandovinduet som bruker og lag kursmappe"
   ]
  },
  {
   "cell_type": "markdown",
   "metadata": {},
   "source": [
    "Det er en fordel å ha en egen mappe hvor du kan lagre alt som har med dette kurset å gjøre. Du kan lage en slik mappe ved å skrive inn følgende:\n",
    "    \n",
    "    mkdir sok-1003\n",
    "    \n",
    "Du navigerer så inn i denne mappen ved å skrive:\n",
    "\n",
    "    cd sok-1003\n",
    "    \n",
    "Vil du opp et nivå igjen skriver du\n",
    "\n",
    "    cd .."
   ]
  },
  {
   "cell_type": "markdown",
   "metadata": {},
   "source": [
    "## Hente kursmateriell fra github"
   ]
  },
  {
   "cell_type": "markdown",
   "metadata": {},
   "source": [
    "Kursmateriellet til dette kurset ligger på github. Du kan se filene i nettleseren her: https://github.com/uit-sok-1003-h21/notebooks. For å få tilgang til dem er det imidlertid best å laste dem ned med versjonskontrollverktøyet \"git\". Dette ligger inn i Anaconda-pakken. Slik laster du ned kursmateriellet med git:\n",
    "\n",
    "1. Åpne kommandolinjeverktøyet i Anaconda (\"CMD.exe Promt\")\n",
    "2. Lag en ny mappe på ditt hjemmeområde ved å skrive inn \n",
    "        mkdir sok-1003\n",
    "3. Gå inn i denne mappen ved å skrive \n",
    "        cd sok-1003\n",
    "4. Last ned kursmateriellet ved å kopiere inn følgende kommando i kommandovinduet: \n",
    "        git clone https://github.com/uit-sok-1003-h21/notebooks/\n",
    "\n"
   ]
  },
  {
   "cell_type": "markdown",
   "metadata": {},
   "source": [
    "Du kan nå åpne Jupyter ved å klikke på JupyterLab i \"Anakonda Navigator\". Det er også et ikon for Jupyter der, men JupyterLab gir mer funksjonalitet enn Juptyer. \n",
    "\n",
    "Når du har åpnet JupyterLab skal det åpnes et nettleservindu med liste over filer og mapper til venstre. Naviger deg frem til sok-1003/notebooks/Komme i gang med python.ipynb. Du kan nå lese dette dokumentet interaktivt. Det første du kan prøve på er å trykke i cellen under og kjøre koden ved å trykke SHIFT+ENTER.\n",
    "\n",
    "For å starte Jupyter må vi åpne kommanduvinduet igjen, men denne gangen *ikke* som administrator. Det gjør du ved å venstreklikke i stedet for høyreklikke i punkt 1. øverst. Når du ikke starter kommandovinduet som administrator, vil vinduet starte opp på ditt hjemmeområde, og det er en fordel når du skal starte Jupyter.\n",
    "\n"
   ]
  },
  {
   "cell_type": "code",
   "execution_count": null,
   "metadata": {},
   "outputs": [],
   "source": [
    "print('Hello World!')"
   ]
  },
  {
   "cell_type": "markdown",
   "metadata": {},
   "source": [
    "I de følgende leksjonene vil det forutsettes at dere leser disse notatene interaktivt i Jupyter Lab eller Notebook "
   ]
  },
  {
   "cell_type": "markdown",
   "metadata": {},
   "source": [
    "## DataCamp"
   ]
  },
  {
   "cell_type": "markdown",
   "metadata": {},
   "source": [
    "<img align=\"right\" width=\"250\" src=\"datacamp.png\" style=\"padding:10px;\">Vi kommer i utstrakt grad til å bruke [DataCamp](https://www.datacamp.com/) i dette kurset. DataCamp er en plattform med nettleksjoner i programmering, med selvrettende øvelser. En del av pensum og obligatoriske øvelser i dette kurset vil hentes fra DataCamp."
   ]
  },
  {
   "cell_type": "markdown",
   "metadata": {},
   "source": [
    "## Alternative måter å bruke Python"
   ]
  },
  {
   "cell_type": "markdown",
   "metadata": {},
   "source": [
    "<img align=\"right\" width=\"250\" src=\"command.png\" style=\"padding:10px;\"> Det finnes flere alternative måter å installere og jobbe med Python. Vi kommer som nevnt til å bruke Jupyter og Anaconda, men det kan være greit å være klar over alternative oppsett. Kanskje er det noen av dere som også ønsker å gjøre ting utover hva dette kurset dekker, og da kan det hende at det blir behov for andre verktøy enn Jupyter.\n",
    "\n",
    "Den enkleste installasjonen er å kun installere selve Python-programmet  direkte fra https://www.python.org/ og koden kjøres fra kommandolinje (bildet til høyre). Python startes med kommandoen \"python\". På mac må man ofte legge til versjonsnummeret, for eksempel \"python38\" for versjon 3.8. Dette gir en interaktiv økt der pythonkoden kjøres hver gang du trykker ENTER.\n",
    "\n",
    "<img align=\"left\" width=\"250\" src=\"visualcode.png\" style=\"padding:10px;\">Å bruke en såkalt \"IDE\" gir imidlertid langt mer fleksibilitet. En IDE er et program som hejlper deg å lag og redigere python-filer. Dersom du skal lage et mer omfattende program i Python er det hensiktsmessig å lage filer med programkode. Hver fil er en modul som du kan kalle opp dersom du arbeider i samme mappe. Det går for eksempel an å samle noen funksjoner du bruker mye i en fil, og så importere denne filen når du skriver kode i Jupyter.\n",
    "\n",
    "Det finnes flere ulike alternativer for IDE'er, men et godt og gratis alternativ er [Visual Studio Code](https://code.visualstudio.com/download). VS Code støtter også flere andre programmeringsspråk. "
   ]
  },
  {
   "cell_type": "markdown",
   "metadata": {},
   "source": []
  }
 ],
 "metadata": {
  "kernelspec": {
   "display_name": "Python 3",
   "language": "python",
   "name": "python3"
  },
  "language_info": {
   "codemirror_mode": {
    "name": "ipython",
    "version": 3
   },
   "file_extension": ".py",
   "mimetype": "text/x-python",
   "name": "python",
   "nbconvert_exporter": "python",
   "pygments_lexer": "ipython3",
   "version": "3.8.10"
  }
 },
 "nbformat": 4,
 "nbformat_minor": 4
}
