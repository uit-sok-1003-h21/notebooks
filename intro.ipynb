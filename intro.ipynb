{
 "cells": [
  {
   "cell_type": "markdown",
   "metadata": {},
   "source": [
    "# Hva er Python?"
   ]
  },
  {
   "cell_type": "markdown",
   "metadata": {},
   "source": [
    "Da de første datamaskinene kom på 40-tallet, måtte brukerne gi maskinene instruksjoner i form av maskinkode. Datamaskiner er binære og forstår kun to tegn; 1 og 0, det vil si \"av\" og \"på\". Brukeren måtte derfor forklare maskinen hva den skulle gjøre ved å skrive ned problemet som en lang rekke enere og nuller. Det ble raskt klart at dette var en ekstremt krevende oppgave. Programmeringsspråk ble derfor funnet opp for at mennesker skulle kunne gi instruksjoner til datamaskiner på et forståelig språk.\n",
    "\n",
    "Stort sett alle programmeringsspråk henter syntaksen fra engelsk. Koden oversettes så til maskinspråk, noe som kalles å \"kompilere\" (\"compile\" på engelsk). Datamaskinen kan så behandle den kompilerte maskinkoden. \n",
    "\n",
    "Programmeringsspråk deles inn i høynivå- og lavnivåspråk. Forskjellen på høy- og lavnivå er hvor mye støtte språket gir til brukeren. Slik støtte gjør det enklere å programmere, men er kostbart fordi det gir en mindre effektiv kode. "
   ]
  },
  {
   "cell_type": "code",
   "execution_count": 2,
   "metadata": {},
   "outputs": [
    {
     "data": {
      "text/plain": [
       "'C:\\\\Users\\\\esi000\\\\AppData\\\\Roaming\\\\jupyter'"
      ]
     },
     "execution_count": 2,
     "metadata": {},
     "output_type": "execute_result"
    }
   ],
   "source": [
    "from jupyter_core.paths import jupyter_data_dir\n",
    "jupyter_data_dir()"
   ]
  },
  {
   "cell_type": "markdown",
   "metadata": {},
   "source": [
    "Lavnivåspråk er gir svært effektiv og rask kode, men er mer krevende og mindre intuitive å programmere. C++ er et lavnivåspråk. Eksemplet under skriver ut tallene 0 til og med 4:\n",
    "\n",
    "        for (int i = 0; i < 5; i++) {\n",
    "          std::cout << i << \"\\n\";\n",
    "        }\n",
    "\n",
    "Vi kan sammenligne dette med tilsvarende kode i Python, som er et høynivåspråk:"
   ]
  },
  {
   "cell_type": "code",
   "execution_count": null,
   "metadata": {},
   "outputs": [],
   "source": [
    "for i in range(5):\n",
    "    print(i)"
   ]
  },
  {
   "cell_type": "markdown",
   "metadata": {},
   "source": [
    "Om du har åpnet denne filen i Jupyter notebook (se under for instruksjoner), kan du kjøre Pythonkoden ved å trykke SHIFT+ENTER. \n",
    "\n",
    "Vi ser at Python-koden er langt enklere, og har en syntaks som ligner mer på vanlig engelsk. Generelt er Python et svært intuitivt språk som er enkelt å programmere i. Språket ble funnet opp av Guido van Rossum i 1989 og er i dag verdens mest populære programmeringsspråk rangert ut fra googlesøk. \n",
    "\n",
    "Selv om Python er er et høynivåspråk, er det svært effektivt på grunn av et stort antall bibliotek hvor mye er skrevet direkte i C eller C++. Ett slik bibliotek heter \"Numpy\", og har svært effektive metoder for matriseoperasjoner. \"Pandas\" er et svært effektivt bibliotek for databehandling, og \"Statsmodels\" er et kraftfullt verktøy for dataanalyse.  df asdfasd \n"
   ]
  },
  {
   "cell_type": "markdown",
   "metadata": {},
   "source": [
    "## Jupyter"
   ]
  },
  {
   "cell_type": "markdown",
   "metadata": {},
   "source": [
    "<a href=\"https://jupyter-pilot.azure.uit.no/\"><img align=\"left\" src=\"assets/jupyter.png\" style=\"padding:10px;\"></a>For å lese dette dokumentet interaktivt må du åpne det i Jupyter. Jupyter gjør at du kan kjøre koden som ligger i dokumentene, og at du kan endre og skrive din egen kode. Undervisningen i dette kurset vil hovedsakelig gjøres i Jupyter. \n",
    "\n",
    "Det finnes flere ulike måter å kjøre Jupyter på. Det kan kjøres lokalt på PC'en eller på nettet. Vi skal bruke løsningen på uit.no som du finner [her](https://jupyter-pilot.azure.uit.no/). \n",
    "\n",
    "Om du nå har åpnet Jupyter, så er neste steg å få tilgang på dette og de andre forelesningsnotatene. Disse ligger på noe som heter github."
   ]
  },
  {
   "cell_type": "markdown",
   "metadata": {},
   "source": [
    "## Hente kursmateriell fra github"
   ]
  },
  {
   "cell_type": "markdown",
   "metadata": {},
   "source": [
    "<a href=\"https://github.com/uit-sok-1003-h21/notebooks\"><img align=\"right\" src=\"assets/github.png\" style=\"padding:20px;\"></a>Github er et av mange nettsteder som tilbyr \"versjonskontroll\" på git-platformen. Git er et åpen-kildekode-prosjekt som organiserer programmeringsprosjekt. I et typisk prosjekt er det flere personer som samarbeider og som kan endre koden. Git gjør det mulig å holde orden på hvem som endret hva når. Det gjør det også enkelt å gå tilbake til tidligere versjoner, og du kan \"forke\", som vil si å lage en ny gren med en annen kode en hovedgrenen. \n",
    "\n",
    "Forelesningsnotatene for dette kurset er altså lagret i et \"repositorie\", eller \"repo\" som det ofte kalles, på github.com.    Du kan se filene i nettleseren her: https://github.com/uit-sok-1003-h21/notebooks. Du kan laste dem direkte ned derfra, men det er mye bedre å bruke git-verktøyet til å laste dem ned. Da kan du med en enkel kommando oppdatere filene når jeg gjør endringer i notatene. \n",
    "\n",
    "For å hente filene til Jupyter gjør du slik:\n",
    "\n",
    "\n",
    "1. [Åpne et \"terminalvindu\"](https://uit-sok-1003-h21.github.io/notebooks/instruksjoner/Terminal.html)\n",
    "2. Lag en ny mappe på ditt hjemmeområde ved å skrive inn i terminalvinduet\n",
    "\n",
    "        mkdir sok-1003\n",
    "3. Gå så inn i den mappen du har laget ved å skrive \n",
    "\n",
    "        cd sok-1003\n",
    "4. Last ned kursmateriellet ved å kopiere inn følgende kommando i kommandovinduet: \n",
    "        git clone https://github.com/uit-sok-1003-h21/notebooks/\n",
    "\n",
    "\n",
    "\n",
    "Kursmateriellet skal nå ligge under sok-1003/notebooks, som du kan klikke deg frem til i filmenyen til venstre. Åpne dette dokumentet, som altså heter \"Komme i gang med python.ipynb\".\n",
    "\n",
    "[Her finner du de mest brukte git-kommandoene](https://uit-sok-1003-h21.github.io/notebooks/instruksjoner/git.html)\n"
   ]
  },
  {
   "cell_type": "markdown",
   "metadata": {},
   "source": [
    "## Lese notebook-dokument i Jupyter"
   ]
  },
  {
   "cell_type": "markdown",
   "metadata": {},
   "source": [
    "Du skal nå forhåpentligvis lese dette dokumentet interaktivt. Det første du kan prøve på er å trykke i cellen under og kjøre koden ved å trykke SHIFT+ENTER. Om ikke teksten \"Hello World!\" dukker opp under, så, gå gjennom prosedyren over én gang til. "
   ]
  },
  {
   "cell_type": "code",
   "execution_count": null,
   "metadata": {},
   "outputs": [],
   "source": [
    "print('Hallo verden!')"
   ]
  },
  {
   "cell_type": "markdown",
   "metadata": {},
   "source": [
    "Legg merke til funksjonen `print()`. Den viser frem ut argumentet under cellen der den er brukt, og er en funksjon vi kommer til å bruke mye. I de følgende leksjonene vil det forutsettes at dere leser disse notatene interaktivt i Jupyter Lab eller Notebook. \n",
    "\n",
    "*print*, i betydningen å skrive ut til skjermen, har vi forøvrig ikke noe godt norsk ord for, så dette vil heretter kalles for å *printe*. stavekontroll asdfasf "
   ]
  },
  {
   "cell_type": "markdown",
   "metadata": {},
   "source": [
    "## DataCamp"
   ]
  },
  {
   "cell_type": "markdown",
   "metadata": {},
   "source": [
    "<img align=\"right\" width=\"250\" src=\"assets/datacamp.png\" style=\"padding:10px;\">Vi kommer i utstrakt grad til å bruke [DataCamp](https://www.datacamp.com/) i dette kurset. DataCamp er en plattform med nettleksjoner i programmering, med selvrettende øvelser. En del av pensum og obligatoriske øvelser i dette kurset vil hentes fra DataCamp."
   ]
  },
  {
   "cell_type": "markdown",
   "metadata": {},
   "source": [
    "## Alternative måter å bruke Python på"
   ]
  },
  {
   "cell_type": "markdown",
   "metadata": {},
   "source": [
    "<img align=\"right\" width=\"250\" src=\"assets/command.png\" style=\"padding:10px;\"> Det finnes flere alternative måter å installere og jobbe med Python. Vi kommer som nevnt til å bruke Jupyter og Anaconda, men det kan være greit å være klar over alternative oppsett. Kanskje er det noen av dere som også ønsker å gjøre ting utover hva dette kurset dekker, og da kan det hende at det blir behov for andre verktøy enn Jupyter.\n",
    "\n",
    "Den enkleste installasjonen er å kun installere selve Python-programmet  direkte fra https://www.python.org/ og koden kjøres fra kommandolinje (bildet til høyre). Python startes med kommandoen \"python\". På mac må man ofte legge til versjonsnummeret, for eksempel \"python38\" for versjon 3.8. Dette gir en interaktiv økt der pythonkoden kjøres hver gang du trykker ENTER.\n",
    "\n",
    "<img align=\"left\" width=\"250\" src=\"assets/visualcode.png\" style=\"padding:10px;\">Å bruke en såkalt \"IDE\" gir imidlertid langt mer fleksibilitet. En IDE er et program som hejlper deg å lage og redigere python-filer. Dersom du skal lage et mer omfattende program i Python er det hensiktsmessig å lage filer. Hver fil er en modul som du kan kalle opp dersom du arbeider i samme mappe. Det går for eksempel an å samle noen funksjoner du bruker mye i en fil, og så importere denne filen når du skriver kode i Jupyter.\n",
    "\n",
    "Det finnes flere ulike alternativer for IDE'er, men et godt og gratis alternativ er [Visual Studio Code](https://code.visualstudio.com/download). VS Code støtter også flere andre programmeringsspråk. "
   ]
  },
  {
   "cell_type": "markdown",
   "metadata": {},
   "source": [
    "## Språk"
   ]
  },
  {
   "cell_type": "markdown",
   "metadata": {},
   "source": [
    "Python, som de fleste andre programmeringsspråk, er basert på engelsk språk. Det er naturlig, siden engelsk er det overlegent største andrespråket i verden. Av samme grunn bør all kode i utgangspunktet skriver på engelsk. Kode bør kunne deles globalt, og da bør den skrives på et språk flest mulig forstår.\n",
    "\n",
    "Men selv om koden er engelsk, så er ofte brukergrensesnittet på lokalt språk. Du har kanskje norsk som språk i nettleseren din men bortsett fra navnene i menyene er all kode på engelsk. \n",
    "\n",
    "I dette kurset skal vi gjøre det på tilsvarende måte. All kode skal i hovedsak skrives på engelsk. Fremvisning kan imidlertid gjøres på norsk, slik som dette:"
   ]
  },
  {
   "cell_type": "code",
   "execution_count": 2,
   "metadata": {},
   "outputs": [
    {
     "name": "stdout",
     "output_type": "stream",
     "text": [
      "Her er det lov å skrive norsk, for dette skal ut til skjermen!\n"
     ]
    }
   ],
   "source": [
    "#let us make a simle program\n",
    "my_sentence=\"Her er det lov å skrive norsk, for dette skal ut til skjermen!\"\n",
    "print(my_sentence)"
   ]
  },
  {
   "cell_type": "markdown",
   "metadata": {},
   "source": [
    "Legg merke til den første setningen i programmet, `#let us make a simle program`. Hash-tenget `#` først angir at denne linjen ikke skal oppfattes som en del av programmet. Pyhon overser dermed denne setningen. Denne funksjonen finnes, slik at vi kan *dokumentere* koden. Det vil si at vi skriver inn i koden hva som skjer. \n",
    "\n",
    "Program blir ofte veldig fort veldig komplekse og uoversiktlige. Uten noen forklaring er det vanligvis svært vanskelig å forstå hva tidligere programmerere har tenkt for noen som kommer ny inn i et prosjekt. Det er også enklere for deg selv å gå tilbake og lese din egen kode, om du har vært flink å dokumentere den med kommentarer. "
   ]
  }
 ],
 "metadata": {
  "kernelspec": {
   "display_name": "Python 3",
   "language": "python",
   "name": "python3"
  },
  "language_info": {
   "codemirror_mode": {
    "name": "ipython",
    "version": 3
   },
   "file_extension": ".py",
   "mimetype": "text/x-python",
   "name": "python",
   "nbconvert_exporter": "python",
   "pygments_lexer": "ipython3",
   "version": "3.7.5"
  }
 },
 "nbformat": 4,
 "nbformat_minor": 4
}
